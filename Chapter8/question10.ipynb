{
 "cells": [
  {
   "cell_type": "markdown",
   "metadata": {},
   "source": [
    "# Chapter 8\n",
    "\n",
    "## Question 10\n",
    "\n",
    "Using boosting to predict `Salary` in the `Hitters` data set"
   ]
  },
  {
   "cell_type": "code",
   "execution_count": 80,
   "metadata": {},
   "outputs": [],
   "source": [
    "import statsmodels.api as sm\n",
    "import numpy as np\n",
    "import pandas as pd\n",
    "import seaborn as sns\n",
    "import matplotlib.pyplot as plt\n",
    "\n",
    "import sklearn.model_selection\n",
    "import sklearn.ensemble\n",
    "import sklearn.tree\n",
    "import sklearn.metrics\n",
    "import sklearn.neighbors\n",
    "\n",
    "from collections import namedtuple\n",
    "from tqdm import tqdm_notebook\n",
    "\n",
    "sns.set(style=\"whitegrid\")"
   ]
  },
  {
   "cell_type": "code",
   "execution_count": 3,
   "metadata": {
    "scrolled": true
   },
   "outputs": [
    {
     "data": {
      "text/html": [
       "<div>\n",
       "<style scoped>\n",
       "    .dataframe tbody tr th:only-of-type {\n",
       "        vertical-align: middle;\n",
       "    }\n",
       "\n",
       "    .dataframe tbody tr th {\n",
       "        vertical-align: top;\n",
       "    }\n",
       "\n",
       "    .dataframe thead th {\n",
       "        text-align: right;\n",
       "    }\n",
       "</style>\n",
       "<table border=\"1\" class=\"dataframe\">\n",
       "  <thead>\n",
       "    <tr style=\"text-align: right;\">\n",
       "      <th></th>\n",
       "      <th>AtBat</th>\n",
       "      <th>Hits</th>\n",
       "      <th>HmRun</th>\n",
       "      <th>Runs</th>\n",
       "      <th>RBI</th>\n",
       "      <th>Walks</th>\n",
       "      <th>Years</th>\n",
       "      <th>CAtBat</th>\n",
       "      <th>CHits</th>\n",
       "      <th>CHmRun</th>\n",
       "      <th>CRuns</th>\n",
       "      <th>CRBI</th>\n",
       "      <th>CWalks</th>\n",
       "      <th>League</th>\n",
       "      <th>Division</th>\n",
       "      <th>PutOuts</th>\n",
       "      <th>Assists</th>\n",
       "      <th>Errors</th>\n",
       "      <th>Salary</th>\n",
       "      <th>NewLeague</th>\n",
       "    </tr>\n",
       "  </thead>\n",
       "  <tbody>\n",
       "    <tr>\n",
       "      <th>-Andy Allanson</th>\n",
       "      <td>293</td>\n",
       "      <td>66</td>\n",
       "      <td>1</td>\n",
       "      <td>30</td>\n",
       "      <td>29</td>\n",
       "      <td>14</td>\n",
       "      <td>1</td>\n",
       "      <td>293</td>\n",
       "      <td>66</td>\n",
       "      <td>1</td>\n",
       "      <td>30</td>\n",
       "      <td>29</td>\n",
       "      <td>14</td>\n",
       "      <td>A</td>\n",
       "      <td>E</td>\n",
       "      <td>446</td>\n",
       "      <td>33</td>\n",
       "      <td>20</td>\n",
       "      <td>NaN</td>\n",
       "      <td>A</td>\n",
       "    </tr>\n",
       "    <tr>\n",
       "      <th>-Alan Ashby</th>\n",
       "      <td>315</td>\n",
       "      <td>81</td>\n",
       "      <td>7</td>\n",
       "      <td>24</td>\n",
       "      <td>38</td>\n",
       "      <td>39</td>\n",
       "      <td>14</td>\n",
       "      <td>3449</td>\n",
       "      <td>835</td>\n",
       "      <td>69</td>\n",
       "      <td>321</td>\n",
       "      <td>414</td>\n",
       "      <td>375</td>\n",
       "      <td>N</td>\n",
       "      <td>W</td>\n",
       "      <td>632</td>\n",
       "      <td>43</td>\n",
       "      <td>10</td>\n",
       "      <td>475.0</td>\n",
       "      <td>N</td>\n",
       "    </tr>\n",
       "    <tr>\n",
       "      <th>-Alvin Davis</th>\n",
       "      <td>479</td>\n",
       "      <td>130</td>\n",
       "      <td>18</td>\n",
       "      <td>66</td>\n",
       "      <td>72</td>\n",
       "      <td>76</td>\n",
       "      <td>3</td>\n",
       "      <td>1624</td>\n",
       "      <td>457</td>\n",
       "      <td>63</td>\n",
       "      <td>224</td>\n",
       "      <td>266</td>\n",
       "      <td>263</td>\n",
       "      <td>A</td>\n",
       "      <td>W</td>\n",
       "      <td>880</td>\n",
       "      <td>82</td>\n",
       "      <td>14</td>\n",
       "      <td>480.0</td>\n",
       "      <td>A</td>\n",
       "    </tr>\n",
       "    <tr>\n",
       "      <th>-Andre Dawson</th>\n",
       "      <td>496</td>\n",
       "      <td>141</td>\n",
       "      <td>20</td>\n",
       "      <td>65</td>\n",
       "      <td>78</td>\n",
       "      <td>37</td>\n",
       "      <td>11</td>\n",
       "      <td>5628</td>\n",
       "      <td>1575</td>\n",
       "      <td>225</td>\n",
       "      <td>828</td>\n",
       "      <td>838</td>\n",
       "      <td>354</td>\n",
       "      <td>N</td>\n",
       "      <td>E</td>\n",
       "      <td>200</td>\n",
       "      <td>11</td>\n",
       "      <td>3</td>\n",
       "      <td>500.0</td>\n",
       "      <td>N</td>\n",
       "    </tr>\n",
       "    <tr>\n",
       "      <th>-Andres Galarraga</th>\n",
       "      <td>321</td>\n",
       "      <td>87</td>\n",
       "      <td>10</td>\n",
       "      <td>39</td>\n",
       "      <td>42</td>\n",
       "      <td>30</td>\n",
       "      <td>2</td>\n",
       "      <td>396</td>\n",
       "      <td>101</td>\n",
       "      <td>12</td>\n",
       "      <td>48</td>\n",
       "      <td>46</td>\n",
       "      <td>33</td>\n",
       "      <td>N</td>\n",
       "      <td>E</td>\n",
       "      <td>805</td>\n",
       "      <td>40</td>\n",
       "      <td>4</td>\n",
       "      <td>91.5</td>\n",
       "      <td>N</td>\n",
       "    </tr>\n",
       "  </tbody>\n",
       "</table>\n",
       "</div>"
      ],
      "text/plain": [
       "                   AtBat  Hits  HmRun  Runs  RBI  Walks  Years  CAtBat  CHits  \\\n",
       "-Andy Allanson       293    66      1    30   29     14      1     293     66   \n",
       "-Alan Ashby          315    81      7    24   38     39     14    3449    835   \n",
       "-Alvin Davis         479   130     18    66   72     76      3    1624    457   \n",
       "-Andre Dawson        496   141     20    65   78     37     11    5628   1575   \n",
       "-Andres Galarraga    321    87     10    39   42     30      2     396    101   \n",
       "\n",
       "                   CHmRun  CRuns  CRBI  CWalks League Division  PutOuts  \\\n",
       "-Andy Allanson          1     30    29      14      A        E      446   \n",
       "-Alan Ashby            69    321   414     375      N        W      632   \n",
       "-Alvin Davis           63    224   266     263      A        W      880   \n",
       "-Andre Dawson         225    828   838     354      N        E      200   \n",
       "-Andres Galarraga      12     48    46      33      N        E      805   \n",
       "\n",
       "                   Assists  Errors  Salary NewLeague  \n",
       "-Andy Allanson          33      20     NaN         A  \n",
       "-Alan Ashby             43      10   475.0         N  \n",
       "-Alvin Davis            82      14   480.0         A  \n",
       "-Andre Dawson           11       3   500.0         N  \n",
       "-Andres Galarraga       40       4    91.5         N  "
      ]
     },
     "execution_count": 3,
     "metadata": {},
     "output_type": "execute_result"
    }
   ],
   "source": [
    "hitters = sm.datasets.get_rdataset(\"Hitters\", \"ISLR\").data\n",
    "\n",
    "hitters.head()"
   ]
  },
  {
   "cell_type": "code",
   "execution_count": 38,
   "metadata": {
    "scrolled": false
   },
   "outputs": [
    {
     "name": "stdout",
     "output_type": "stream",
     "text": [
      "AtBat          int64\n",
      "Hits           int64\n",
      "HmRun          int64\n",
      "Runs           int64\n",
      "RBI            int64\n",
      "Walks          int64\n",
      "Years          int64\n",
      "CAtBat         int64\n",
      "CHits          int64\n",
      "CHmRun         int64\n",
      "CRuns          int64\n",
      "CRBI           int64\n",
      "CWalks         int64\n",
      "League        object\n",
      "Division      object\n",
      "PutOuts        int64\n",
      "Assists        int64\n",
      "Errors         int64\n",
      "Salary       float64\n",
      "NewLeague     object\n",
      "LogSalary    float64\n",
      "dtype: object\n"
     ]
    }
   ],
   "source": [
    "print(hitters.dtypes)"
   ]
  },
  {
   "cell_type": "code",
   "execution_count": 40,
   "metadata": {
    "scrolled": true
   },
   "outputs": [
    {
     "name": "stdout",
     "output_type": "stream",
     "text": [
      "A    139\n",
      "N    124\n",
      "Name: League, dtype: int64\n",
      "\n",
      "W    134\n",
      "E    129\n",
      "Name: Division, dtype: int64\n",
      "\n",
      "A    141\n",
      "N    122\n",
      "Name: NewLeague, dtype: int64\n",
      "\n"
     ]
    }
   ],
   "source": [
    "for column in [\"League\", \"Division\", \"NewLeague\"]:\n",
    "    print(hitters[column].value_counts())\n",
    "    print()"
   ]
  },
  {
   "cell_type": "markdown",
   "metadata": {},
   "source": [
    "### (a) Remove the observations for whom the salary information is unknown, and then log-transform the salaries"
   ]
  },
  {
   "cell_type": "code",
   "execution_count": 20,
   "metadata": {},
   "outputs": [],
   "source": [
    "hitters = hitters.dropna(subset=[\"Salary\"])\n",
    "hitters[\"LogSalary\"] = np.log(hitters[\"Salary\"])"
   ]
  },
  {
   "cell_type": "markdown",
   "metadata": {},
   "source": [
    "### (b) Creating a training set consisting of the first 200 observations, and a test set consisting of the remaining observations"
   ]
  },
  {
   "cell_type": "code",
   "execution_count": 43,
   "metadata": {},
   "outputs": [],
   "source": [
    "# I'm not doing this, I'll use test_train_split instead\n",
    "X = hitters.drop(columns=[\"Salary\", \"LogSalary\"])\n",
    "y = hitters.LogSalary\n",
    "\n",
    "# Encode categoricals\n",
    "for col in  [\"League\", \"Division\", \"NewLeague\"]:\n",
    "    X = pd.concat([X, pd.get_dummies(X[col], prefix=col, drop_first=True)],axis=1).drop(columns=col)\n",
    "\n",
    "\n",
    "X_train, X_test, y_train, y_test = sklearn.model_selection.train_test_split(X, y, test_size=len(hitters)-200)"
   ]
  },
  {
   "cell_type": "markdown",
   "metadata": {},
   "source": [
    "### (c) Perform boosting on the training set with 1,000 trees for a range of values of the shrinkage parameter $\\lambda$. Produce a plot of shrinkage against training MSE."
   ]
  },
  {
   "cell_type": "code",
   "execution_count": 66,
   "metadata": {},
   "outputs": [
    {
     "data": {
      "application/vnd.jupyter.widget-view+json": {
       "model_id": "8bcca9a377c14234a6d3ca87dce8c6e7",
       "version_major": 2,
       "version_minor": 0
      },
      "text/plain": [
       "HBox(children=(IntProgress(value=0), HTML(value='')))"
      ]
     },
     "metadata": {},
     "output_type": "display_data"
    }
   ],
   "source": [
    "DataPoint = namedtuple('DataPoint', 'shrinkage_lambda, train_mse, test_mse')\n",
    "\n",
    "data = []\n",
    "\n",
    "for shrinkage_lambda in tqdm_notebook(np.linspace(0.001, 3, 100)):\n",
    "    boost_regressor = sklearn.ensemble.AdaBoostRegressor(base_estimator=sklearn.tree.DecisionTreeRegressor(max_depth=3),\n",
    "                                                        n_estimators=1000,\n",
    "                                                         learning_rate=shrinkage_lambda\n",
    "                                                        )\n",
    "    boost_regressor.fit(X_train, y_train)\n",
    "    y_pred_train = boost_regressor.predict(X_train)\n",
    "    training_mse = sklearn.metrics.mean_squared_error(y_train, y_pred_train)\n",
    "    y_pred_test = boost_regressor.predict(X_test)\n",
    "    test_mse = sklearn.metrics.mean_squared_error(y_test, y_pred_test)\n",
    "\n",
    "    data.append(DataPoint(shrinkage_lambda, training_mse, test_mse))\n"
   ]
  },
  {
   "cell_type": "markdown",
   "metadata": {},
   "source": [
    "### (d) Produce a plot of shrinkage vs test set MSE "
   ]
  },
  {
   "cell_type": "code",
   "execution_count": 67,
   "metadata": {},
   "outputs": [
    {
     "data": {
      "image/png": "[encoded data removed]",
      "text/plain": [
       "<Figure size 432x288 with 1 Axes>"
      ]
     },
     "metadata": {},
     "output_type": "display_data"
    },
    {
     "data": {
      "image/png": "[encoded data removed]",
      "text/plain": [
       "<Figure size 432x288 with 1 Axes>"
      ]
     },
     "metadata": {},
     "output_type": "display_data"
    }
   ],
   "source": [
    "lambdas = [x.shrinkage_lambda for x in data]\n",
    "train_mses = [x.train_mse for x in data]\n",
    "test_mses = [x.test_mse for x in data]\n",
    "plt.plot(lambdas, train_mses)\n",
    "plt.show()\n",
    "plt.plot(lambdas, test_mses)\n",
    "plt.show()"
   ]
  },
  {
   "cell_type": "markdown",
   "metadata": {},
   "source": [
    "### (e) Compare the test MSE of boosting to the test set MSE resulting from two of the regression approaches in Chapters 3 and 6"
   ]
  },
  {
   "cell_type": "code",
   "execution_count": 75,
   "metadata": {},
   "outputs": [
    {
     "name": "stdout",
     "output_type": "stream",
     "text": [
      "0.727509148005363 {'base_estimator__max_depth': 3, 'learning_rate': 0.989909090909091, 'n_estimators': 100}\n"
     ]
    }
   ],
   "source": [
    "parameters = {'base_estimator__max_depth': range(1,4),\n",
    "              'n_estimators': [100,1000,10000],\n",
    "              'learning_rate': np.linspace(0.001,1,100)\n",
    "             }\n",
    "tree = sklearn.tree.DecisionTreeRegressor()\n",
    "boosted_regressor = sklearn.ensemble.AdaBoostRegressor(base_estimator=tree)\n",
    "clf = sklearn.model_selection.GridSearchCV(boosted_regressor, parameters, n_jobs=4, cv=5)\n",
    "clf.fit(X=X_train, y=y_train)\n",
    "best_tree = clf.best_estimator_\n",
    "\n",
    "print (clf.best_score_, clf.best_params_) \n",
    "\n",
    "\n"
   ]
  },
  {
   "cell_type": "code",
   "execution_count": 85,
   "metadata": {},
   "outputs": [
    {
     "name": "stdout",
     "output_type": "stream",
     "text": [
      "Boosting: 0.40\n",
      "Linear Regression: 0.69\n",
      "KNN: 0.49\n",
      "Lasso: 0.61\n",
      "Ridge Regression: 0.69\n"
     ]
    }
   ],
   "source": [
    "# Chapter 3: Linear Regression and KNN\n",
    "boosted_tree_test_mse = sklearn.metrics.mean_squared_error(y_test, best_tree.predict(X_test))\n",
    "\n",
    "linear_regression = sklearn.linear_model.LinearRegression()\n",
    "linear_regression.fit(X_train,y_train)\n",
    "\n",
    "y_pred = linear_regression.predict(X_test)\n",
    "linear_regression_test_mse = sklearn.metrics.mean_squared_error(y_test, y_pred)\n",
    "\n",
    "knn_model = sklearn.neighbors.KNeighborsRegressor(n_neighbors=5)\n",
    "knn_model.fit(X_train, y_train) # reshape required to cast the training data to a 2d array\n",
    "y_pred = knn_model.predict(X_test)\n",
    "knn_test_mse = sklearn.metrics.mean_squared_error(y_test, y_pred)\n",
    "\n",
    "# Chapter 6: Ridge Regression/Lasso\n",
    "# Use the LassoCV\n",
    "\n",
    "lasso_model = sklearn.linear_model.LassoLarsCV(cv=5, max_iter=1e6)\n",
    "lasso_model.fit(X_train,y_train)  # Don't really need to separate the data as we are using CV\n",
    "y_pred = lasso_model.predict(X_test)\n",
    "lasso_test_mse = sklearn.metrics.mean_squared_error(y_test, y_pred)\n",
    "\n",
    "ridge_regression = sklearn.linear_model.RidgeCV(cv=5)\n",
    "ridge_regression.fit(X_train,y_train)  # Don't really need to separate the data as we are using CV\n",
    "y_pred = ridge_regression.predict(X_test)\n",
    "ridge_test_mse = sklearn.metrics.mean_squared_error(y_test, y_pred)\n",
    "\n",
    "\n",
    "print(f\"Boosting: {boosted_tree_test_mse:.2f}\")\n",
    "print(f\"Linear Regression: {linear_regression_test_mse:.2f}\")\n",
    "print(f\"KNN: {knn_test_mse:.2f}\")\n",
    "print(f\"Lasso: {lasso_test_mse:.2f}\")\n",
    "print(f\"Ridge Regression: {ridge_test_mse:.2f}\")\n"
   ]
  },
  {
   "cell_type": "markdown",
   "metadata": {},
   "source": [
    "### (f) Which variables appear to be the most important predictors in the boosted model?\n"
   ]
  },
  {
   "cell_type": "code",
   "execution_count": 87,
   "metadata": {},
   "outputs": [
    {
     "name": "stdout",
     "output_type": "stream",
     "text": [
      "Feature ranking:\n",
      "1. CAtBat: 0.18\n",
      "2. CRuns: 0.13\n",
      "3. CWalks: 0.10\n",
      "4. CHits: 0.09\n",
      "5. CRBI: 0.08\n",
      "6. Walks: 0.07\n",
      "7. PutOuts: 0.06\n",
      "8. HmRun: 0.05\n",
      "9. Runs: 0.05\n",
      "10. Hits: 0.03\n",
      "11. AtBat: 0.03\n",
      "12. RBI: 0.03\n",
      "13. Years: 0.03\n",
      "14. Division_W: 0.02\n",
      "15. CHmRun: 0.02\n",
      "16. Assists: 0.02\n",
      "17. Errors: 0.01\n",
      "18. NewLeague_N: 0.00\n",
      "19. League_N: 0.00\n"
     ]
    },
    {
     "data": {
      "image/png": "[encoded data removed]",
      "text/plain": [
       "<Figure size 432x288 with 1 Axes>"
      ]
     },
     "metadata": {},
     "output_type": "display_data"
    }
   ],
   "source": [
    "def getFeatureImportance(random_forest, X):\n",
    "    \"\"\"Given a trained classifier, plot the feature importance\"\"\"\n",
    "    importances = random_forest.feature_importances_\n",
    "    std = np.std([tree.feature_importances_ for tree in random_forest.estimators_],\n",
    "                 axis=0)\n",
    "    indices = np.argsort(importances)[::-1]\n",
    "\n",
    "    text_indices = [X.columns[i] for i in indices]\n",
    "    # Print the feature ranking\n",
    "    print(\"Feature ranking:\")\n",
    "\n",
    "    for f in range(X.shape[1]):\n",
    "        print(f\"{f+1}. {text_indices[f]}: {importances[indices[f]] :.2f}\")\n",
    "\n",
    "    # Plot the feature importances of the forest\n",
    "    plt.figure()\n",
    "    plt.title(\"Feature importances\")\n",
    "    plt.bar(range(X.shape[1]), importances[indices],\n",
    "           color=\"r\", yerr=std[indices], align=\"center\")\n",
    "    plt.xticks(range(X.shape[1]), text_indices, rotation=90)\n",
    "    plt.xlim([-1, X.shape[1]])\n",
    "    plt.show()\n",
    "\n",
    "getFeatureImportance(best_tree, X)\n"
   ]
  },
  {
   "cell_type": "markdown",
   "metadata": {},
   "source": [
    "### (g) Now apply bagging to the training set. What is the test set MSE for this approach?"
   ]
  },
  {
   "cell_type": "code",
   "execution_count": 88,
   "metadata": {},
   "outputs": [
    {
     "name": "stderr",
     "output_type": "stream",
     "text": [
      "/home/will/.local/anaconda3/lib/python3.6/site-packages/joblib/externals/loky/process_executor.py:706: UserWarning: A worker stopped while some jobs were given to the executor. This can be caused by a too short worker timeout or by a memory leak.\n",
      "  \"timeout or by a memory leak.\", UserWarning\n",
      "/home/will/.local/anaconda3/lib/python3.6/site-packages/joblib/externals/loky/process_executor.py:706: UserWarning: A worker stopped while some jobs were given to the executor. This can be caused by a too short worker timeout or by a memory leak.\n",
      "  \"timeout or by a memory leak.\", UserWarning\n",
      "/home/will/.local/anaconda3/lib/python3.6/site-packages/joblib/externals/loky/process_executor.py:706: UserWarning: A worker stopped while some jobs were given to the executor. This can be caused by a too short worker timeout or by a memory leak.\n",
      "  \"timeout or by a memory leak.\", UserWarning\n",
      "/home/will/.local/anaconda3/lib/python3.6/site-packages/joblib/externals/loky/process_executor.py:706: UserWarning: A worker stopped while some jobs were given to the executor. This can be caused by a too short worker timeout or by a memory leak.\n",
      "  \"timeout or by a memory leak.\", UserWarning\n",
      "/home/will/.local/anaconda3/lib/python3.6/site-packages/joblib/externals/loky/process_executor.py:706: UserWarning: A worker stopped while some jobs were given to the executor. This can be caused by a too short worker timeout or by a memory leak.\n",
      "  \"timeout or by a memory leak.\", UserWarning\n"
     ]
    },
    {
     "name": "stdout",
     "output_type": "stream",
     "text": [
      "0.7160322979839292 {'max_depth': 2, 'max_leaf_nodes': 5, 'n_estimators': 100}\n",
      "Bagging: 0.44\n"
     ]
    }
   ],
   "source": [
    "# A random forest, when all predictors are consider, is equivalent to using bagging\n",
    "parameters = {'max_depth': range(1,10),\n",
    "              'n_estimators': [100,1000,10000],\n",
    "              'max_leaf_nodes': [5,10,50,100,500]\n",
    "             }\n",
    "random_forest = sklearn.ensemble.RandomForestRegressor(max_features=None)\n",
    "random_forest_cv = sklearn.model_selection.GridSearchCV(random_forest, parameters, n_jobs=4, cv=5)\n",
    "random_forest_cv.fit(X=X_train, y=y_train)\n",
    "best_random_forest = random_forest_cv.best_estimator_\n",
    "\n",
    "print (random_forest_cv.best_score_, random_forest_cv.best_params_) \n",
    "\n",
    "y_pred = random_forest_cv.predict(X_test)\n",
    "bagging_test_mse = sklearn.metrics.mean_squared_error(y_test, y_pred)\n",
    "print(f\"Bagging: {bagging_test_mse:.2f}\")"
   ]
  },
  {
   "cell_type": "code",
   "execution_count": null,
   "metadata": {},
   "outputs": [],
   "source": []
  }
 ],
 "metadata": {
  "kernelspec": {
   "display_name": "Python 3",
   "language": "python",
   "name": "python3"
  },
  "language_info": {
   "codemirror_mode": {
    "name": "ipython",
    "version": 3
   },
   "file_extension": ".py",
   "mimetype": "text/x-python",
   "name": "python",
   "nbconvert_exporter": "python",
   "pygments_lexer": "ipython3",
   "version": "3.6.8"
  }
 },
 "nbformat": 4,
 "nbformat_minor": 2
}
