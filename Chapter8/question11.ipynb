{
 "cells": [
  {
   "cell_type": "markdown",
   "metadata": {},
   "source": [
    "# Chapter 8\n",
    "\n",
    "## Question 11\n",
    "\n",
    "Boosting on the `Caravan` data set"
   ]
  },
  {
   "cell_type": "code",
   "execution_count": 62,
   "metadata": {},
   "outputs": [],
   "source": [
    "import statsmodels.api as sm\n",
    "import numpy as np\n",
    "import matplotlib.pyplot as plt\n",
    "\n",
    "import sklearn.model_selection\n",
    "import sklearn.ensemble\n",
    "import sklearn.neighbors"
   ]
  },
  {
   "cell_type": "code",
   "execution_count": 2,
   "metadata": {},
   "outputs": [
    {
     "data": {
      "text/html": [
       "<div>\n",
       "<style scoped>\n",
       "    .dataframe tbody tr th:only-of-type {\n",
       "        vertical-align: middle;\n",
       "    }\n",
       "\n",
       "    .dataframe tbody tr th {\n",
       "        vertical-align: top;\n",
       "    }\n",
       "\n",
       "    .dataframe thead th {\n",
       "        text-align: right;\n",
       "    }\n",
       "</style>\n",
       "<table border=\"1\" class=\"dataframe\">\n",
       "  <thead>\n",
       "    <tr style=\"text-align: right;\">\n",
       "      <th></th>\n",
       "      <th>MOSTYPE</th>\n",
       "      <th>MAANTHUI</th>\n",
       "      <th>MGEMOMV</th>\n",
       "      <th>MGEMLEEF</th>\n",
       "      <th>MOSHOOFD</th>\n",
       "      <th>MGODRK</th>\n",
       "      <th>MGODPR</th>\n",
       "      <th>MGODOV</th>\n",
       "      <th>MGODGE</th>\n",
       "      <th>MRELGE</th>\n",
       "      <th>...</th>\n",
       "      <th>APERSONG</th>\n",
       "      <th>AGEZONG</th>\n",
       "      <th>AWAOREG</th>\n",
       "      <th>ABRAND</th>\n",
       "      <th>AZEILPL</th>\n",
       "      <th>APLEZIER</th>\n",
       "      <th>AFIETS</th>\n",
       "      <th>AINBOED</th>\n",
       "      <th>ABYSTAND</th>\n",
       "      <th>Purchase</th>\n",
       "    </tr>\n",
       "  </thead>\n",
       "  <tbody>\n",
       "    <tr>\n",
       "      <th>0</th>\n",
       "      <td>33</td>\n",
       "      <td>1</td>\n",
       "      <td>3</td>\n",
       "      <td>2</td>\n",
       "      <td>8</td>\n",
       "      <td>0</td>\n",
       "      <td>5</td>\n",
       "      <td>1</td>\n",
       "      <td>3</td>\n",
       "      <td>7</td>\n",
       "      <td>...</td>\n",
       "      <td>0</td>\n",
       "      <td>0</td>\n",
       "      <td>0</td>\n",
       "      <td>1</td>\n",
       "      <td>0</td>\n",
       "      <td>0</td>\n",
       "      <td>0</td>\n",
       "      <td>0</td>\n",
       "      <td>0</td>\n",
       "      <td>No</td>\n",
       "    </tr>\n",
       "    <tr>\n",
       "      <th>1</th>\n",
       "      <td>37</td>\n",
       "      <td>1</td>\n",
       "      <td>2</td>\n",
       "      <td>2</td>\n",
       "      <td>8</td>\n",
       "      <td>1</td>\n",
       "      <td>4</td>\n",
       "      <td>1</td>\n",
       "      <td>4</td>\n",
       "      <td>6</td>\n",
       "      <td>...</td>\n",
       "      <td>0</td>\n",
       "      <td>0</td>\n",
       "      <td>0</td>\n",
       "      <td>1</td>\n",
       "      <td>0</td>\n",
       "      <td>0</td>\n",
       "      <td>0</td>\n",
       "      <td>0</td>\n",
       "      <td>0</td>\n",
       "      <td>No</td>\n",
       "    </tr>\n",
       "    <tr>\n",
       "      <th>2</th>\n",
       "      <td>37</td>\n",
       "      <td>1</td>\n",
       "      <td>2</td>\n",
       "      <td>2</td>\n",
       "      <td>8</td>\n",
       "      <td>0</td>\n",
       "      <td>4</td>\n",
       "      <td>2</td>\n",
       "      <td>4</td>\n",
       "      <td>3</td>\n",
       "      <td>...</td>\n",
       "      <td>0</td>\n",
       "      <td>0</td>\n",
       "      <td>0</td>\n",
       "      <td>1</td>\n",
       "      <td>0</td>\n",
       "      <td>0</td>\n",
       "      <td>0</td>\n",
       "      <td>0</td>\n",
       "      <td>0</td>\n",
       "      <td>No</td>\n",
       "    </tr>\n",
       "    <tr>\n",
       "      <th>3</th>\n",
       "      <td>9</td>\n",
       "      <td>1</td>\n",
       "      <td>3</td>\n",
       "      <td>3</td>\n",
       "      <td>3</td>\n",
       "      <td>2</td>\n",
       "      <td>3</td>\n",
       "      <td>2</td>\n",
       "      <td>4</td>\n",
       "      <td>5</td>\n",
       "      <td>...</td>\n",
       "      <td>0</td>\n",
       "      <td>0</td>\n",
       "      <td>0</td>\n",
       "      <td>1</td>\n",
       "      <td>0</td>\n",
       "      <td>0</td>\n",
       "      <td>0</td>\n",
       "      <td>0</td>\n",
       "      <td>0</td>\n",
       "      <td>No</td>\n",
       "    </tr>\n",
       "    <tr>\n",
       "      <th>4</th>\n",
       "      <td>40</td>\n",
       "      <td>1</td>\n",
       "      <td>4</td>\n",
       "      <td>2</td>\n",
       "      <td>10</td>\n",
       "      <td>1</td>\n",
       "      <td>4</td>\n",
       "      <td>1</td>\n",
       "      <td>4</td>\n",
       "      <td>7</td>\n",
       "      <td>...</td>\n",
       "      <td>0</td>\n",
       "      <td>0</td>\n",
       "      <td>0</td>\n",
       "      <td>1</td>\n",
       "      <td>0</td>\n",
       "      <td>0</td>\n",
       "      <td>0</td>\n",
       "      <td>0</td>\n",
       "      <td>0</td>\n",
       "      <td>No</td>\n",
       "    </tr>\n",
       "  </tbody>\n",
       "</table>\n",
       "<p>5 rows × 86 columns</p>\n",
       "</div>"
      ],
      "text/plain": [
       "   MOSTYPE  MAANTHUI  MGEMOMV  MGEMLEEF  MOSHOOFD  MGODRK  MGODPR  MGODOV  \\\n",
       "0       33         1        3         2         8       0       5       1   \n",
       "1       37         1        2         2         8       1       4       1   \n",
       "2       37         1        2         2         8       0       4       2   \n",
       "3        9         1        3         3         3       2       3       2   \n",
       "4       40         1        4         2        10       1       4       1   \n",
       "\n",
       "   MGODGE  MRELGE  ...  APERSONG  AGEZONG  AWAOREG  ABRAND  AZEILPL  APLEZIER  \\\n",
       "0       3       7  ...         0        0        0       1        0         0   \n",
       "1       4       6  ...         0        0        0       1        0         0   \n",
       "2       4       3  ...         0        0        0       1        0         0   \n",
       "3       4       5  ...         0        0        0       1        0         0   \n",
       "4       4       7  ...         0        0        0       1        0         0   \n",
       "\n",
       "   AFIETS  AINBOED  ABYSTAND  Purchase  \n",
       "0       0        0         0        No  \n",
       "1       0        0         0        No  \n",
       "2       0        0         0        No  \n",
       "3       0        0         0        No  \n",
       "4       0        0         0        No  \n",
       "\n",
       "[5 rows x 86 columns]"
      ]
     },
     "execution_count": 2,
     "metadata": {},
     "output_type": "execute_result"
    }
   ],
   "source": [
    "caravan_dataset = sm.datasets.get_rdataset(\"Caravan\", \"ISLR\").data\n",
    "\n",
    "caravan_dataset.head()"
   ]
  },
  {
   "cell_type": "markdown",
   "metadata": {},
   "source": [
    "### (a) Create a training set consisting of 1000 observations, and a test set consisting of the rest."
   ]
  },
  {
   "cell_type": "code",
   "execution_count": 9,
   "metadata": {},
   "outputs": [],
   "source": [
    "X = caravan_dataset.drop(columns=\"Purchase\")\n",
    "y = caravan_dataset.Purchase\n",
    "X_train, X_test, y_train, y_test = sklearn.model_selection.train_test_split(X, y, test_size=len(caravan_dataset)-1000)"
   ]
  },
  {
   "cell_type": "markdown",
   "metadata": {},
   "source": [
    "### (b) Fit a boosting model of the training set with `Purchase` as the response. Use 1,000 trees, and a shrinkage value of 0.01. Which predictors appear to be the most important?"
   ]
  },
  {
   "cell_type": "code",
   "execution_count": 15,
   "metadata": {},
   "outputs": [
    {
     "name": "stdout",
     "output_type": "stream",
     "text": [
      "              precision    recall  f1-score   support\n",
      "\n",
      "          No       0.94      1.00      0.97      4532\n",
      "         Yes       0.00      0.00      0.00       290\n",
      "\n",
      "    accuracy                           0.94      4822\n",
      "   macro avg       0.47      0.50      0.48      4822\n",
      "weighted avg       0.88      0.94      0.91      4822\n",
      "\n"
     ]
    },
    {
     "name": "stderr",
     "output_type": "stream",
     "text": [
      "/home/will/.local/anaconda3/lib/python3.6/site-packages/sklearn/metrics/classification.py:1437: UndefinedMetricWarning: Precision and F-score are ill-defined and being set to 0.0 in labels with no predicted samples.\n",
      "  'precision', 'predicted', average, warn_for)\n",
      "/home/will/.local/anaconda3/lib/python3.6/site-packages/sklearn/metrics/classification.py:1437: UndefinedMetricWarning: Precision and F-score are ill-defined and being set to 0.0 in labels with no predicted samples.\n",
      "  'precision', 'predicted', average, warn_for)\n",
      "/home/will/.local/anaconda3/lib/python3.6/site-packages/sklearn/metrics/classification.py:1437: UndefinedMetricWarning: Precision and F-score are ill-defined and being set to 0.0 in labels with no predicted samples.\n",
      "  'precision', 'predicted', average, warn_for)\n"
     ]
    }
   ],
   "source": [
    "# I'm not convinced that learning_rate and shrinkage_rate are the same, here\n",
    "boost_classifier = sklearn.ensemble.AdaBoostClassifier(n_estimators=1000, learning_rate=0.01)\n",
    "boost_classifier.fit(X_train, y_train)\n"
   ]
  },
  {
   "cell_type": "code",
   "execution_count": 31,
   "metadata": {
    "scrolled": true
   },
   "outputs": [
    {
     "name": "stdout",
     "output_type": "stream",
     "text": [
      "Feature ranking:\n",
      "1. MOPLLAAG: 0.16\n",
      "2. PPERSAUT: 0.15\n",
      "3. PWAPART: 0.07\n",
      "4. MBERARBG: 0.07\n",
      "5. MINK3045: 0.06\n",
      "6. MSKB2: 0.05\n",
      "7. MAUT0: 0.05\n",
      "8. MINK7512: 0.05\n",
      "9. MOSTYPE: 0.04\n",
      "10. MGODPR: 0.04\n",
      "11. MINKGEM: 0.04\n",
      "12. MAUT1: 0.04\n",
      "13. MSKD: 0.03\n",
      "14. MBERZELF: 0.02\n",
      "15. APERSAUT: 0.02\n",
      "16. MGODGE: 0.02\n",
      "17. MZPART: 0.02\n",
      "18. MFALLEEN: 0.02\n",
      "19. MZFONDS: 0.01\n",
      "20. AMOTSCO: 0.01\n",
      "21. MOSHOOFD: 0.01\n",
      "22. MINKM30: 0.01\n",
      "23. MGODRK: 0.01\n",
      "24. PMOTSCO: 0.01\n",
      "25. MRELGE: 0.00\n",
      "26. MSKB1: 0.00\n",
      "27. MBERBOER: 0.00\n",
      "28. MBERMIDD: 0.00\n",
      "29. MBERARBO: 0.00\n",
      "30. MOPLHOOG: 0.00\n",
      "31. MAANTHUI: 0.00\n",
      "32. MRELSA: 0.00\n",
      "33. MRELOV: 0.00\n",
      "34. MGEMOMV: 0.00\n",
      "35. MFGEKIND: 0.00\n",
      "36. MFWEKIND: 0.00\n",
      "37. MGEMLEEF: 0.00\n",
      "38. MOPLMIDD: 0.00\n",
      "39. MAUT2: 0.00\n",
      "40. MGODOV: 0.00\n",
      "41. MHKOOP: 0.00\n",
      "42. MHHUUR: 0.00\n",
      "43. MBERHOOG: 0.00\n",
      "44. MSKC: 0.00\n",
      "45. MINK4575: 0.00\n",
      "46. MSKA: 0.00\n",
      "47. ABYSTAND: 0.00\n",
      "48. MINK123M: 0.00\n",
      "49. ABROM: 0.00\n",
      "50. AWABEDR: 0.00\n",
      "51. AWALAND: 0.00\n",
      "52. ABESAUT: 0.00\n",
      "53. AVRAAUT: 0.00\n",
      "54. AAANHANG: 0.00\n",
      "55. ATRACTOR: 0.00\n",
      "56. AWERKT: 0.00\n",
      "57. ALEVEN: 0.00\n",
      "58. AINBOED: 0.00\n",
      "59. APERSONG: 0.00\n",
      "60. AGEZONG: 0.00\n",
      "61. AWAOREG: 0.00\n",
      "62. ABRAND: 0.00\n",
      "63. AZEILPL: 0.00\n",
      "64. APLEZIER: 0.00\n",
      "65. AFIETS: 0.00\n",
      "66. AWAPART: 0.00\n",
      "67. PBYSTAND: 0.00\n",
      "68. PINBOED: 0.00\n",
      "69. PFIETS: 0.00\n",
      "70. PWABEDR: 0.00\n",
      "71. PWALAND: 0.00\n",
      "72. PBESAUT: 0.00\n",
      "73. PVRAAUT: 0.00\n",
      "74. PAANHANG: 0.00\n",
      "75. PTRACTOR: 0.00\n",
      "76. PWERKT: 0.00\n",
      "77. PBROM: 0.00\n",
      "78. PLEVEN: 0.00\n",
      "79. PPERSONG: 0.00\n",
      "80. PGEZONG: 0.00\n",
      "81. PWAOREG: 0.00\n",
      "82. PBRAND: 0.00\n",
      "83. PZEILPL: 0.00\n",
      "84. PPLEZIER: 0.00\n",
      "85. MKOOPKLA: 0.00\n"
     ]
    },
    {
     "data": {
      "image/png": "[encoded data removed]",
      "text/plain": [
       "<Figure size 432x288 with 1 Axes>"
      ]
     },
     "metadata": {
      "needs_background": "light"
     },
     "output_type": "display_data"
    }
   ],
   "source": [
    "def getFeatureImportance(classifier, X):\n",
    "    \"\"\"Given a trained classifier, plot the feature importance\"\"\"\n",
    "    importances = classifier.feature_importances_\n",
    "    std = np.std([tree.feature_importances_ for tree in classifier.estimators_],\n",
    "                 axis=0)\n",
    "    indices = np.argsort(importances)[::-1]\n",
    "\n",
    "    \n",
    "    text_indices = [X.columns[i] for i in indices]\n",
    "    # Print the feature ranking\n",
    "    print(\"Feature ranking:\")\n",
    "\n",
    "    for f in range(X.shape[1]):\n",
    "        print(f\"{f+1}. {text_indices[f]}: {importances[indices[f]] :.2f}\")\n",
    "\n",
    "    # Plot the feature importances of the forest, not including zero-importance features\n",
    "    plt.figure()\n",
    "    plt.title(\"Feature importances\")\n",
    "    \n",
    "    \n",
    "    # Highly inefficient but obviously correct\n",
    "    non_zero_indices = []\n",
    "    non_zero_text_indices = []\n",
    "    \n",
    "    for index, text_index, importance in zip(indices, text_indices,importances):\n",
    "        if abs(importance) > 0.001:\n",
    "            non_zero_indices.append(index)\n",
    "            non_zero_text_indices.append(text_index)\n",
    "            \n",
    "    \n",
    "    plt.bar(range(len(non_zero_indices)), importances[non_zero_indices],\n",
    "           color=\"r\", yerr=std[non_zero_indices], align=\"center\")\n",
    "    plt.xticks(range(len(non_zero_indices)), non_zero_text_indices, rotation=90)\n",
    "    plt.xlim([-1, len(non_zero_indices)])\n",
    "    plt.show()\n",
    "\n",
    "getFeatureImportance(boost_classifier, X)\n"
   ]
  },
  {
   "cell_type": "markdown",
   "metadata": {},
   "source": [
    "### (c) Use the boosting model to predict the response on the test data. Predict that a person will make a purchase if the estimated probability of purchase is greater than 20%. Form a confusion matrix. What fraction of the people predicted to make a purchase actually make one? How does this compare with logistic regression or KNN?"
   ]
  },
  {
   "cell_type": "code",
   "execution_count": 57,
   "metadata": {
    "scrolled": true
   },
   "outputs": [
    {
     "name": "stdout",
     "output_type": "stream",
     "text": [
      "[[   0 4532]\n",
      " [   0  290]]\n"
     ]
    }
   ],
   "source": [
    "probabilities = boost_classifier.predict_proba(X_test)\n",
    "prediction_probability = 0.2\n",
    "y_pred = [boost_classifier.classes_[1] if x[1] > prediction_probability else boost_classifier.classes_[0] for x in probabilities]\n",
    "\n",
    "print(sklearn.metrics.confusion_matrix(y_test, y_pred))    "
   ]
  },
  {
   "cell_type": "markdown",
   "metadata": {},
   "source": [
    "This is bad! We predict \"Yes\" every time!"
   ]
  },
  {
   "cell_type": "code",
   "execution_count": 60,
   "metadata": {},
   "outputs": [
    {
     "name": "stdout",
     "output_type": "stream",
     "text": [
      "0.06014102032351721\n"
     ]
    }
   ],
   "source": [
    "number_of_predicted_yes = sum(x==\"Yes\" for x in y_pred)\n",
    "fraction_of_yes_correct = sum(x == \"Yes\" and y == \"Yes\" for x,y in zip(y_pred, y_test))/number_of_predicted_yes\n",
    "print(fraction_of_yes_correct)"
   ]
  },
  {
   "cell_type": "code",
   "execution_count": 66,
   "metadata": {},
   "outputs": [
    {
     "name": "stdout",
     "output_type": "stream",
     "text": [
      "0.09467455621301775\n"
     ]
    }
   ],
   "source": [
    "# KNN\n",
    "knn_model = sklearn.neighbors.KNeighborsClassifier(n_neighbors=5)\n",
    "knn_model.fit(X_train, y_train)\n",
    "probabilities = knn_model.predict_proba(X_test)\n",
    "y_pred = [knn_model.classes_[1] if x[1] > prediction_probability else knn_model.classes_[0] for x in probabilities]\n",
    "\n",
    "number_of_predicted_yes = sum(x==\"Yes\" for x in y_pred)\n",
    "fraction_of_yes_correct = sum(x == \"Yes\" and y == \"Yes\" for x,y in zip(y_pred, y_test))/number_of_predicted_yes\n",
    "print(fraction_of_yes_correct)"
   ]
  },
  {
   "cell_type": "code",
   "execution_count": 67,
   "metadata": {},
   "outputs": [
    {
     "name": "stdout",
     "output_type": "stream",
     "text": [
      "0.15436241610738255\n"
     ]
    },
    {
     "name": "stderr",
     "output_type": "stream",
     "text": [
      "/home/will/.local/anaconda3/lib/python3.6/site-packages/sklearn/linear_model/logistic.py:432: FutureWarning: Default solver will be changed to 'lbfgs' in 0.22. Specify a solver to silence this warning.\n",
      "  FutureWarning)\n"
     ]
    }
   ],
   "source": [
    "# Logistic Regression\n",
    "logistic_model = sklearn.linear_model.LogisticRegression()\n",
    "logistic_model.fit(X_train, y_train)\n",
    "probabilities = logistic_model.predict_proba(X_test)\n",
    "y_pred = [logistic_model.classes_[1] if x[1] > prediction_probability else knn_model.classes_[0] for x in probabilities]\n",
    "\n",
    "number_of_predicted_yes = sum(x==\"Yes\" for x in y_pred)\n",
    "fraction_of_yes_correct = sum(x == \"Yes\" and y == \"Yes\" for x,y in zip(y_pred, y_test))/number_of_predicted_yes\n",
    "print(fraction_of_yes_correct)"
   ]
  }
 ],
 "metadata": {
  "kernelspec": {
   "display_name": "Python 3",
   "language": "python",
   "name": "python3"
  },
  "language_info": {
   "codemirror_mode": {
    "name": "ipython",
    "version": 3
   },
   "file_extension": ".py",
   "mimetype": "text/x-python",
   "name": "python",
   "nbconvert_exporter": "python",
   "pygments_lexer": "ipython3",
   "version": "3.6.8"
  }
 },
 "nbformat": 4,
 "nbformat_minor": 2
}
