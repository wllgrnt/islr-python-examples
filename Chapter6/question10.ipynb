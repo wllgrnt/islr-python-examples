{
 "cells": [
  {
   "cell_type": "markdown",
   "metadata": {},
   "source": [
    "# Chapter 6\n",
    "\n",
    "## Question 10\n",
    "\n",
    "In which we look at training error vs test error, using simulated data"
   ]
  },
  {
   "cell_type": "markdown",
   "metadata": {},
   "source": [
    "### (a) Generate a data set with p=20 features, n=1000 observations, and a response as below, where $\\beta$ has some elements which are exactly zero.\n",
    "\n",
    "$$ Y = X\\beta + \\epsilon $$"
   ]
  },
  {
   "cell_type": "code",
   "execution_count": 63,
   "metadata": {},
   "outputs": [],
   "source": [
    "import numpy as np\n",
    "import sklearn.model_selection\n",
    "import sklearn.linear_model\n",
    "import itertools\n",
    "import matplotlib.pyplot as plt\n",
    "import math\n",
    "import matplotlib.ticker"
   ]
  },
  {
   "cell_type": "code",
   "execution_count": 64,
   "metadata": {},
   "outputs": [],
   "source": [
    "X = np.random.normal(size=(1000,20))\n",
    "eps = np.random.normal(size=1000)\n",
    "beta = np.asarray([0]*20)\n",
    "for i in range(1,20,7):\n",
    "    beta[i] = 10\n",
    "    \n",
    "y = X@beta.T + eps"
   ]
  },
  {
   "cell_type": "markdown",
   "metadata": {},
   "source": [
    "### (b) Split the data into a training set with 100 observations and a test set with 900 observations"
   ]
  },
  {
   "cell_type": "code",
   "execution_count": 65,
   "metadata": {},
   "outputs": [],
   "source": [
    "X_train, X_test, y_train, y_test = sklearn.model_selection.train_test_split(X, y, test_size=0.9)\n"
   ]
  },
  {
   "cell_type": "code",
   "execution_count": 66,
   "metadata": {},
   "outputs": [
    {
     "data": {
      "text/plain": [
       "(900, 20)"
      ]
     },
     "execution_count": 66,
     "metadata": {},
     "output_type": "execute_result"
    }
   ],
   "source": [
    "X_test.shape"
   ]
  },
  {
   "cell_type": "markdown",
   "metadata": {},
   "source": [
    "### (c) Perform best subset selection on the training set, and plot the training set MSE associated with the best model of each size"
   ]
  },
  {
   "cell_type": "code",
   "execution_count": 67,
   "metadata": {},
   "outputs": [
    {
     "name": "stdout",
     "output_type": "stream",
     "text": [
      "1\n",
      "2\n",
      "3\n",
      "4\n",
      "5\n",
      "6\n",
      "7\n",
      "8\n",
      "9\n",
      "10\n",
      "11\n",
      "12\n",
      "13\n",
      "14\n",
      "15\n",
      "16\n",
      "17\n",
      "18\n",
      "19\n",
      "20\n"
     ]
    }
   ],
   "source": [
    "def get_linear_reg_score(X,Y):\n",
    "    \"\"\"Given X and Y, fit a linear model and return the R^2 score\"\"\"\n",
    "    model = sklearn.linear_model.LinearRegression()\n",
    "    model.fit(X,Y)\n",
    "    Rsquared = model.score(X,Y)\n",
    "    return Rsquared\n",
    "\n",
    "\n",
    "bestPredictors = []\n",
    "\n",
    "p = X_train.shape[1]\n",
    "\n",
    "for k in range(1,p+1):\n",
    "    print(k)\n",
    "    bestModelRss = 0\n",
    "    bestColumns = None\n",
    "    for subset in itertools.combinations(range(p),k):\n",
    "        rss = get_linear_reg_score(X_train[:,list(subset)],y_train)\n",
    "        if rss > bestModelRss:\n",
    "            bestModelRss = rss\n",
    "            bestColumns = list(subset) \n",
    "    bestPredictors.append(bestColumns)\n",
    "    "
   ]
  },
  {
   "cell_type": "code",
   "execution_count": 68,
   "metadata": {},
   "outputs": [],
   "source": [
    "train_mse_vs_k = []\n",
    "for subset in bestPredictors:\n",
    "    k = len(subset)\n",
    "    model = sklearn.linear_model.LinearRegression()\n",
    "    model.fit(X_train[:,list(subset)],y_train)\n",
    "    y_pred = model.predict(X_train[:,list(subset)])\n",
    "    least_squares_mse = sklearn.metrics.mean_squared_error(y_train, y_pred)\n",
    "    train_mse_vs_k.append([k, least_squares_mse])\n",
    "    "
   ]
  },
  {
   "cell_type": "code",
   "execution_count": 69,
   "metadata": {
    "scrolled": false
   },
   "outputs": [
    {
     "data": {
      "image/png": "[encoded data removed]",
      "text/plain": [
       "<Figure size 432x288 with 1 Axes>"
      ]
     },
     "metadata": {
      "needs_background": "light"
     },
     "output_type": "display_data"
    }
   ],
   "source": [
    "x,y = zip(*train_mse_vs_k)\n",
    "plt.scatter(x,y)\n",
    "plt.ylabel(\"Train MSE\")\n",
    "plt.xlabel(\"K\")\n",
    "ax = plt.gca()\n",
    "ax.xaxis.set_major_locator(matplotlib.ticker.MaxNLocator(integer=True))\n",
    "plt.show()\n"
   ]
  },
  {
   "cell_type": "markdown",
   "metadata": {},
   "source": [
    "### (d) Plot the test set MSE associated with the best model of each size"
   ]
  },
  {
   "cell_type": "code",
   "execution_count": 70,
   "metadata": {},
   "outputs": [],
   "source": [
    "test_mse_vs_k = []\n",
    "for subset in bestPredictors:\n",
    "    k = len(subset)\n",
    "    model = sklearn.linear_model.LinearRegression()\n",
    "    model.fit(X_train[:,list(subset)],y_train)\n",
    "    y_pred = model.predict(X_test[:,list(subset)])\n",
    "    least_squares_mse = sklearn.metrics.mean_squared_error(y_test, y_pred)\n",
    "    test_mse_vs_k.append([k, least_squares_mse])\n",
    "    "
   ]
  },
  {
   "cell_type": "code",
   "execution_count": 73,
   "metadata": {},
   "outputs": [
    {
     "data": {
      "image/png": "[encoded data removed]",
      "text/plain": [
       "<Figure size 432x288 with 1 Axes>"
      ]
     },
     "metadata": {
      "needs_background": "light"
     },
     "output_type": "display_data"
    }
   ],
   "source": [
    "x,y = zip(*test_mse_vs_k)\n",
    "plt.scatter(x,np.log(y))\n",
    "plt.ylabel(\"Test MSE\")\n",
    "plt.xlabel(\"K\")\n",
    "ax = plt.gca()\n",
    "ax.xaxis.set_major_locator(matplotlib.ticker.MaxNLocator(integer=True))\n",
    "plt.show()\n"
   ]
  },
  {
   "cell_type": "markdown",
   "metadata": {},
   "source": [
    "### (e) For which model does the test MSE take its lowest value?\n",
    "### (f) How does this model compare to the true model? Comment on the coefficient values."
   ]
  },
  {
   "cell_type": "code",
   "execution_count": 81,
   "metadata": {},
   "outputs": [
    {
     "name": "stdout",
     "output_type": "stream",
     "text": [
      "[1, 8, 15]\n",
      "[9.94904962 9.99484432 9.83652137]\n"
     ]
    }
   ],
   "source": [
    "print(bestPredictors[2])\n",
    "\n",
    "k = len(subset)\n",
    "model = sklearn.linear_model.LinearRegression()\n",
    "model.fit(X_train[:,bestPredictors[2]],y_train)\n",
    "print(model.coef_)"
   ]
  },
  {
   "cell_type": "markdown",
   "metadata": {},
   "source": [
    "The test MSE is minimised for a model with K=3, and these are indeed the three non-zero coefficients, with roughly correct values."
   ]
  },
  {
   "cell_type": "markdown",
   "metadata": {},
   "source": [
    "### (g) Create a plot displaying $\\sqrt{ \\sum_{j=1}^{p}{(\\beta_j - \\hat{\\beta}_j^r )^2} } $ for a range of $r$, where $\\hat{\\beta}_j^r$ is the jth coefficient estimate for the model with r predictors. Comment."
   ]
  },
  {
   "cell_type": "code",
   "execution_count": 86,
   "metadata": {},
   "outputs": [],
   "source": [
    "diffs = []\n",
    "for predictors in bestPredictors:\n",
    "    r = len(predictors)\n",
    "    model = sklearn.linear_model.LinearRegression()\n",
    "    model.fit(X_train[:,predictors],y_train)\n",
    "    beta_pred = np.asarray([0]*20, dtype=float)\n",
    "    for predictor, coef in zip(predictors, model.coef_):\n",
    "        beta_pred[predictor] = coef\n",
    "    diff = np.sqrt(np.sum( np.square(beta-beta_pred) ))\n",
    "    diffs.append(diff)"
   ]
  },
  {
   "cell_type": "code",
   "execution_count": 87,
   "metadata": {},
   "outputs": [
    {
     "data": {
      "image/png": "[encoded data removed]",
      "text/plain": [
       "<Figure size 432x288 with 1 Axes>"
      ]
     },
     "metadata": {
      "needs_background": "light"
     },
     "output_type": "display_data"
    }
   ],
   "source": [
    "plt.scatter(range(1,21),diffs)\n",
    "plt.ylabel(\"coefficient MSE\")\n",
    "plt.xlabel(\"r\")\n",
    "ax = plt.gca()\n",
    "ax.xaxis.set_major_locator(matplotlib.ticker.MaxNLocator(integer=True))\n",
    "plt.show()\n"
   ]
  },
  {
   "cell_type": "markdown",
   "metadata": {},
   "source": [
    "The coefficient difference graph takes exactly the same form as the test MSE graph. "
   ]
  },
  {
   "cell_type": "code",
   "execution_count": null,
   "metadata": {},
   "outputs": [],
   "source": []
  }
 ],
 "metadata": {
  "kernelspec": {
   "display_name": "Python 3",
   "language": "python",
   "name": "python3"
  },
  "language_info": {
   "codemirror_mode": {
    "name": "ipython",
    "version": 3
   },
   "file_extension": ".py",
   "mimetype": "text/x-python",
   "name": "python",
   "nbconvert_exporter": "python",
   "pygments_lexer": "ipython3",
   "version": "3.6.8"
  }
 },
 "nbformat": 4,
 "nbformat_minor": 2
}
