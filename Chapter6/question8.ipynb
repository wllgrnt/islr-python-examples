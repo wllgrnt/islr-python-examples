{
 "cells": [
  {
   "cell_type": "markdown",
   "metadata": {},
   "source": [
    "# Chapter 6\n",
    "\n",
    "## Question 8\n",
    "\n",
    "Running best subset selection on simulated data"
   ]
  },
  {
   "cell_type": "code",
   "execution_count": 1,
   "metadata": {},
   "outputs": [],
   "source": [
    "import numpy as np\n",
    "import seaborn as sns\n",
    "import pandas as pd \n",
    "import itertools\n",
    "import sklearn.linear_model\n",
    "import statsmodels.api as sm\n",
    "\n",
    "import matplotlib.pyplot as plt\n",
    "\n",
    "sns.set(style=\"whitegrid\")"
   ]
  },
  {
   "cell_type": "markdown",
   "metadata": {},
   "source": [
    "### (a) Generate a predictor X of length n=100, as well as a noise vector $\\epsilon$ of length n=100"
   ]
  },
  {
   "cell_type": "code",
   "execution_count": 2,
   "metadata": {},
   "outputs": [],
   "source": [
    "x = np.random.normal(size=100)\n",
    "eps = np.random.normal(size=100)\n"
   ]
  },
  {
   "cell_type": "markdown",
   "metadata": {},
   "source": [
    "### (b) Generate a response vector Y according to the model ... (see below)"
   ]
  },
  {
   "cell_type": "code",
   "execution_count": 3,
   "metadata": {},
   "outputs": [],
   "source": [
    "# Constants of your choice\n",
    "b0 = 1\n",
    "b1 = 2\n",
    "b2 = 3\n",
    "b3 = 4\n",
    "y = b0 + b1*x + b2*np.square(x) + b3*np.power(x,3) + eps "
   ]
  },
  {
   "cell_type": "code",
   "execution_count": 4,
   "metadata": {},
   "outputs": [
    {
     "data": {
      "text/plain": [
       "<matplotlib.axes._subplots.AxesSubplot at 0x7fab320c6390>"
      ]
     },
     "execution_count": 4,
     "metadata": {},
     "output_type": "execute_result"
    },
    {
     "data": {
      "image/png": "[encoded data removed]",
      "text/plain": [
       "<Figure size 432x288 with 1 Axes>"
      ]
     },
     "metadata": {
      "needs_background": "light"
     },
     "output_type": "display_data"
    }
   ],
   "source": [
    "sns.scatterplot(x,y)"
   ]
  },
  {
   "cell_type": "markdown",
   "metadata": {},
   "source": [
    "### (c) Perform best subset selection (they use `regsubsets()` in r) to choose the best model containing the predictors X, X^2, .... X^10. What is the best model according to $C_p$, BIC, and adjusted R? Show some plots to justify this, and report the coefficients of the best model."
   ]
  },
  {
   "cell_type": "code",
   "execution_count": 5,
   "metadata": {},
   "outputs": [
    {
     "data": {
      "text/html": [
       "<div>\n",
       "<style scoped>\n",
       "    .dataframe tbody tr th:only-of-type {\n",
       "        vertical-align: middle;\n",
       "    }\n",
       "\n",
       "    .dataframe tbody tr th {\n",
       "        vertical-align: top;\n",
       "    }\n",
       "\n",
       "    .dataframe thead th {\n",
       "        text-align: right;\n",
       "    }\n",
       "</style>\n",
       "<table border=\"1\" class=\"dataframe\">\n",
       "  <thead>\n",
       "    <tr style=\"text-align: right;\">\n",
       "      <th></th>\n",
       "      <th>x</th>\n",
       "      <th>x2</th>\n",
       "      <th>x3</th>\n",
       "      <th>x4</th>\n",
       "      <th>x5</th>\n",
       "      <th>x6</th>\n",
       "      <th>x7</th>\n",
       "      <th>x8</th>\n",
       "      <th>x9</th>\n",
       "      <th>x10</th>\n",
       "      <th>y</th>\n",
       "    </tr>\n",
       "  </thead>\n",
       "  <tbody>\n",
       "    <tr>\n",
       "      <th>0</th>\n",
       "      <td>-0.138997</td>\n",
       "      <td>0.019320</td>\n",
       "      <td>-0.002685</td>\n",
       "      <td>0.000373</td>\n",
       "      <td>-5.188288e-05</td>\n",
       "      <td>7.211554e-06</td>\n",
       "      <td>-1.002383e-06</td>\n",
       "      <td>1.393280e-07</td>\n",
       "      <td>-1.936615e-08</td>\n",
       "      <td>2.691833e-09</td>\n",
       "      <td>-0.250418</td>\n",
       "    </tr>\n",
       "    <tr>\n",
       "      <th>1</th>\n",
       "      <td>-2.203740</td>\n",
       "      <td>4.856469</td>\n",
       "      <td>-10.702394</td>\n",
       "      <td>23.585291</td>\n",
       "      <td>-5.197584e+01</td>\n",
       "      <td>1.145412e+02</td>\n",
       "      <td>-2.524191e+02</td>\n",
       "      <td>5.562659e+02</td>\n",
       "      <td>-1.225865e+03</td>\n",
       "      <td>2.701488e+03</td>\n",
       "      <td>-33.195254</td>\n",
       "    </tr>\n",
       "    <tr>\n",
       "      <th>2</th>\n",
       "      <td>0.047922</td>\n",
       "      <td>0.002297</td>\n",
       "      <td>0.000110</td>\n",
       "      <td>0.000005</td>\n",
       "      <td>2.527486e-07</td>\n",
       "      <td>1.211229e-08</td>\n",
       "      <td>5.804491e-10</td>\n",
       "      <td>2.781646e-11</td>\n",
       "      <td>1.333029e-12</td>\n",
       "      <td>6.388184e-14</td>\n",
       "      <td>0.307092</td>\n",
       "    </tr>\n",
       "    <tr>\n",
       "      <th>3</th>\n",
       "      <td>0.336886</td>\n",
       "      <td>0.113492</td>\n",
       "      <td>0.038234</td>\n",
       "      <td>0.012881</td>\n",
       "      <td>4.339281e-03</td>\n",
       "      <td>1.461845e-03</td>\n",
       "      <td>4.924758e-04</td>\n",
       "      <td>1.659084e-04</td>\n",
       "      <td>5.589231e-05</td>\n",
       "      <td>1.882936e-05</td>\n",
       "      <td>2.751913</td>\n",
       "    </tr>\n",
       "    <tr>\n",
       "      <th>4</th>\n",
       "      <td>-0.315308</td>\n",
       "      <td>0.099419</td>\n",
       "      <td>-0.031348</td>\n",
       "      <td>0.009884</td>\n",
       "      <td>-3.116570e-03</td>\n",
       "      <td>9.826803e-04</td>\n",
       "      <td>-3.098472e-04</td>\n",
       "      <td>9.769740e-05</td>\n",
       "      <td>-3.080480e-05</td>\n",
       "      <td>9.713009e-06</td>\n",
       "      <td>0.537390</td>\n",
       "    </tr>\n",
       "  </tbody>\n",
       "</table>\n",
       "</div>"
      ],
      "text/plain": [
       "          x        x2         x3         x4            x5            x6  \\\n",
       "0 -0.138997  0.019320  -0.002685   0.000373 -5.188288e-05  7.211554e-06   \n",
       "1 -2.203740  4.856469 -10.702394  23.585291 -5.197584e+01  1.145412e+02   \n",
       "2  0.047922  0.002297   0.000110   0.000005  2.527486e-07  1.211229e-08   \n",
       "3  0.336886  0.113492   0.038234   0.012881  4.339281e-03  1.461845e-03   \n",
       "4 -0.315308  0.099419  -0.031348   0.009884 -3.116570e-03  9.826803e-04   \n",
       "\n",
       "             x7            x8            x9           x10          y  \n",
       "0 -1.002383e-06  1.393280e-07 -1.936615e-08  2.691833e-09  -0.250418  \n",
       "1 -2.524191e+02  5.562659e+02 -1.225865e+03  2.701488e+03 -33.195254  \n",
       "2  5.804491e-10  2.781646e-11  1.333029e-12  6.388184e-14   0.307092  \n",
       "3  4.924758e-04  1.659084e-04  5.589231e-05  1.882936e-05   2.751913  \n",
       "4 -3.098472e-04  9.769740e-05 -3.080480e-05  9.713009e-06   0.537390  "
      ]
     },
     "execution_count": 5,
     "metadata": {},
     "output_type": "execute_result"
    }
   ],
   "source": [
    "# Create a data frame with X, X^2, X^3 ... X^10, and Y.\n",
    "\n",
    "predictors = np.vstack([x, *(np.power(x,i) for i in range(2,11))]).T\n",
    "\n",
    "df = pd.DataFrame(data=predictors, columns=\"x x2 x3 x4 x5 x6 x7 x8 x9 x10\".split())\n",
    "df[\"y\"] = y\n",
    "df.head()\n"
   ]
  },
  {
   "cell_type": "markdown",
   "metadata": {},
   "source": [
    "I have to implement best subset selection manually.\n",
    "\n",
    "\n",
    "For k=1,2,...,p\n",
    "\n",
    "- Fit all $p\\choose{k}$ models with k predictors\n",
    "- Pick the best among these, call it $M_k$. Define the best as having e.g. the smallest RSS (or highest $R^2$).\n",
    "- Select the single best model from $M_0$ (the null model), $M_1$, $M_2$ etc, using cross-validated test error, $C_p$, BIC etc\n"
   ]
  },
  {
   "cell_type": "code",
   "execution_count": 6,
   "metadata": {},
   "outputs": [
    {
     "name": "stdout",
     "output_type": "stream",
     "text": [
      "1\n",
      "2\n",
      "3\n",
      "4\n",
      "5\n",
      "6\n",
      "7\n",
      "8\n",
      "9\n",
      "10\n"
     ]
    }
   ],
   "source": [
    "# I have to implement best subset selection manually.\n",
    "def get_linear_reg_score(X,Y):\n",
    "    \"\"\"Given X and Y, fit a linear model and return the R^2 score\"\"\"\n",
    "    model = sklearn.linear_model.LinearRegression()\n",
    "    model.fit(X,Y)\n",
    "    Rsquared = model.score(X,Y)\n",
    "    return Rsquared\n",
    "\n",
    "\n",
    "bestPredictors = []\n",
    "\n",
    "x_df = df.drop(columns=[\"y\"])\n",
    "\n",
    "p = len(x_df.columns)\n",
    "for k in range(1,p+1):\n",
    "    print(k)\n",
    "    bestModelRss = 0\n",
    "    bestColumns = None\n",
    "    for subset in itertools.combinations(x_df.columns,k):\n",
    "        rss = get_linear_reg_score(x_df[list(subset)],y)\n",
    "        if rss > bestModelRss:\n",
    "            bestModelRss = rss\n",
    "            bestColumns = list(subset) \n",
    "    bestPredictors.append(bestColumns)"
   ]
  },
  {
   "cell_type": "code",
   "execution_count": 7,
   "metadata": {},
   "outputs": [
    {
     "name": "stdout",
     "output_type": "stream",
     "text": [
      "[['x3'], ['x2', 'x3'], ['x', 'x2', 'x3'], ['x', 'x2', 'x3', 'x4'], ['x', 'x3', 'x4', 'x6', 'x8'], ['x', 'x2', 'x3', 'x6', 'x8', 'x10'], ['x', 'x2', 'x3', 'x5', 'x6', 'x8', 'x10'], ['x', 'x2', 'x3', 'x4', 'x5', 'x6', 'x7', 'x9'], ['x', 'x2', 'x3', 'x4', 'x5', 'x7', 'x8', 'x9', 'x10'], ['x', 'x2', 'x3', 'x4', 'x5', 'x6', 'x7', 'x8', 'x9', 'x10']]\n"
     ]
    }
   ],
   "source": [
    "print(bestPredictors)"
   ]
  },
  {
   "cell_type": "code",
   "execution_count": 8,
   "metadata": {
    "scrolled": false
   },
   "outputs": [
    {
     "name": "stderr",
     "output_type": "stream",
     "text": [
      "/home/will/.local/anaconda3/lib/python3.6/site-packages/numpy/core/fromnumeric.py:2389: FutureWarning: Method .ptp is deprecated and will be removed in a future version. Use numpy.ptp instead.\n",
      "  return ptp(axis=axis, out=out, **kwargs)\n"
     ]
    }
   ],
   "source": [
    "# Select the best of these models, using C_p, AIC, BIC, or adjusted R^2\n",
    "# Lets get all the above and plot them vs k.\n",
    "\n",
    "# I'll switch to statsmodels for this\n",
    "\n",
    "AICs = []\n",
    "BICs = []\n",
    "adjustedR2s = []\n",
    "for i, cols in enumerate(bestPredictors):\n",
    "    k = i+1\n",
    "    model = sm.OLS(y, sm.add_constant(x_df[cols]))\n",
    "    results = model.fit()\n",
    "    AICs.append(results.aic)\n",
    "    BICs.append(results.bic)\n",
    "    adjustedR2s.append(results.rsquared_adj)"
   ]
  },
  {
   "cell_type": "code",
   "execution_count": 9,
   "metadata": {},
   "outputs": [
    {
     "data": {
      "image/png": "[encoded data removed]",
      "text/plain": [
       "<Figure size 360x720 with 3 Axes>"
      ]
     },
     "metadata": {
      "needs_background": "light"
     },
     "output_type": "display_data"
    }
   ],
   "source": [
    "fig, axes = plt.subplots(nrows=3, figsize=(5,10))\n",
    "\n",
    "scores = {\"AIC\":AICs, \"BIC\":BICs, \"adjusted R^2\":adjustedR2s}\n",
    "\n",
    "for ax, score in zip(axes, scores.items()):\n",
    "    score_name, score_data = score\n",
    "    ax.scatter(range(1,11), score_data)\n",
    "    ax.set_ylabel(score_name)\n",
    "    ax.set_xlabel(\"Number of predictors\")\n",
    "plt.tight_layout()"
   ]
  },
  {
   "cell_type": "markdown",
   "metadata": {},
   "source": [
    "Looks like the data supports 3 predictors (i.e. X, X^2, X^3) as expected"
   ]
  },
  {
   "cell_type": "code",
   "execution_count": 10,
   "metadata": {},
   "outputs": [
    {
     "data": {
      "text/plain": [
       "['x', 'x2', 'x3']"
      ]
     },
     "execution_count": 10,
     "metadata": {},
     "output_type": "execute_result"
    }
   ],
   "source": [
    "overallBestPredictors = bestPredictors[2]\n",
    "overallBestPredictors"
   ]
  },
  {
   "cell_type": "code",
   "execution_count": 11,
   "metadata": {},
   "outputs": [
    {
     "name": "stdout",
     "output_type": "stream",
     "text": [
      "predicted coefficients: 1.0064879231335826, 2.2878758334402876, 2.9673812172739633, 3.9535057973114136\n",
      "actual coefficients: 1, 2, 3, 4\n"
     ]
    }
   ],
   "source": [
    "model = sklearn.linear_model.LinearRegression()\n",
    "model.fit(x_df[overallBestPredictors],y)\n",
    "print(f\"predicted coefficients: {model.intercept_},\", \", \".join(map(str, model.coef_)))\n",
    "print(f\"actual coefficients: {b0}, {b1}, {b2}, {b3}\")\n"
   ]
  },
  {
   "cell_type": "markdown",
   "metadata": {},
   "source": [
    "### (d) Repeat (c) using forward stepwise selection and backward stepwise selection. How do the answers compare?"
   ]
  },
  {
   "cell_type": "markdown",
   "metadata": {},
   "source": [
    "Forward stepwise selection:\n",
    "\n",
    "For k=1,2,...,p\n",
    "\n",
    "- Consider all $p - k$ models which augment the predictors in $M_k$ with one additional predictor.\n",
    "- Pick the best among these models, and call it $M_k+1$. Define the best as having e.g. the smallest RSS (or highest $R^2$). \n",
    "\n",
    "Select the single best model from $M_0$ (the null model), $M_1$, $M_2$ etc, using cross-validated test error, $C_p$, BIC etc\n"
   ]
  },
  {
   "cell_type": "code",
   "execution_count": 12,
   "metadata": {
    "scrolled": false
   },
   "outputs": [],
   "source": [
    "x_df = df.drop(columns=[\"y\"])\n",
    "\n",
    "p = len(x_df.columns)\n",
    "prev_predictors = []\n",
    "for k in range(1,p+1):\n",
    "    best_model_rss = 0\n",
    "    best_predictor = None\n",
    "    for col in x_df.columns.drop(prev_predictors):\n",
    "        subset = prev_predictors + [col]\n",
    "        rss = get_linear_reg_score(x_df[list(subset)],y)\n",
    "        if rss > best_model_rss:\n",
    "            best_model_rss = rss\n",
    "            best_predictor = col\n",
    "    prev_predictors.append(best_predictor)\n"
   ]
  },
  {
   "cell_type": "code",
   "execution_count": 13,
   "metadata": {},
   "outputs": [
    {
     "name": "stderr",
     "output_type": "stream",
     "text": [
      "/home/will/.local/anaconda3/lib/python3.6/site-packages/numpy/core/fromnumeric.py:2389: FutureWarning: Method .ptp is deprecated and will be removed in a future version. Use numpy.ptp instead.\n",
      "  return ptp(axis=axis, out=out, **kwargs)\n"
     ]
    }
   ],
   "source": [
    "# Select the best of these models, using AIC, BIC, or adjusted R^2\n",
    "# Lets get all the above and plot them vs k.\n",
    "\n",
    "# I'll switch to statsmodels for this\n",
    "\n",
    "AICs = []\n",
    "BICs = []\n",
    "adjustedR2s = []\n",
    "for i, _ in enumerate(prev_predictors):\n",
    "    subset = prev_predictors[:i+1]\n",
    "    model = sm.OLS(y, sm.add_constant(x_df[subset]))\n",
    "    results = model.fit()\n",
    "    AICs.append(results.aic)\n",
    "    BICs.append(results.bic)\n",
    "    adjustedR2s.append(results.rsquared_adj)"
   ]
  },
  {
   "cell_type": "code",
   "execution_count": 14,
   "metadata": {
    "scrolled": false
   },
   "outputs": [
    {
     "data": {
      "image/png": "[encoded data removed]",
      "text/plain": [
       "<Figure size 360x720 with 3 Axes>"
      ]
     },
     "metadata": {
      "needs_background": "light"
     },
     "output_type": "display_data"
    }
   ],
   "source": [
    "fig, axes = plt.subplots(nrows=3, figsize=(5,10))\n",
    "\n",
    "scores = {\"AIC\":AICs, \"BIC\":BICs, \"adjusted R^2\":adjustedR2s}\n",
    "\n",
    "for ax, score in zip(axes, scores.items()):\n",
    "    score_name, score_data = score\n",
    "    ax.scatter(range(1,11), score_data)\n",
    "    ax.set_ylabel(score_name)\n",
    "    ax.set_xlabel(\"Number of predictors\")\n",
    "plt.tight_layout()"
   ]
  },
  {
   "cell_type": "code",
   "execution_count": 15,
   "metadata": {},
   "outputs": [
    {
     "data": {
      "text/plain": [
       "['x3', 'x2', 'x']"
      ]
     },
     "execution_count": 15,
     "metadata": {},
     "output_type": "execute_result"
    }
   ],
   "source": [
    "# Looks like 3 predictors is the way to go. Which three are they?\n",
    "prev_predictors[:3]"
   ]
  },
  {
   "cell_type": "markdown",
   "metadata": {},
   "source": [
    "As before, the x, x^2, and x^3 terms are chosen."
   ]
  },
  {
   "cell_type": "markdown",
   "metadata": {},
   "source": [
    "Backward stepwise selection:\n",
    "\n",
    "For k=p, p-1, ..., 2, 1\n",
    "\n",
    "- Consider all $k$ models which contain all bar one of the predictors in $M_k$.\n",
    "- Pick the best among these models, and call it $M_k-1$. Define the best as having e.g. the smallest RSS (or highest $R^2$). \n",
    "\n",
    "Select the single best model from $M_0$ (the null model), $M_1$, $M_2$ etc, using cross-validated test error, $C_p$, BIC etc\n"
   ]
  },
  {
   "cell_type": "code",
   "execution_count": 16,
   "metadata": {
    "scrolled": true
   },
   "outputs": [
    {
     "name": "stdout",
     "output_type": "stream",
     "text": [
      "0.9944076492956302 \t x x2 x3 x4 x5 x7 x8 x9 x10\n",
      "0.9944041456807071 \t x x2 x3 x4 x5 x7 x8 x9\n",
      "0.9943371533115499 \t x x2 x3 x4 x7 x8 x9\n",
      "0.9940418647772378 \t x x2 x3 x4 x7 x9\n",
      "0.9940036927927036 \t x x2 x3 x7 x9\n",
      "0.9939131077025918 \t x x2 x3 x9\n",
      "0.9938566715851106 \t x x2 x3\n",
      "0.9852883608173197 \t x2 x3\n",
      "0.9039502895370419 \t x3\n"
     ]
    }
   ],
   "source": [
    "x_df = df.drop(columns=[\"y\"])\n",
    "\n",
    "p = len(x_df.columns)\n",
    "predictor_list = []\n",
    "predictors = x_df.columns\n",
    "predictor_list.append(predictors)\n",
    "while len(predictors) > 1:\n",
    "    best_predictor = None\n",
    "    best_model_rss = 0\n",
    "    for col in predictors:\n",
    "        subset_predictors = predictors.drop(col)\n",
    "        rss = get_linear_reg_score(x_df[list(subset_predictors)],y)\n",
    "        if rss > best_model_rss:\n",
    "            best_model_rss = rss\n",
    "            best_predictor = col\n",
    "    predictors = predictors.drop(best_predictor)\n",
    "    predictor_list.append(predictors)\n",
    "    print(best_model_rss, \"\\t\",  \" \".join(map(str,predictors)))            "
   ]
  },
  {
   "cell_type": "code",
   "execution_count": 17,
   "metadata": {},
   "outputs": [
    {
     "name": "stderr",
     "output_type": "stream",
     "text": [
      "/home/will/.local/anaconda3/lib/python3.6/site-packages/numpy/core/fromnumeric.py:2389: FutureWarning: Method .ptp is deprecated and will be removed in a future version. Use numpy.ptp instead.\n",
      "  return ptp(axis=axis, out=out, **kwargs)\n"
     ]
    }
   ],
   "source": [
    "# Select the best of these models, using AIC, BIC, or adjusted R^2\n",
    "# Lets get all the above and plot them vs k.\n",
    "\n",
    "# I'll switch to statsmodels for this\n",
    "\n",
    "AICs = []\n",
    "BICs = []\n",
    "adjustedR2s = []\n",
    "for i, predictors in enumerate(predictor_list):\n",
    "    model = sm.OLS(y, sm.add_constant(x_df[predictors]))\n",
    "    results = model.fit()\n",
    "    AICs.append(results.aic)\n",
    "    BICs.append(results.bic)\n",
    "    adjustedR2s.append(results.rsquared_adj)\n",
    "    \n",
    "AICs.reverse()\n",
    "BICs.reverse()\n",
    "adjustedR2s.reverse()"
   ]
  },
  {
   "cell_type": "code",
   "execution_count": 18,
   "metadata": {
    "scrolled": false
   },
   "outputs": [
    {
     "data": {
      "image/png": "[encoded data removed]",
      "text/plain": [
       "<Figure size 360x720 with 3 Axes>"
      ]
     },
     "metadata": {
      "needs_background": "light"
     },
     "output_type": "display_data"
    }
   ],
   "source": [
    "fig, axes = plt.subplots(nrows=3, figsize=(5,10))\n",
    "\n",
    "scores = {\"AIC\":AICs, \"BIC\":BICs, \"adjusted R^2\":adjustedR2s}\n",
    "\n",
    "for ax, score in zip(axes, scores.items()):\n",
    "    score_name, score_data = score\n",
    "    ax.scatter(range(1,11), score_data)\n",
    "    ax.set_ylabel(score_name)\n",
    "    ax.set_xlabel(\"Number of predictors\")\n",
    "plt.tight_layout()"
   ]
  },
  {
   "cell_type": "markdown",
   "metadata": {},
   "source": [
    "As before, the x, x^2, and x^3 terms are chosen."
   ]
  },
  {
   "cell_type": "markdown",
   "metadata": {},
   "source": [
    "### (e) Now fit a lasso model to the simulated data, again using X, X^2, ...., X^10 as predictors. Use cross-validation to select the optimal $\\lambda$ value. Create plots of the cross-validation error as a function of $\\lambda$. Report the resulting coefficient estimates and discuss"
   ]
  },
  {
   "cell_type": "code",
   "execution_count": 19,
   "metadata": {
    "scrolled": true
   },
   "outputs": [
    {
     "data": {
      "text/plain": [
       "LassoLarsCV(copy_X=True, cv=5, eps=2.220446049250313e-16, fit_intercept=True,\n",
       "      max_iter=1000000.0, max_n_alphas=1000, n_jobs=None, normalize=True,\n",
       "      positive=False, precompute='auto', verbose=False)"
      ]
     },
     "execution_count": 19,
     "metadata": {},
     "output_type": "execute_result"
    }
   ],
   "source": [
    "# Use the LassoCV\n",
    "lasso_model = sklearn.linear_model.LassoLarsCV(cv=5, max_iter=1e6)\n",
    "lasso_model.fit(x_df,y)\n"
   ]
  },
  {
   "cell_type": "code",
   "execution_count": 20,
   "metadata": {},
   "outputs": [
    {
     "data": {
      "image/png": "[encoded data removed]",
      "text/plain": [
       "<Figure size 432x288 with 1 Axes>"
      ]
     },
     "metadata": {
      "needs_background": "light"
     },
     "output_type": "display_data"
    }
   ],
   "source": [
    "y = list(map(np.mean,lasso_model.mse_path_))\n",
    "x = lasso_model.cv_alphas_\n",
    "plt.plot(x,np.log(y))\n",
    "plt.ylabel(\"log(mse)\")\n",
    "plt.xlabel(\"alpha\")\n",
    "plt.show()"
   ]
  },
  {
   "cell_type": "code",
   "execution_count": 21,
   "metadata": {},
   "outputs": [],
   "source": [
    "coefficients = lasso_model.coef_path_"
   ]
  },
  {
   "cell_type": "code",
   "execution_count": 22,
   "metadata": {},
   "outputs": [
    {
     "data": {
      "text/plain": [
       "<matplotlib.legend.Legend at 0x7fab23ccf4a8>"
      ]
     },
     "execution_count": 22,
     "metadata": {},
     "output_type": "execute_result"
    },
    {
     "data": {
      "image/png": "[encoded data removed]",
      "text/plain": [
       "<Figure size 432x288 with 1 Axes>"
      ]
     },
     "metadata": {
      "needs_background": "light"
     },
     "output_type": "display_data"
    }
   ],
   "source": [
    "for i,coefficient in enumerate(coefficients):\n",
    "    plt.plot(lasso_model.alphas_, coefficient, label=f\"x^{i+1}\")\n",
    "plt.xlabel(\"alpha\")\n",
    "plt.legend()"
   ]
  },
  {
   "cell_type": "code",
   "execution_count": 23,
   "metadata": {},
   "outputs": [
    {
     "data": {
      "text/plain": [
       "0.00432335449030581"
      ]
     },
     "execution_count": 23,
     "metadata": {},
     "output_type": "execute_result"
    }
   ],
   "source": [
    "lasso_model.alpha_"
   ]
  },
  {
   "cell_type": "code",
   "execution_count": 24,
   "metadata": {},
   "outputs": [
    {
     "data": {
      "text/plain": [
       "array([2.23892744, 2.74548325, 3.96160305, 0.03931525, 0.        ,\n",
       "       0.        , 0.        , 0.        , 0.        , 0.        ])"
      ]
     },
     "execution_count": 24,
     "metadata": {},
     "output_type": "execute_result"
    }
   ],
   "source": [
    "lasso_model.coef_"
   ]
  },
  {
   "cell_type": "code",
   "execution_count": 25,
   "metadata": {
    "scrolled": true
   },
   "outputs": [
    {
     "data": {
      "text/plain": [
       "1.1123122993485157"
      ]
     },
     "execution_count": 25,
     "metadata": {},
     "output_type": "execute_result"
    }
   ],
   "source": [
    "lasso_model.intercept_"
   ]
  },
  {
   "cell_type": "markdown",
   "metadata": {},
   "source": [
    "The lasso model has assigned the correct coefficients to $\\beta_0$-$\\beta_3$, and shrunk the remaining coefficients to zero"
   ]
  },
  {
   "cell_type": "markdown",
   "metadata": {},
   "source": [
    "### (f) Now generate a response vector Y according to the model (see below) and perform best subset selection and the lasso. (presumably with powers of X up to 10 as before). Discuss."
   ]
  },
  {
   "cell_type": "code",
   "execution_count": 26,
   "metadata": {},
   "outputs": [],
   "source": [
    "x = np.random.normal(size=100)\n",
    "eps = np.random.normal(size=100)\n",
    "# Constants of your choice\n",
    "b0 = 1\n",
    "b7 = 7\n",
    "y = b0 + b7*np.power(x,7) + eps \n"
   ]
  },
  {
   "cell_type": "code",
   "execution_count": 27,
   "metadata": {},
   "outputs": [],
   "source": [
    "# Create a data frame with X, X^2, X^3 ... X^10, and Y.\n",
    "predictors = np.vstack([x, *(np.power(x,i) for i in range(2,11))]).T\n",
    "\n",
    "x_df = pd.DataFrame(data=predictors, columns=\"x x2 x3 x4 x5 x6 x7 x8 x9 x10\".split())\n"
   ]
  },
  {
   "cell_type": "code",
   "execution_count": 28,
   "metadata": {},
   "outputs": [],
   "source": [
    "bestPredictors = []\n",
    "\n",
    "p = len(x_df.columns)\n",
    "for k in range(1,p+1):\n",
    "    bestModelRss = 0\n",
    "    bestColumns = None\n",
    "    for subset in itertools.combinations(x_df.columns,k):\n",
    "        rss = get_linear_reg_score(x_df[list(subset)],y)\n",
    "        if rss > bestModelRss:\n",
    "            bestModelRss = rss\n",
    "            bestColumns = list(subset) \n",
    "    bestPredictors.append(bestColumns)"
   ]
  },
  {
   "cell_type": "code",
   "execution_count": 29,
   "metadata": {},
   "outputs": [
    {
     "name": "stdout",
     "output_type": "stream",
     "text": [
      "[['x7'], ['x7', 'x9'], ['x2', 'x6', 'x7'], ['x2', 'x3', 'x6', 'x7'], ['x3', 'x4', 'x7', 'x8', 'x10'], ['x', 'x3', 'x4', 'x7', 'x8', 'x10'], ['x', 'x3', 'x4', 'x5', 'x6', 'x7', 'x10'], ['x', 'x3', 'x4', 'x5', 'x6', 'x7', 'x9', 'x10'], ['x', 'x2', 'x3', 'x4', 'x5', 'x6', 'x7', 'x8', 'x9'], ['x', 'x2', 'x3', 'x4', 'x5', 'x6', 'x7', 'x8', 'x9', 'x10']]\n"
     ]
    }
   ],
   "source": [
    "print(bestPredictors)"
   ]
  },
  {
   "cell_type": "code",
   "execution_count": 30,
   "metadata": {
    "scrolled": false
   },
   "outputs": [
    {
     "name": "stderr",
     "output_type": "stream",
     "text": [
      "/home/will/.local/anaconda3/lib/python3.6/site-packages/numpy/core/fromnumeric.py:2389: FutureWarning: Method .ptp is deprecated and will be removed in a future version. Use numpy.ptp instead.\n",
      "  return ptp(axis=axis, out=out, **kwargs)\n"
     ]
    }
   ],
   "source": [
    "# Select the best of these models, using C_p, AIC, BIC, or adjusted R^2\n",
    "# Lets get all the above and plot them vs k.\n",
    "\n",
    "# I'll switch to statsmodels for this\n",
    "\n",
    "AICs = []\n",
    "BICs = []\n",
    "adjustedR2s = []\n",
    "for i, cols in enumerate(bestPredictors):\n",
    "    k = i+1\n",
    "    model = sm.OLS(y, sm.add_constant(x_df[cols]))\n",
    "    results = model.fit()\n",
    "    AICs.append(results.aic)\n",
    "    BICs.append(results.bic)\n",
    "    adjustedR2s.append(results.rsquared_adj)"
   ]
  },
  {
   "cell_type": "code",
   "execution_count": 31,
   "metadata": {},
   "outputs": [
    {
     "data": {
      "image/png": "[encoded data removed]",
      "text/plain": [
       "<Figure size 360x720 with 3 Axes>"
      ]
     },
     "metadata": {
      "needs_background": "light"
     },
     "output_type": "display_data"
    }
   ],
   "source": [
    "fig, axes = plt.subplots(nrows=3, figsize=(5,10))\n",
    "\n",
    "scores = {\"AIC\":AICs, \"BIC\":BICs, \"adjusted R^2\":adjustedR2s}\n",
    "\n",
    "for ax, score in zip(axes, scores.items()):\n",
    "    score_name, score_data = score\n",
    "    ax.scatter(range(1,11), score_data)\n",
    "    ax.set_ylabel(score_name)\n",
    "    ax.set_xlabel(\"Number of predictors\")\n",
    "plt.tight_layout()"
   ]
  },
  {
   "cell_type": "markdown",
   "metadata": {},
   "source": [
    "AIC misbehaves, but it seems like 1 predictor is the best from the adjusted R^2"
   ]
  },
  {
   "cell_type": "code",
   "execution_count": 32,
   "metadata": {},
   "outputs": [
    {
     "data": {
      "text/plain": [
       "['x7']"
      ]
     },
     "execution_count": 32,
     "metadata": {},
     "output_type": "execute_result"
    }
   ],
   "source": [
    "overallBestPredictors = bestPredictors[0]\n",
    "overallBestPredictors"
   ]
  },
  {
   "cell_type": "code",
   "execution_count": 33,
   "metadata": {},
   "outputs": [
    {
     "name": "stdout",
     "output_type": "stream",
     "text": [
      "predicted coefficients: 0.9653325427617858, 6.999678300212569\n",
      "actual coefficients: 1, 7\n"
     ]
    }
   ],
   "source": [
    "model = sklearn.linear_model.LinearRegression()\n",
    "model.fit(x_df[overallBestPredictors],y)\n",
    "print(f\"predicted coefficients: {model.intercept_},\", \", \".join(map(str, model.coef_)))\n",
    "print(f\"actual coefficients: {b0}, {b7}\")\n"
   ]
  },
  {
   "cell_type": "markdown",
   "metadata": {},
   "source": [
    "#### And using lasso:"
   ]
  },
  {
   "cell_type": "code",
   "execution_count": 34,
   "metadata": {
    "scrolled": true
   },
   "outputs": [
    {
     "data": {
      "text/plain": [
       "LassoLarsCV(copy_X=True, cv=5, eps=2.220446049250313e-16, fit_intercept=True,\n",
       "      max_iter=1000000.0, max_n_alphas=1000, n_jobs=None, normalize=True,\n",
       "      positive=False, precompute='auto', verbose=False)"
      ]
     },
     "execution_count": 34,
     "metadata": {},
     "output_type": "execute_result"
    }
   ],
   "source": [
    "# Use the LassoCV\n",
    "lasso_model = sklearn.linear_model.LassoLarsCV(cv=5, max_iter=1e6)\n",
    "lasso_model.fit(x_df,y)\n"
   ]
  },
  {
   "cell_type": "code",
   "execution_count": 35,
   "metadata": {},
   "outputs": [
    {
     "data": {
      "image/png": "[encoded data removed]",
      "text/plain": [
       "<Figure size 432x288 with 1 Axes>"
      ]
     },
     "metadata": {
      "needs_background": "light"
     },
     "output_type": "display_data"
    }
   ],
   "source": [
    "y = list(map(np.mean,lasso_model.mse_path_))\n",
    "x = lasso_model.cv_alphas_\n",
    "plt.plot(x,np.log(y))\n",
    "plt.ylabel(\"log(mse)\")\n",
    "plt.xlabel(\"alpha\")\n",
    "plt.show()"
   ]
  },
  {
   "cell_type": "code",
   "execution_count": 36,
   "metadata": {},
   "outputs": [],
   "source": [
    "coefficients = lasso_model.coef_path_"
   ]
  },
  {
   "cell_type": "code",
   "execution_count": 37,
   "metadata": {},
   "outputs": [
    {
     "data": {
      "text/plain": [
       "<matplotlib.legend.Legend at 0x7fab23b9b128>"
      ]
     },
     "execution_count": 37,
     "metadata": {},
     "output_type": "execute_result"
    },
    {
     "data": {
      "image/png": "[encoded data removed]",
      "text/plain": [
       "<Figure size 432x288 with 1 Axes>"
      ]
     },
     "metadata": {
      "needs_background": "light"
     },
     "output_type": "display_data"
    }
   ],
   "source": [
    "for i,coefficient in enumerate(coefficients):\n",
    "    plt.plot(lasso_model.alphas_, coefficient, label=f\"x^{i+1}\")\n",
    "plt.xlabel(\"alpha\")\n",
    "plt.legend()"
   ]
  },
  {
   "cell_type": "code",
   "execution_count": 38,
   "metadata": {},
   "outputs": [
    {
     "data": {
      "text/plain": [
       "0.004572915664545062"
      ]
     },
     "execution_count": 38,
     "metadata": {},
     "output_type": "execute_result"
    }
   ],
   "source": [
    "lasso_model.alpha_"
   ]
  },
  {
   "cell_type": "code",
   "execution_count": 39,
   "metadata": {},
   "outputs": [
    {
     "data": {
      "text/plain": [
       "array([ 0.00000000e+00, -4.83307159e-02,  0.00000000e+00,  0.00000000e+00,\n",
       "        2.48923793e-02,  0.00000000e+00,  6.99712055e+00,  1.16857127e-04,\n",
       "        0.00000000e+00,  0.00000000e+00])"
      ]
     },
     "execution_count": 39,
     "metadata": {},
     "output_type": "execute_result"
    }
   ],
   "source": [
    "lasso_model.coef_"
   ]
  },
  {
   "cell_type": "code",
   "execution_count": 40,
   "metadata": {
    "scrolled": true
   },
   "outputs": [
    {
     "data": {
      "text/plain": [
       "0.9924601280415857"
      ]
     },
     "execution_count": 40,
     "metadata": {},
     "output_type": "execute_result"
    }
   ],
   "source": [
    "lasso_model.intercept_"
   ]
  },
  {
   "cell_type": "markdown",
   "metadata": {},
   "source": [
    "Lasso has correctly assigned the coefficients, though it has also assigned non-zero but negligible coefficients to other powers of x"
   ]
  },
  {
   "cell_type": "code",
   "execution_count": null,
   "metadata": {},
   "outputs": [],
   "source": []
  }
 ],
 "metadata": {
  "kernelspec": {
   "display_name": "Python 3",
   "language": "python",
   "name": "python3"
  },
  "language_info": {
   "codemirror_mode": {
    "name": "ipython",
    "version": 3
   },
   "file_extension": ".py",
   "mimetype": "text/x-python",
   "name": "python",
   "nbconvert_exporter": "python",
   "pygments_lexer": "ipython3",
   "version": "3.6.8"
  }
 },
 "nbformat": 4,
 "nbformat_minor": 2
}
