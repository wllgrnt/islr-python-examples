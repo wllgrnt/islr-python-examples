{
 "cells": [
  {
   "cell_type": "markdown",
   "metadata": {},
   "source": [
    "# Chapter 6\n",
    "\n",
    "## Question 8\n",
    "\n",
    "Running best subset selection on simulated data"
   ]
  },
  {
   "cell_type": "code",
   "execution_count": 1,
   "metadata": {},
   "outputs": [],
   "source": [
    "import numpy as np\n",
    "import seaborn as sns\n",
    "import pandas as pd \n",
    "import itertools\n",
    "import sklearn.linear_model\n",
    "import statsmodels.api as sm\n",
    "\n",
    "import matplotlib.pyplot as plt\n",
    "\n",
    "sns.set(style=\"whitegrid\")"
   ]
  },
  {
   "cell_type": "markdown",
   "metadata": {},
   "source": [
    "### (a) Generate a predictor X of length n=100, as well as a noise vector $\\epsilon$ of length n=100"
   ]
  },
  {
   "cell_type": "code",
   "execution_count": 2,
   "metadata": {},
   "outputs": [],
   "source": [
    "x = np.random.normal(size=100)\n",
    "eps = np.random.normal(size=100)\n"
   ]
  },
  {
   "cell_type": "markdown",
   "metadata": {},
   "source": [
    "### (b) Generate a response vector Y according to the model ... (see below)"
   ]
  },
  {
   "cell_type": "code",
   "execution_count": 3,
   "metadata": {},
   "outputs": [],
   "source": [
    "# Constants of your choice\n",
    "b0 = 1\n",
    "b1 = 2\n",
    "b2 = 3\n",
    "b3 = 4\n",
    "y = b0 + b1*x + b2*np.square(x) + b3*np.power(x,3) + eps "
   ]
  },
  {
   "cell_type": "code",
   "execution_count": 4,
   "metadata": {},
   "outputs": [
    {
     "data": {
      "text/plain": [
       "<matplotlib.axes._subplots.AxesSubplot at 0x7f139dfdc2e8>"
      ]
     },
     "execution_count": 4,
     "metadata": {},
     "output_type": "execute_result"
    },
    {
     "data": {
      "image/png": "[encoded data removed]",
      "text/plain": [
       "<Figure size 432x288 with 1 Axes>"
      ]
     },
     "metadata": {
      "needs_background": "light"
     },
     "output_type": "display_data"
    }
   ],
   "source": [
    "sns.scatterplot(x,y)"
   ]
  },
  {
   "cell_type": "markdown",
   "metadata": {},
   "source": [
    "### (c) Perform best subset selection (they use `regsubsets()` in r) to choose the best model containing the predictors X, X^2, .... X^10. What is the best model according to $C_p$, BIC, and adjusted R? Show some plots to justify this, and report the coefficients of the best model."
   ]
  },
  {
   "cell_type": "code",
   "execution_count": 5,
   "metadata": {},
   "outputs": [
    {
     "data": {
      "text/html": [
       "<div>\n",
       "<style scoped>\n",
       "    .dataframe tbody tr th:only-of-type {\n",
       "        vertical-align: middle;\n",
       "    }\n",
       "\n",
       "    .dataframe tbody tr th {\n",
       "        vertical-align: top;\n",
       "    }\n",
       "\n",
       "    .dataframe thead th {\n",
       "        text-align: right;\n",
       "    }\n",
       "</style>\n",
       "<table border=\"1\" class=\"dataframe\">\n",
       "  <thead>\n",
       "    <tr style=\"text-align: right;\">\n",
       "      <th></th>\n",
       "      <th>x</th>\n",
       "      <th>x2</th>\n",
       "      <th>x3</th>\n",
       "      <th>x4</th>\n",
       "      <th>x5</th>\n",
       "      <th>x6</th>\n",
       "      <th>x7</th>\n",
       "      <th>x8</th>\n",
       "      <th>x9</th>\n",
       "      <th>x10</th>\n",
       "      <th>y</th>\n",
       "    </tr>\n",
       "  </thead>\n",
       "  <tbody>\n",
       "    <tr>\n",
       "      <th>0</th>\n",
       "      <td>0.185714</td>\n",
       "      <td>0.034490</td>\n",
       "      <td>0.006405</td>\n",
       "      <td>0.001190</td>\n",
       "      <td>0.000221</td>\n",
       "      <td>0.000041</td>\n",
       "      <td>0.000008</td>\n",
       "      <td>0.000001</td>\n",
       "      <td>2.627915e-07</td>\n",
       "      <td>4.880417e-08</td>\n",
       "      <td>3.013694</td>\n",
       "    </tr>\n",
       "    <tr>\n",
       "      <th>1</th>\n",
       "      <td>0.779396</td>\n",
       "      <td>0.607458</td>\n",
       "      <td>0.473450</td>\n",
       "      <td>0.369005</td>\n",
       "      <td>0.287601</td>\n",
       "      <td>0.224155</td>\n",
       "      <td>0.174705</td>\n",
       "      <td>0.136164</td>\n",
       "      <td>1.061260e-01</td>\n",
       "      <td>8.271414e-02</td>\n",
       "      <td>7.553538</td>\n",
       "    </tr>\n",
       "    <tr>\n",
       "      <th>2</th>\n",
       "      <td>-1.356519</td>\n",
       "      <td>1.840145</td>\n",
       "      <td>-2.496192</td>\n",
       "      <td>3.386132</td>\n",
       "      <td>-4.593354</td>\n",
       "      <td>6.230973</td>\n",
       "      <td>-8.452435</td>\n",
       "      <td>11.465892</td>\n",
       "      <td>-1.555370e+01</td>\n",
       "      <td>2.109890e+01</td>\n",
       "      <td>-6.262695</td>\n",
       "    </tr>\n",
       "    <tr>\n",
       "      <th>3</th>\n",
       "      <td>1.013529</td>\n",
       "      <td>1.027241</td>\n",
       "      <td>1.041139</td>\n",
       "      <td>1.055224</td>\n",
       "      <td>1.069500</td>\n",
       "      <td>1.083969</td>\n",
       "      <td>1.098634</td>\n",
       "      <td>1.113498</td>\n",
       "      <td>1.128562e+00</td>\n",
       "      <td>1.143831e+00</td>\n",
       "      <td>9.448852</td>\n",
       "    </tr>\n",
       "    <tr>\n",
       "      <th>4</th>\n",
       "      <td>0.372392</td>\n",
       "      <td>0.138676</td>\n",
       "      <td>0.051642</td>\n",
       "      <td>0.019231</td>\n",
       "      <td>0.007161</td>\n",
       "      <td>0.002667</td>\n",
       "      <td>0.000993</td>\n",
       "      <td>0.000370</td>\n",
       "      <td>1.377221e-04</td>\n",
       "      <td>5.128663e-05</td>\n",
       "      <td>3.220310</td>\n",
       "    </tr>\n",
       "  </tbody>\n",
       "</table>\n",
       "</div>"
      ],
      "text/plain": [
       "          x        x2        x3        x4        x5        x6        x7  \\\n",
       "0  0.185714  0.034490  0.006405  0.001190  0.000221  0.000041  0.000008   \n",
       "1  0.779396  0.607458  0.473450  0.369005  0.287601  0.224155  0.174705   \n",
       "2 -1.356519  1.840145 -2.496192  3.386132 -4.593354  6.230973 -8.452435   \n",
       "3  1.013529  1.027241  1.041139  1.055224  1.069500  1.083969  1.098634   \n",
       "4  0.372392  0.138676  0.051642  0.019231  0.007161  0.002667  0.000993   \n",
       "\n",
       "          x8            x9           x10         y  \n",
       "0   0.000001  2.627915e-07  4.880417e-08  3.013694  \n",
       "1   0.136164  1.061260e-01  8.271414e-02  7.553538  \n",
       "2  11.465892 -1.555370e+01  2.109890e+01 -6.262695  \n",
       "3   1.113498  1.128562e+00  1.143831e+00  9.448852  \n",
       "4   0.000370  1.377221e-04  5.128663e-05  3.220310  "
      ]
     },
     "execution_count": 5,
     "metadata": {},
     "output_type": "execute_result"
    }
   ],
   "source": [
    "# Create a data frame with X, X^2, X^3 ... X^10, and Y.\n",
    "\n",
    "predictors = np.vstack([x, *(np.power(x,i) for i in range(2,11))]).T\n",
    "\n",
    "df = pd.DataFrame(data=predictors, columns=\"x x2 x3 x4 x5 x6 x7 x8 x9 x10\".split())\n",
    "df[\"y\"] = y\n",
    "df.head()\n"
   ]
  },
  {
   "cell_type": "markdown",
   "metadata": {},
   "source": [
    "I have to implement best subset selection manually.\n",
    "\n",
    "\n",
    "For k=1,2,...,n\n",
    "\n",
    "- Fit all $n\\choose{k}$ models with k predictors\n",
    "- Pick the best among these, call it $M_k$. Define the best as having e.g. the smallest RSS (or highest $R^2$).\n",
    "- Select the single best model from $M_0$ (the null model), $M_1$, $M_2$ etc, using cross-validated test error, $C_p$, BIC etc\n"
   ]
  },
  {
   "cell_type": "code",
   "execution_count": 6,
   "metadata": {},
   "outputs": [
    {
     "name": "stdout",
     "output_type": "stream",
     "text": [
      "1\n",
      "2\n",
      "3\n",
      "4\n",
      "5\n",
      "6\n",
      "7\n",
      "8\n",
      "9\n",
      "10\n"
     ]
    }
   ],
   "source": [
    "# I have to implement best subset selection manually.\n",
    "def get_linear_reg_score(X,Y):\n",
    "    \"\"\"Given X and Y, fit a linear model and return the R^2 score\"\"\"\n",
    "    model = sklearn.linear_model.LinearRegression()\n",
    "    model.fit(X,Y)\n",
    "    Rsquared = model.score(X,Y)\n",
    "    return Rsquared\n",
    "\n",
    "\n",
    "bestPredictors = []\n",
    "\n",
    "x_df = df.drop(columns=[\"y\"])\n",
    "\n",
    "p = len(x_df.columns)\n",
    "for k in range(1,p+1):\n",
    "    print(k)\n",
    "    bestModelRss = 0\n",
    "    bestColumns = None\n",
    "    for subset in itertools.combinations(x_df.columns,k):\n",
    "        rss = get_linear_reg_score(x_df[list(subset)],y)\n",
    "        if rss > bestModelRss:\n",
    "            bestModelRss = rss\n",
    "            bestColumns = list(subset) \n",
    "    bestPredictors.append(bestColumns)"
   ]
  },
  {
   "cell_type": "code",
   "execution_count": 7,
   "metadata": {},
   "outputs": [
    {
     "name": "stdout",
     "output_type": "stream",
     "text": [
      "[['x3'], ['x2', 'x3'], ['x', 'x2', 'x3'], ['x', 'x2', 'x3', 'x4'], ['x', 'x2', 'x3', 'x4', 'x9'], ['x', 'x2', 'x3', 'x6', 'x8', 'x10'], ['x', 'x2', 'x3', 'x4', 'x6', 'x8', 'x10'], ['x', 'x2', 'x3', 'x5', 'x7', 'x8', 'x9', 'x10'], ['x', 'x2', 'x3', 'x5', 'x6', 'x7', 'x8', 'x9', 'x10'], ['x', 'x2', 'x3', 'x4', 'x5', 'x6', 'x7', 'x8', 'x9', 'x10']]\n"
     ]
    }
   ],
   "source": [
    "print(bestPredictors)"
   ]
  },
  {
   "cell_type": "code",
   "execution_count": 8,
   "metadata": {
    "scrolled": false
   },
   "outputs": [
    {
     "name": "stderr",
     "output_type": "stream",
     "text": [
      "/home/will/.local/anaconda3/lib/python3.6/site-packages/numpy/core/fromnumeric.py:2389: FutureWarning: Method .ptp is deprecated and will be removed in a future version. Use numpy.ptp instead.\n",
      "  return ptp(axis=axis, out=out, **kwargs)\n"
     ]
    }
   ],
   "source": [
    "# Select the best of these models, using C_p, AIC, BIC, or adjusted R^2\n",
    "# Lets get all the above and plot them vs k.\n",
    "\n",
    "# I'll switch to statsmodels for this\n",
    "\n",
    "AICs = []\n",
    "BICs = []\n",
    "adjustedR2s = []\n",
    "for i, cols in enumerate(bestPredictors):\n",
    "    k = i+1\n",
    "    model = sm.OLS(y, sm.add_constant(x_df[cols]))\n",
    "    results = model.fit()\n",
    "    AICs.append(results.aic)\n",
    "    BICs.append(results.bic)\n",
    "    adjustedR2s.append(results.rsquared_adj)"
   ]
  },
  {
   "cell_type": "code",
   "execution_count": 9,
   "metadata": {},
   "outputs": [
    {
     "data": {
      "image/png": "[encoded data removed]",
      "text/plain": [
       "<Figure size 360x720 with 3 Axes>"
      ]
     },
     "metadata": {
      "needs_background": "light"
     },
     "output_type": "display_data"
    }
   ],
   "source": [
    "fig, axes = plt.subplots(nrows=3, figsize=(5,10))\n",
    "\n",
    "scores = {\"AIC\":AICs, \"BIC\":BICs, \"adjusted R^2\":adjustedR2s}\n",
    "\n",
    "for ax, score in zip(axes, scores.items()):\n",
    "    score_name, score_data = score\n",
    "    ax.scatter(range(1,11), score_data)\n",
    "    ax.set_ylabel(score_name)\n",
    "    ax.set_xlabel(\"Number of predictors\")\n",
    "plt.tight_layout()"
   ]
  },
  {
   "cell_type": "markdown",
   "metadata": {},
   "source": [
    "Looks like the data supports 3 predictors (i.e. X, X^2, X^3) as expected"
   ]
  },
  {
   "cell_type": "code",
   "execution_count": 10,
   "metadata": {},
   "outputs": [
    {
     "data": {
      "text/plain": [
       "['x', 'x2', 'x3']"
      ]
     },
     "execution_count": 10,
     "metadata": {},
     "output_type": "execute_result"
    }
   ],
   "source": [
    "overallBestPredictors = bestPredictors[2]\n",
    "overallBestPredictors"
   ]
  },
  {
   "cell_type": "code",
   "execution_count": 12,
   "metadata": {},
   "outputs": [
    {
     "name": "stdout",
     "output_type": "stream",
     "text": [
      "predicted coefficients: 0.9943592450141274, 2.1536881147207123, 3.037112797845064, 3.9505118025050177\n",
      "actual coefficients: 1, 2, 3, 4\n"
     ]
    }
   ],
   "source": [
    "model = sklearn.linear_model.LinearRegression()\n",
    "model.fit(x_df[overallBestPredictors],y)\n",
    "print(f\"predicted coefficients: {model.intercept_},\", \", \".join(map(str, model.coef_)))\n",
    "print(f\"actual coefficients: {b0}, {b1}, {b2}, {b3}\")\n"
   ]
  },
  {
   "cell_type": "code",
   "execution_count": null,
   "metadata": {},
   "outputs": [],
   "source": []
  }
 ],
 "metadata": {
  "kernelspec": {
   "display_name": "Python 3",
   "language": "python",
   "name": "python3"
  },
  "language_info": {
   "codemirror_mode": {
    "name": "ipython",
    "version": 3
   },
   "file_extension": ".py",
   "mimetype": "text/x-python",
   "name": "python",
   "nbconvert_exporter": "python",
   "pygments_lexer": "ipython3",
   "version": "3.6.8"
  }
 },
 "nbformat": 4,
 "nbformat_minor": 2
}
