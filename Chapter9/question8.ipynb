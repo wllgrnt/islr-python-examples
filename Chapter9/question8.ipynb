{
 "cells": [
  {
   "cell_type": "markdown",
   "metadata": {},
   "source": [
    "# Chapter 9\n",
    "\n",
    "## Question 8\n",
    "\n",
    "Applying SVMs to the `OJ` data set"
   ]
  },
  {
   "cell_type": "code",
   "execution_count": 1,
   "metadata": {},
   "outputs": [],
   "source": [
    "import statsmodels.api as sm\n",
    "import pandas as pd\n",
    "import matplotlib.pyplot as plt\n",
    "import numpy as np\n",
    "\n",
    "import sklearn.model_selection\n",
    "import sklearn.svm\n",
    "import sklearn.metrics\n",
    "import sklearn.preprocessing\n",
    "import sklearn.pipeline"
   ]
  },
  {
   "cell_type": "code",
   "execution_count": 2,
   "metadata": {},
   "outputs": [
    {
     "data": {
      "text/html": [
       "<div>\n",
       "<style scoped>\n",
       "    .dataframe tbody tr th:only-of-type {\n",
       "        vertical-align: middle;\n",
       "    }\n",
       "\n",
       "    .dataframe tbody tr th {\n",
       "        vertical-align: top;\n",
       "    }\n",
       "\n",
       "    .dataframe thead th {\n",
       "        text-align: right;\n",
       "    }\n",
       "</style>\n",
       "<table border=\"1\" class=\"dataframe\">\n",
       "  <thead>\n",
       "    <tr style=\"text-align: right;\">\n",
       "      <th></th>\n",
       "      <th>Purchase</th>\n",
       "      <th>WeekofPurchase</th>\n",
       "      <th>StoreID</th>\n",
       "      <th>PriceCH</th>\n",
       "      <th>PriceMM</th>\n",
       "      <th>DiscCH</th>\n",
       "      <th>DiscMM</th>\n",
       "      <th>SpecialCH</th>\n",
       "      <th>SpecialMM</th>\n",
       "      <th>LoyalCH</th>\n",
       "      <th>SalePriceMM</th>\n",
       "      <th>SalePriceCH</th>\n",
       "      <th>PriceDiff</th>\n",
       "      <th>Store7</th>\n",
       "      <th>PctDiscMM</th>\n",
       "      <th>PctDiscCH</th>\n",
       "      <th>ListPriceDiff</th>\n",
       "      <th>STORE</th>\n",
       "    </tr>\n",
       "  </thead>\n",
       "  <tbody>\n",
       "    <tr>\n",
       "      <th>0</th>\n",
       "      <td>CH</td>\n",
       "      <td>237</td>\n",
       "      <td>1</td>\n",
       "      <td>1.75</td>\n",
       "      <td>1.99</td>\n",
       "      <td>0.00</td>\n",
       "      <td>0.0</td>\n",
       "      <td>0</td>\n",
       "      <td>0</td>\n",
       "      <td>0.500000</td>\n",
       "      <td>1.99</td>\n",
       "      <td>1.75</td>\n",
       "      <td>0.24</td>\n",
       "      <td>No</td>\n",
       "      <td>0.000000</td>\n",
       "      <td>0.000000</td>\n",
       "      <td>0.24</td>\n",
       "      <td>1</td>\n",
       "    </tr>\n",
       "    <tr>\n",
       "      <th>1</th>\n",
       "      <td>CH</td>\n",
       "      <td>239</td>\n",
       "      <td>1</td>\n",
       "      <td>1.75</td>\n",
       "      <td>1.99</td>\n",
       "      <td>0.00</td>\n",
       "      <td>0.3</td>\n",
       "      <td>0</td>\n",
       "      <td>1</td>\n",
       "      <td>0.600000</td>\n",
       "      <td>1.69</td>\n",
       "      <td>1.75</td>\n",
       "      <td>-0.06</td>\n",
       "      <td>No</td>\n",
       "      <td>0.150754</td>\n",
       "      <td>0.000000</td>\n",
       "      <td>0.24</td>\n",
       "      <td>1</td>\n",
       "    </tr>\n",
       "    <tr>\n",
       "      <th>2</th>\n",
       "      <td>CH</td>\n",
       "      <td>245</td>\n",
       "      <td>1</td>\n",
       "      <td>1.86</td>\n",
       "      <td>2.09</td>\n",
       "      <td>0.17</td>\n",
       "      <td>0.0</td>\n",
       "      <td>0</td>\n",
       "      <td>0</td>\n",
       "      <td>0.680000</td>\n",
       "      <td>2.09</td>\n",
       "      <td>1.69</td>\n",
       "      <td>0.40</td>\n",
       "      <td>No</td>\n",
       "      <td>0.000000</td>\n",
       "      <td>0.091398</td>\n",
       "      <td>0.23</td>\n",
       "      <td>1</td>\n",
       "    </tr>\n",
       "    <tr>\n",
       "      <th>3</th>\n",
       "      <td>MM</td>\n",
       "      <td>227</td>\n",
       "      <td>1</td>\n",
       "      <td>1.69</td>\n",
       "      <td>1.69</td>\n",
       "      <td>0.00</td>\n",
       "      <td>0.0</td>\n",
       "      <td>0</td>\n",
       "      <td>0</td>\n",
       "      <td>0.400000</td>\n",
       "      <td>1.69</td>\n",
       "      <td>1.69</td>\n",
       "      <td>0.00</td>\n",
       "      <td>No</td>\n",
       "      <td>0.000000</td>\n",
       "      <td>0.000000</td>\n",
       "      <td>0.00</td>\n",
       "      <td>1</td>\n",
       "    </tr>\n",
       "    <tr>\n",
       "      <th>4</th>\n",
       "      <td>CH</td>\n",
       "      <td>228</td>\n",
       "      <td>7</td>\n",
       "      <td>1.69</td>\n",
       "      <td>1.69</td>\n",
       "      <td>0.00</td>\n",
       "      <td>0.0</td>\n",
       "      <td>0</td>\n",
       "      <td>0</td>\n",
       "      <td>0.956535</td>\n",
       "      <td>1.69</td>\n",
       "      <td>1.69</td>\n",
       "      <td>0.00</td>\n",
       "      <td>Yes</td>\n",
       "      <td>0.000000</td>\n",
       "      <td>0.000000</td>\n",
       "      <td>0.00</td>\n",
       "      <td>0</td>\n",
       "    </tr>\n",
       "  </tbody>\n",
       "</table>\n",
       "</div>"
      ],
      "text/plain": [
       "  Purchase  WeekofPurchase  StoreID  PriceCH  PriceMM  DiscCH  DiscMM  \\\n",
       "0       CH             237        1     1.75     1.99    0.00     0.0   \n",
       "1       CH             239        1     1.75     1.99    0.00     0.3   \n",
       "2       CH             245        1     1.86     2.09    0.17     0.0   \n",
       "3       MM             227        1     1.69     1.69    0.00     0.0   \n",
       "4       CH             228        7     1.69     1.69    0.00     0.0   \n",
       "\n",
       "   SpecialCH  SpecialMM   LoyalCH  SalePriceMM  SalePriceCH  PriceDiff Store7  \\\n",
       "0          0          0  0.500000         1.99         1.75       0.24     No   \n",
       "1          0          1  0.600000         1.69         1.75      -0.06     No   \n",
       "2          0          0  0.680000         2.09         1.69       0.40     No   \n",
       "3          0          0  0.400000         1.69         1.69       0.00     No   \n",
       "4          0          0  0.956535         1.69         1.69       0.00    Yes   \n",
       "\n",
       "   PctDiscMM  PctDiscCH  ListPriceDiff  STORE  \n",
       "0   0.000000   0.000000           0.24      1  \n",
       "1   0.150754   0.000000           0.24      1  \n",
       "2   0.000000   0.091398           0.23      1  \n",
       "3   0.000000   0.000000           0.00      1  \n",
       "4   0.000000   0.000000           0.00      0  "
      ]
     },
     "execution_count": 2,
     "metadata": {},
     "output_type": "execute_result"
    }
   ],
   "source": [
    "oj_dataset = sm.datasets.get_rdataset(\"OJ\", \"ISLR\").data\n",
    "oj_dataset.head()"
   ]
  },
  {
   "cell_type": "markdown",
   "metadata": {},
   "source": [
    "### (a) Create  a training set containing a random sample of 800 observations, and a test set containing the remainder."
   ]
  },
  {
   "cell_type": "code",
   "execution_count": 3,
   "metadata": {},
   "outputs": [],
   "source": [
    "X = oj_dataset.drop(columns=\"Purchase\")\n",
    "# Dummy-encode the categorical (here \"Store7\")\n",
    "X = pd.concat([X, pd.get_dummies(X[\"Store7\"], prefix=\"Store7\", drop_first=True)],axis=1).drop(columns=\"Store7\")\n",
    "\n",
    "\n",
    "y = oj_dataset.Purchase\n",
    "X_train, X_test, y_train, y_test = sklearn.model_selection.train_test_split(X, y, test_size=len(oj_dataset)-800)"
   ]
  },
  {
   "cell_type": "markdown",
   "metadata": {},
   "source": [
    "### (b) Fit an SVC to the training data using C=0.01. Produce summary statistics and describe the results."
   ]
  },
  {
   "cell_type": "code",
   "execution_count": 4,
   "metadata": {
    "scrolled": false
   },
   "outputs": [
    {
     "data": {
      "text/plain": [
       "SVC(C=0.01, cache_size=200, class_weight=None, coef0=0.0,\n",
       "    decision_function_shape='ovr', degree=3, gamma='auto_deprecated',\n",
       "    kernel='linear', max_iter=1000000.0, probability=False, random_state=None,\n",
       "    shrinking=True, tol=0.001, verbose=False)"
      ]
     },
     "execution_count": 4,
     "metadata": {},
     "output_type": "execute_result"
    }
   ],
   "source": [
    "linear_svm = sklearn.svm.SVC(kernel=\"linear\",C=0.01,max_iter=1e6)\n",
    "linear_svm.fit(X_train, y_train)\n"
   ]
  },
  {
   "cell_type": "code",
   "execution_count": 5,
   "metadata": {},
   "outputs": [],
   "source": [
    "def plot_confusion_matrix(y_true, y_pred, classes,\n",
    "                          cmap=plt.cm.Blues):\n",
    "    \"\"\"\n",
    "    This function prints and plots the confusion matrix.\n",
    "    \"\"\"\n",
    "    # Compute confusion matrix\n",
    "    cm = sklearn.metrics.confusion_matrix(y_true, y_pred)\n",
    "    # Only use the labels that appear in the data\n",
    "#     classes = classes[unique_labels(y_true, y_pred)]\n",
    "\n",
    "    fig, ax = plt.subplots()\n",
    "    im = ax.imshow(cm, interpolation='nearest', cmap=cmap)\n",
    "#     ax.figure.colorbar(im, ax=ax)\n",
    "    # We want to show all ticks...\n",
    "    ax.set(xticks=np.arange(cm.shape[1]),\n",
    "           yticks=np.arange(cm.shape[0]),\n",
    "           # ... and label them with the respective list entries\n",
    "           xticklabels=classes, yticklabels=classes,\n",
    "           ylabel='True label',\n",
    "           xlabel='Predicted label')\n",
    "\n",
    "    # Rotate the tick labels and set their alignment.\n",
    "    plt.setp(ax.get_xticklabels(), rotation=45, ha=\"right\",\n",
    "             rotation_mode=\"anchor\")\n",
    "\n",
    "    # Loop over data dimensions and create text annotations.\n",
    "    fmt = 'd'\n",
    "    thresh = cm.max() / 2.\n",
    "    for i in range(cm.shape[0]):\n",
    "        for j in range(cm.shape[1]):\n",
    "            ax.text(j, i, format(cm[i, j], fmt),\n",
    "                    ha=\"center\", va=\"center\",\n",
    "                    color=\"white\" if cm[i, j] > thresh else \"black\")\n",
    "    fig.tight_layout()\n",
    "    return ax"
   ]
  },
  {
   "cell_type": "code",
   "execution_count": 6,
   "metadata": {
    "scrolled": false
   },
   "outputs": [
    {
     "name": "stdout",
     "output_type": "stream",
     "text": [
      "The number of support vectors: 616\n",
      "Confusion matrix on the training data:\n",
      "[[435  49]\n",
      " [117 199]]\n"
     ]
    },
    {
     "data": {
      "image/png": "[encoded data removed]",
      "text/plain": [
       "<Figure size 432x288 with 1 Axes>"
      ]
     },
     "metadata": {
      "needs_background": "light"
     },
     "output_type": "display_data"
    },
    {
     "name": "stdout",
     "output_type": "stream",
     "text": [
      "F1-score on the training data: 0.84\n",
      "Confusion matrix on the test data:\n",
      "[[146  23]\n",
      " [ 41  60]]\n"
     ]
    },
    {
     "data": {
      "image/png": "[encoded data removed]",
      "text/plain": [
       "<Figure size 432x288 with 1 Axes>"
      ]
     },
     "metadata": {
      "needs_background": "light"
     },
     "output_type": "display_data"
    },
    {
     "name": "stdout",
     "output_type": "stream",
     "text": [
      "F1-score on the test data: 0.82\n"
     ]
    }
   ],
   "source": [
    "# What summary statistics would R give us?\n",
    "# The number of support vectors\n",
    "print(f\"The number of support vectors: {len(linear_svm.support_vectors_)}\")\n",
    "train_conf_matrix = sklearn.metrics.confusion_matrix(y_train, linear_svm.predict(X_train))\n",
    "print(f\"Confusion matrix on the training data:\\n{train_conf_matrix}\")\n",
    "plot_confusion_matrix(y_train, linear_svm.predict(X_train), linear_svm.classes_)\n",
    "plt.show()\n",
    "train_f1 = sklearn.metrics.f1_score(y_train, linear_svm.predict(X_train), pos_label=\"CH\")\n",
    "print(f\"F1-score on the training data: {train_f1:.2f}\")\n",
    "test_conf_matrix = sklearn.metrics.confusion_matrix(y_test, linear_svm.predict(X_test))\n",
    "print(f\"Confusion matrix on the test data:\\n{test_conf_matrix}\")\n",
    "test_f1 = sklearn.metrics.f1_score(y_test, linear_svm.predict(X_test), pos_label=\"CH\")\n",
    "plot_confusion_matrix(y_test, linear_svm.predict(X_test), linear_svm.classes_)\n",
    "plt.show()\n",
    "\n",
    "print(f\"F1-score on the test data: {test_f1:.2f}\")\n",
    "\n",
    "\n"
   ]
  },
  {
   "cell_type": "markdown",
   "metadata": {},
   "source": [
    "We are prone to predicting \"CH\" when the true value is \"MM\", on both the test and training data."
   ]
  },
  {
   "cell_type": "code",
   "execution_count": 7,
   "metadata": {
    "scrolled": false
   },
   "outputs": [
    {
     "name": "stdout",
     "output_type": "stream",
     "text": [
      "Confusion matrix on the training data:\n",
      "[[427  57]\n",
      " [ 74 242]]\n"
     ]
    },
    {
     "data": {
      "image/png": "[encoded data removed]",
      "text/plain": [
       "<Figure size 432x288 with 1 Axes>"
      ]
     },
     "metadata": {
      "needs_background": "light"
     },
     "output_type": "display_data"
    },
    {
     "name": "stdout",
     "output_type": "stream",
     "text": [
      "F1-score on the training data: 0.87\n",
      "Confusion matrix on the test data:\n",
      "[[144  25]\n",
      " [ 27  74]]\n"
     ]
    },
    {
     "data": {
      "image/png": "[encoded data removed]",
      "text/plain": [
       "<Figure size 432x288 with 1 Axes>"
      ]
     },
     "metadata": {
      "needs_background": "light"
     },
     "output_type": "display_data"
    },
    {
     "name": "stdout",
     "output_type": "stream",
     "text": [
      "F1-score on the test data: 0.85\n"
     ]
    }
   ],
   "source": [
    "# Try scaling all the data\n",
    "scaler = sklearn.preprocessing.StandardScaler()\n",
    "svm =  sklearn.svm.SVC(kernel=\"linear\",C=0.01,max_iter=1e6)\n",
    "\n",
    "pipe = sklearn.pipeline.Pipeline(steps=[(\"scaling\", scaler), (\"linear svm\", svm)])\n",
    "pipe.fit(X_train, y_train)\n",
    "\n",
    "\n",
    "train_conf_matrix = sklearn.metrics.confusion_matrix(y_train, pipe.predict(X_train))\n",
    "print(f\"Confusion matrix on the training data:\\n{train_conf_matrix}\")\n",
    "plot_confusion_matrix(y_train, pipe.predict(X_train), pipe.classes_)\n",
    "plt.show()\n",
    "train_f1 = sklearn.metrics.f1_score(y_train, pipe.predict(X_train), pos_label=\"CH\")\n",
    "print(f\"F1-score on the training data: {train_f1:.2f}\")\n",
    "test_conf_matrix = sklearn.metrics.confusion_matrix(y_test, pipe.predict(X_test))\n",
    "print(f\"Confusion matrix on the test data:\\n{test_conf_matrix}\")\n",
    "test_f1 = sklearn.metrics.f1_score(y_test, pipe.predict(X_test), pos_label=\"CH\")\n",
    "plot_confusion_matrix(y_test, pipe.predict(X_test), pipe.classes_)\n",
    "plt.show()\n",
    "\n",
    "print(f\"F1-score on the test data: {test_f1:.2f}\")\n",
    "\n",
    "\n"
   ]
  },
  {
   "cell_type": "markdown",
   "metadata": {},
   "source": [
    "We see that the problem is alleviated somewhat if the data is scaled beforehand"
   ]
  },
  {
   "cell_type": "markdown",
   "metadata": {},
   "source": [
    "### (c) What are the training and  test error rates?"
   ]
  },
  {
   "cell_type": "code",
   "execution_count": 8,
   "metadata": {},
   "outputs": [
    {
     "name": "stdout",
     "output_type": "stream",
     "text": [
      "Training misclassification rate: 0.16\n",
      "Test misclassification rate: 0.19\n"
     ]
    }
   ],
   "source": [
    "print(f\"Training misclassification rate: {sklearn.metrics.zero_one_loss(y_train, pipe.predict(X_train)):.2f}\")\n",
    "print(f\"Test misclassification rate: {sklearn.metrics.zero_one_loss(y_test, pipe.predict(X_test)):.2f}\")"
   ]
  },
  {
   "cell_type": "markdown",
   "metadata": {},
   "source": [
    "### (d) Use the `tune()` function (I'll use GridSearchCV instead) to select an optimal `cost` (here `C`). Consider values in the range 0.01 to 10"
   ]
  },
  {
   "cell_type": "code",
   "execution_count": 9,
   "metadata": {},
   "outputs": [],
   "source": [
    "scaler = sklearn.preprocessing.StandardScaler()\n",
    "svm =  sklearn.svm.SVC(kernel=\"linear\",max_iter=1e6)\n",
    "\n",
    "pipe = sklearn.pipeline.Pipeline(steps=[(\"scaling\", scaler), (\"svm\", svm)])\n",
    "\n",
    "params = {\"svm__C\": [0.01, 0.05, 0.1, 0.2, 0.3, 0.4, 0.5, 0.6, 0.7, 0.8, 0.9, 1.0, 5.0, 10.0]}\n",
    "linear_svm_cv = sklearn.model_selection.GridSearchCV(pipe, params, cv=5, n_jobs=4).fit(X,y)"
   ]
  },
  {
   "cell_type": "code",
   "execution_count": 10,
   "metadata": {},
   "outputs": [
    {
     "name": "stdout",
     "output_type": "stream",
     "text": [
      "Optimal value of C: 0.3\n"
     ]
    }
   ],
   "source": [
    "best_linear_svm = linear_svm_cv.best_estimator_\n",
    "print(f\"Optimal value of C: {best_linear_svm.get_params()['svm__C']}\")"
   ]
  },
  {
   "cell_type": "markdown",
   "metadata": {},
   "source": [
    "### (e) Compute the training and test error rates using this new value for `cost` (C)"
   ]
  },
  {
   "cell_type": "code",
   "execution_count": 11,
   "metadata": {},
   "outputs": [
    {
     "name": "stdout",
     "output_type": "stream",
     "text": [
      "Training misclassification rate: 0.16\n",
      "Test misclassification rate: 0.19\n"
     ]
    },
    {
     "data": {
      "text/plain": [
       "<matplotlib.axes._subplots.AxesSubplot at 0x7f01057976d8>"
      ]
     },
     "execution_count": 11,
     "metadata": {},
     "output_type": "execute_result"
    },
    {
     "data": {
      "image/png": "[encoded data removed]",
      "text/plain": [
       "<Figure size 432x288 with 1 Axes>"
      ]
     },
     "metadata": {
      "needs_background": "light"
     },
     "output_type": "display_data"
    }
   ],
   "source": [
    "print(f\"Training misclassification rate: {sklearn.metrics.zero_one_loss(y_train, best_linear_svm.predict(X_train)):.2f}\")\n",
    "print(f\"Test misclassification rate: {sklearn.metrics.zero_one_loss(y_test, best_linear_svm.predict(X_test)):.2f}\")\n",
    "plot_confusion_matrix(y_test, best_linear_svm.predict(X_test), best_linear_svm.classes_)\n"
   ]
  },
  {
   "cell_type": "markdown",
   "metadata": {},
   "source": [
    "### (f) Repeat parts (b) through (e) using an SVM with a radial kernel - use a default value for `gamma`"
   ]
  },
  {
   "cell_type": "code",
   "execution_count": 12,
   "metadata": {},
   "outputs": [
    {
     "data": {
      "image/png": "[encoded data removed]",
      "text/plain": [
       "<Figure size 432x288 with 1 Axes>"
      ]
     },
     "metadata": {
      "needs_background": "light"
     },
     "output_type": "display_data"
    },
    {
     "name": "stdout",
     "output_type": "stream",
     "text": [
      "F1-score on the training data: 0.75\n"
     ]
    },
    {
     "data": {
      "image/png": "[encoded data removed]",
      "text/plain": [
       "<Figure size 432x288 with 1 Axes>"
      ]
     },
     "metadata": {
      "needs_background": "light"
     },
     "output_type": "display_data"
    },
    {
     "name": "stdout",
     "output_type": "stream",
     "text": [
      "F1-score on the test data: 0.77\n",
      "Training misclassification rate: 0.40\n",
      "Test misclassification rate: 0.37\n",
      "\n",
      "Optimal value of C for radial SVM: 0.6\n",
      "Training misclassification rate: 0.14\n",
      "Test misclassification rate: 0.17\n"
     ]
    },
    {
     "data": {
      "image/png": "[encoded data removed]",
      "text/plain": [
       "<Figure size 432x288 with 1 Axes>"
      ]
     },
     "metadata": {
      "needs_background": "light"
     },
     "output_type": "display_data"
    }
   ],
   "source": [
    "# Try scaling all the data\n",
    "scaler = sklearn.preprocessing.StandardScaler()\n",
    "svm =  sklearn.svm.SVC(kernel=\"rbf\",C=0.01,max_iter=1e6, gamma=\"scale\")\n",
    "\n",
    "pipe = sklearn.pipeline.Pipeline(steps=[(\"scaling\", scaler), (\"radial svm\", svm)])\n",
    "pipe.fit(X_train, y_train)\n",
    "\n",
    "\n",
    "plot_confusion_matrix(y_train, pipe.predict(X_train), pipe.classes_)\n",
    "plt.show()\n",
    "train_f1 = sklearn.metrics.f1_score(y_train, pipe.predict(X_train), pos_label=\"CH\")\n",
    "print(f\"F1-score on the training data: {train_f1:.2f}\")\n",
    "\n",
    "\n",
    "test_f1 = sklearn.metrics.f1_score(y_test, pipe.predict(X_test), pos_label=\"CH\")\n",
    "plot_confusion_matrix(y_test, pipe.predict(X_test), pipe.classes_)\n",
    "plt.show()\n",
    "\n",
    "print(f\"F1-score on the test data: {test_f1:.2f}\")\n",
    "\n",
    "print(f\"Training misclassification rate: {sklearn.metrics.zero_one_loss(y_train, pipe.predict(X_train)):.2f}\")\n",
    "print(f\"Test misclassification rate: {sklearn.metrics.zero_one_loss(y_test, pipe.predict(X_test)):.2f}\")\n",
    "\n",
    "scaler = sklearn.preprocessing.StandardScaler()\n",
    "svm =  sklearn.svm.SVC(kernel=\"rbf\", gamma=\"scale\",max_iter=1e6)\n",
    "\n",
    "pipe = sklearn.pipeline.Pipeline(steps=[(\"scaling\", scaler), (\"svm\", svm)])\n",
    "\n",
    "params = {\"svm__C\": [0.01, 0.05, 0.1, 0.2, 0.3, 0.4, 0.5, 0.6, 0.7, 0.8, 0.9, 1.0, 5.0, 10.0]}\n",
    "radial_svm_cv = sklearn.model_selection.GridSearchCV(pipe, params, cv=5, n_jobs=4).fit(X,y)\n",
    "best_radial_svm = radial_svm_cv.best_estimator_\n",
    "print()\n",
    "print(f\"Optimal value of C for radial SVM: {best_radial_svm.get_params()['svm__C']}\")\n",
    "      \n",
    "print(f\"Training misclassification rate: {sklearn.metrics.zero_one_loss(y_train, best_radial_svm.predict(X_train)):.2f}\")\n",
    "print(f\"Test misclassification rate: {sklearn.metrics.zero_one_loss(y_test, best_radial_svm.predict(X_test)):.2f}\")\n",
    "plot_confusion_matrix(y_test, best_radial_svm.predict(X_test), best_radial_svm.classes_)\n",
    "plt.show()"
   ]
  },
  {
   "cell_type": "markdown",
   "metadata": {},
   "source": [
    "### (g) Repeat parts (b) through (e) using an SVM with a polynomial kernel - use a degree = 2"
   ]
  },
  {
   "cell_type": "code",
   "execution_count": 13,
   "metadata": {},
   "outputs": [
    {
     "data": {
      "image/png": "[encoded data removed]",
      "text/plain": [
       "<Figure size 432x288 with 1 Axes>"
      ]
     },
     "metadata": {
      "needs_background": "light"
     },
     "output_type": "display_data"
    },
    {
     "name": "stdout",
     "output_type": "stream",
     "text": [
      "F1-score on the training data: 0.76\n"
     ]
    },
    {
     "data": {
      "image/png": "[encoded data removed]",
      "text/plain": [
       "<Figure size 432x288 with 1 Axes>"
      ]
     },
     "metadata": {
      "needs_background": "light"
     },
     "output_type": "display_data"
    },
    {
     "name": "stdout",
     "output_type": "stream",
     "text": [
      "F1-score on the test data: 0.77\n",
      "Training misclassification rate: 0.37\n",
      "Test misclassification rate: 0.36\n",
      "\n",
      "Optimal value of C for radial SVM: 10.0\n",
      "Training misclassification rate: 0.19\n",
      "Test misclassification rate: 0.23\n"
     ]
    },
    {
     "data": {
      "image/png": "[encoded data removed]",
      "text/plain": [
       "<Figure size 432x288 with 1 Axes>"
      ]
     },
     "metadata": {
      "needs_background": "light"
     },
     "output_type": "display_data"
    }
   ],
   "source": [
    "# Try scaling all the data\n",
    "scaler = sklearn.preprocessing.StandardScaler()\n",
    "svm =  sklearn.svm.SVC(kernel=\"poly\",C=0.01,max_iter=1e6, gamma=\"scale\", degree=2)\n",
    "\n",
    "pipe = sklearn.pipeline.Pipeline(steps=[(\"scaling\", scaler), (\"poly svm\", svm)])\n",
    "pipe.fit(X_train, y_train)\n",
    "\n",
    "\n",
    "plot_confusion_matrix(y_train, pipe.predict(X_train), pipe.classes_)\n",
    "plt.show()\n",
    "train_f1 = sklearn.metrics.f1_score(y_train, pipe.predict(X_train), pos_label=\"CH\")\n",
    "print(f\"F1-score on the training data: {train_f1:.2f}\")\n",
    "\n",
    "\n",
    "test_f1 = sklearn.metrics.f1_score(y_test, pipe.predict(X_test), pos_label=\"CH\")\n",
    "plot_confusion_matrix(y_test, pipe.predict(X_test), pipe.classes_)\n",
    "plt.show()\n",
    "\n",
    "print(f\"F1-score on the test data: {test_f1:.2f}\")\n",
    "\n",
    "print(f\"Training misclassification rate: {sklearn.metrics.zero_one_loss(y_train, pipe.predict(X_train)):.2f}\")\n",
    "print(f\"Test misclassification rate: {sklearn.metrics.zero_one_loss(y_test, pipe.predict(X_test)):.2f}\")\n",
    "\n",
    "scaler = sklearn.preprocessing.StandardScaler()\n",
    "svm =  sklearn.svm.SVC(kernel=\"poly\", gamma=\"scale\",max_iter=1e6, degree=2)\n",
    "\n",
    "pipe = sklearn.pipeline.Pipeline(steps=[(\"scaling\", scaler), (\"svm\", svm)])\n",
    "\n",
    "params = {\"svm__C\": [0.01, 0.05, 0.1, 0.2, 0.3, 0.4, 0.5, 0.6, 0.7, 0.8, 0.9, 1.0, 5.0, 10.0]}\n",
    "poly_svm_cv = sklearn.model_selection.GridSearchCV(pipe, params, cv=5, n_jobs=4).fit(X,y)\n",
    "best_poly_svm = poly_svm_cv.best_estimator_\n",
    "print()\n",
    "print(f\"Optimal value of C for radial SVM: {best_poly_svm.get_params()['svm__C']}\")\n",
    "      \n",
    "print(f\"Training misclassification rate: {sklearn.metrics.zero_one_loss(y_train, best_poly_svm.predict(X_train)):.2f}\")\n",
    "print(f\"Test misclassification rate: {sklearn.metrics.zero_one_loss(y_test, best_poly_svm.predict(X_test)):.2f}\")\n",
    "plot_confusion_matrix(y_test, best_radial_svm.predict(X_test), best_poly_svm.classes_)\n",
    "plt.show()"
   ]
  },
  {
   "cell_type": "markdown",
   "metadata": {},
   "source": [
    "### (h) Overall, which approach seems to give the best results?\n",
    "\n",
    "It seems like the radial kernel, with C=0.6, gives the best results on this data set, closely followed by the linear kernel."
   ]
  },
  {
   "cell_type": "code",
   "execution_count": null,
   "metadata": {},
   "outputs": [],
   "source": []
  }
 ],
 "metadata": {
  "kernelspec": {
   "display_name": "Python 3",
   "language": "python",
   "name": "python3"
  },
  "language_info": {
   "codemirror_mode": {
    "name": "ipython",
    "version": 3
   },
   "file_extension": ".py",
   "mimetype": "text/x-python",
   "name": "python",
   "nbconvert_exporter": "python",
   "pygments_lexer": "ipython3",
   "version": "3.6.8"
  }
 },
 "nbformat": 4,
 "nbformat_minor": 2
}
