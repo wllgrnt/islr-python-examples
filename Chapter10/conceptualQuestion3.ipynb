{
 "cells": [
  {
   "cell_type": "markdown",
   "metadata": {},
   "source": [
    "# Chapter 10\n",
    "\n",
    "## Conceptual Question 3\n",
    "\n",
    "Performing K-means clustering manually, with K = 2"
   ]
  },
  {
   "cell_type": "code",
   "execution_count": 1,
   "metadata": {},
   "outputs": [],
   "source": [
    "import numpy as np\n",
    "import matplotlib.pyplot as plt\n",
    "import seaborn as sns\n",
    "import math\n",
    "\n",
    "sns.set(style=\"whitegrid\")"
   ]
  },
  {
   "cell_type": "code",
   "execution_count": 2,
   "metadata": {},
   "outputs": [],
   "source": [
    "X1 = np.asarray([1,1,0,5,6,4])\n",
    "X2 = np.asarray([4,3,4,1,2,0])"
   ]
  },
  {
   "cell_type": "markdown",
   "metadata": {},
   "source": [
    "### (a) Plot the observations"
   ]
  },
  {
   "cell_type": "code",
   "execution_count": 3,
   "metadata": {},
   "outputs": [
    {
     "data": {
      "image/png": "[encoded data removed]",
      "text/plain": [
       "<Figure size 432x288 with 1 Axes>"
      ]
     },
     "metadata": {
      "needs_background": "light"
     },
     "output_type": "display_data"
    }
   ],
   "source": [
    "plt.scatter(X1,X2)\n",
    "plt.xlabel(\"X1\")\n",
    "plt.ylabel(\"X2\")\n",
    "\n",
    "plt.show()"
   ]
  },
  {
   "cell_type": "markdown",
   "metadata": {},
   "source": [
    "### (b) Randomly assign a cluster label to each observation. Report the cluster labels for each observation."
   ]
  },
  {
   "cell_type": "code",
   "execution_count": 4,
   "metadata": {},
   "outputs": [
    {
     "name": "stdout",
     "output_type": "stream",
     "text": [
      "[1 0 0 1 1 1]\n"
     ]
    }
   ],
   "source": [
    "K = 2\n",
    "cluster_labels =  np.random.randint(0,2,size=len(X1))\n",
    "# There are more elegant ways to do this\n",
    "while len(set(cluster_labels)) != 2:\n",
    "    cluster_labels =  np.random.randint(0,2,size=len(X1))\n",
    "print(cluster_labels)"
   ]
  },
  {
   "cell_type": "markdown",
   "metadata": {},
   "source": [
    "### (c) Compute the centroid for each cluster"
   ]
  },
  {
   "cell_type": "code",
   "execution_count": 5,
   "metadata": {},
   "outputs": [],
   "source": [
    "def compute_centroid_each_cluster(data, cluster_labels):\n",
    "    \"\"\"\n",
    "    For each cluster, compute the (Euclidean) centroid. Return a {label: centroid} dictionary.\n",
    "    \"\"\"\n",
    "    cluster_labels = np.asarray(cluster_labels)\n",
    "    centroids = {}\n",
    "    for label in set(cluster_labels):\n",
    "        cluster_data = data[cluster_labels==label]\n",
    "        centroid_x1 = np.mean([x[0] for x in cluster_data])\n",
    "        centroid_x2 = np.mean([x[1] for x in cluster_data])\n",
    "        centroids[label] = (centroid_x1, centroid_x2)\n",
    "    return centroids\n",
    "            # Compute the mean\n",
    "\n",
    "def plot_clusters(data, cluster_labels, centroids=None):\n",
    "    \"\"\"\n",
    "    Plot the points, coloured by cluster, with centroids if given\n",
    "    \"\"\"\n",
    "    fig, ax = plt.subplots(figsize=(5,5))\n",
    "    X1, X2 = zip(*data)\n",
    "    ax.scatter(X1,X2, c=cluster_labels, cmap=plt.cm.coolwarm)\n",
    "    if centroids is not None:\n",
    "        centroid_X1, centroid_x2 = zip(*centroids.values())\n",
    "        ax.scatter(centroid_X1, centroid_x2, c=\"black\", marker=\"+\")\n",
    "    return ax\n",
    "    "
   ]
  },
  {
   "cell_type": "code",
   "execution_count": 6,
   "metadata": {},
   "outputs": [
    {
     "data": {
      "text/plain": [
       "<matplotlib.axes._subplots.AxesSubplot at 0x7fa474399978>"
      ]
     },
     "execution_count": 6,
     "metadata": {},
     "output_type": "execute_result"
    },
    {
     "data": {
      "image/png": "[encoded data removed]",
      "text/plain": [
       "<Figure size 360x360 with 1 Axes>"
      ]
     },
     "metadata": {
      "needs_background": "light"
     },
     "output_type": "display_data"
    }
   ],
   "source": [
    "data = np.vstack([X1.T, X2.T]).T  # Seems messy\n",
    "\n",
    "centroids = compute_centroid_each_cluster(data,cluster_labels)\n",
    "plot_clusters(data,cluster_labels, centroids=centroids)\n"
   ]
  },
  {
   "cell_type": "markdown",
   "metadata": {},
   "source": [
    "### (d) Assign each observation to the centroid to which it is closetst, in terms of Euclidean distance."
   ]
  },
  {
   "cell_type": "code",
   "execution_count": 7,
   "metadata": {},
   "outputs": [],
   "source": [
    "def get_new_cluster_labels(data, centroids):\n",
    "    new_cluster_labels = []\n",
    "    for i, row in enumerate(data):\n",
    "        best_cluster_label = None\n",
    "        best_distance = 1e9\n",
    "        for cluster_label, centroid_position in centroids.items():\n",
    "            distance = row - centroid_position\n",
    "            abs_distance = math.hypot(*distance)\n",
    "            if abs_distance < best_distance:\n",
    "                best_cluster_label = cluster_label\n",
    "                best_distance  = abs_distance\n",
    "        assert best_cluster_label is not None\n",
    "        new_cluster_labels.append(best_cluster_label)\n",
    "    return np.asarray(new_cluster_labels)"
   ]
  },
  {
   "cell_type": "code",
   "execution_count": 8,
   "metadata": {},
   "outputs": [
    {
     "name": "stdout",
     "output_type": "stream",
     "text": [
      "[0 0 0 1 1 1]\n"
     ]
    },
    {
     "data": {
      "text/plain": [
       "<matplotlib.axes._subplots.AxesSubplot at 0x7fa4743257b8>"
      ]
     },
     "execution_count": 8,
     "metadata": {},
     "output_type": "execute_result"
    },
    {
     "data": {
      "image/png": "[encoded data removed]",
      "text/plain": [
       "<Figure size 360x360 with 1 Axes>"
      ]
     },
     "metadata": {
      "needs_background": "light"
     },
     "output_type": "display_data"
    }
   ],
   "source": [
    "new_cluster_labels = get_new_cluster_labels(data, centroids)\n",
    "print(new_cluster_labels)\n",
    "plot_clusters(data, new_cluster_labels)"
   ]
  },
  {
   "cell_type": "markdown",
   "metadata": {},
   "source": [
    "### (e) Repeat (c) and (d) until the observations stop changing"
   ]
  },
  {
   "cell_type": "code",
   "execution_count": 9,
   "metadata": {
    "scrolled": false
   },
   "outputs": [
    {
     "data": {
      "image/png": "[encoded data removed]",
      "text/plain": [
       "<Figure size 360x360 with 1 Axes>"
      ]
     },
     "metadata": {
      "needs_background": "light"
     },
     "output_type": "display_data"
    },
    {
     "data": {
      "image/png": "[encoded data removed]",
      "text/plain": [
       "<Figure size 360x360 with 1 Axes>"
      ]
     },
     "metadata": {
      "needs_background": "light"
     },
     "output_type": "display_data"
    }
   ],
   "source": [
    "while True:\n",
    "    centroids = compute_centroid_each_cluster(data,cluster_labels)\n",
    "    plot_clusters(data,cluster_labels, centroids=centroids)\n",
    "    \n",
    "    new_cluster_labels = get_new_cluster_labels(data, centroids)\n",
    "    if all(cluster_labels == new_cluster_labels):\n",
    "        break\n",
    "    cluster_labels = new_cluster_labels"
   ]
  },
  {
   "cell_type": "code",
   "execution_count": 10,
   "metadata": {},
   "outputs": [
    {
     "data": {
      "image/png": "[encoded data removed]",
      "text/plain": [
       "<Figure size 360x360 with 1 Axes>"
      ]
     },
     "metadata": {
      "needs_background": "light"
     },
     "output_type": "display_data"
    },
    {
     "data": {
      "image/png": "[encoded data removed]",
      "text/plain": [
       "<Figure size 360x360 with 1 Axes>"
      ]
     },
     "metadata": {
      "needs_background": "light"
     },
     "output_type": "display_data"
    }
   ],
   "source": [
    "# Let's run the whole algo again, just to check\n",
    "\n",
    "K = 2\n",
    "cluster_labels =  np.random.randint(0,2,size=len(X1))\n",
    "# There are more elegant ways to do this\n",
    "while len(set(cluster_labels)) != 2:\n",
    "    cluster_labels =  np.random.randint(0,2,size=len(X1))\n",
    "\n",
    "while True:\n",
    "    centroids = compute_centroid_each_cluster(data,cluster_labels)\n",
    "    plot_clusters(data,cluster_labels, centroids=centroids)\n",
    "    \n",
    "    new_cluster_labels = get_new_cluster_labels(data, centroids)\n",
    "    if all(cluster_labels == new_cluster_labels):\n",
    "        break\n",
    "    cluster_labels = new_cluster_labels"
   ]
  },
  {
   "cell_type": "code",
   "execution_count": null,
   "metadata": {},
   "outputs": [],
   "source": []
  }
 ],
 "metadata": {
  "kernelspec": {
   "display_name": "Python 3",
   "language": "python",
   "name": "python3"
  },
  "language_info": {
   "codemirror_mode": {
    "name": "ipython",
    "version": 3
   },
   "file_extension": ".py",
   "mimetype": "text/x-python",
   "name": "python",
   "nbconvert_exporter": "python",
   "pygments_lexer": "ipython3",
   "version": "3.6.8"
  }
 },
 "nbformat": 4,
 "nbformat_minor": 2
}
