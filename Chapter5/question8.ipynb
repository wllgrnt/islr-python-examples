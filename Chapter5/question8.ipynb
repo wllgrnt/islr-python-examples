{
 "cells": [
  {
   "cell_type": "markdown",
   "metadata": {},
   "source": [
    "# Chapter 5\n",
    "\n",
    "## Question 8\n",
    "\n",
    "In which we do cross-validation on a simulated data set."
   ]
  },
  {
   "cell_type": "code",
   "execution_count": 1,
   "metadata": {},
   "outputs": [],
   "source": [
    "import numpy as np\n",
    "import matplotlib.pyplot as plt\n",
    "import seaborn as sns\n",
    "import pandas as pd\n",
    "import statsmodels.formula.api as smf\n",
    "sns.set(style=\"whitegrid\")"
   ]
  },
  {
   "cell_type": "markdown",
   "metadata": {},
   "source": [
    "### (a) Generate a simulated data set."
   ]
  },
  {
   "cell_type": "code",
   "execution_count": 2,
   "metadata": {},
   "outputs": [],
   "source": [
    "x = np.random.normal(size=100)\n",
    "y = x-2*np.square(x) +  np.random.normal(size=100)"
   ]
  },
  {
   "cell_type": "code",
   "execution_count": 3,
   "metadata": {},
   "outputs": [
    {
     "data": {
      "text/plain": [
       "array([-1.51647564, -0.69759149, -0.51802386, -1.07929782, -1.58730809,\n",
       "        0.3325702 ,  0.04017013, -0.74740489,  0.08284311,  0.36629287,\n",
       "        0.77391468,  1.63013442,  0.4356691 ,  1.16932915, -0.84158512,\n",
       "       -1.02401257,  0.07275481, -0.59785956,  1.12116431,  0.77996272,\n",
       "        0.37643653,  0.67501743,  0.58206728,  1.00460009, -1.7139656 ,\n",
       "        0.22837534,  0.92127232,  0.31388982, -0.38810126,  1.21935947,\n",
       "       -1.09910615,  0.40983402, -1.85129395,  1.11935023, -0.54957713,\n",
       "        0.96882271,  1.13251404, -0.78009039,  0.09801761,  0.99699984,\n",
       "       -0.07726439,  0.9379755 , -0.98764999, -0.51602623,  1.53978308,\n",
       "       -0.28060124,  1.85990741,  0.32939427,  0.53285879,  0.49921596,\n",
       "        1.0790112 , -0.49059986,  0.59396771,  0.53539832,  0.15177723,\n",
       "       -0.87197115,  1.49960635,  0.20609879, -0.17558516, -0.28704755,\n",
       "       -1.37613133,  0.76110939,  0.39194045, -1.00571827, -0.11294694,\n",
       "        1.11918653, -0.56932468,  0.33530151, -0.5286026 , -0.97388565,\n",
       "        1.74075371, -1.1683135 , -0.04472707, -0.23915715,  1.92763161,\n",
       "        0.47607976,  0.12517073, -0.38974732,  0.87606448,  0.1984785 ,\n",
       "        0.71662438,  0.1924399 , -1.42225605,  0.47330872,  0.78641805,\n",
       "       -0.35126555, -1.90185164,  0.59930035,  0.02084771,  0.37193531,\n",
       "       -0.03914393, -0.81471209,  0.67806558,  0.39841931, -0.45208269,\n",
       "       -0.48377548,  0.87596258, -1.90910214,  0.66848476, -0.51461939])"
      ]
     },
     "execution_count": 3,
     "metadata": {},
     "output_type": "execute_result"
    }
   ],
   "source": [
    "x"
   ]
  },
  {
   "cell_type": "code",
   "execution_count": 4,
   "metadata": {},
   "outputs": [
    {
     "data": {
      "text/plain": [
       "array([-6.88944493,  0.40079633, -0.8370334 , -2.78732966, -4.71190038,\n",
       "       -0.10996061, -0.2012049 , -2.29045122,  0.14614058, -1.59203541,\n",
       "       -2.32210125, -3.05591493,  1.13571198, -2.44087463, -2.94381981,\n",
       "       -2.46701691, -0.59433358, -3.40766027, -1.14445906,  0.23223204,\n",
       "       -0.07342642,  1.26275618,  1.26759275, -1.6697232 , -6.45477531,\n",
       "       -1.17622222, -1.65980287,  1.3338611 , -0.13249449, -0.82212803,\n",
       "       -4.47218757,  1.84022118, -9.27055982, -1.90033741, -1.97383738,\n",
       "       -2.30905211,  0.20910048, -1.73288918, -0.59930792, -0.97642197,\n",
       "       -1.73804561, -2.31627933, -4.77207973, -1.73901898, -3.1486522 ,\n",
       "       -1.33714782, -6.2632611 , -0.7811172 ,  0.68747588,  1.45006133,\n",
       "       -1.82412495, -0.57537223, -0.90816396, -0.18228064,  1.64755397,\n",
       "       -2.60536172, -3.16245717, -0.54654976, -1.02074394,  0.81360128,\n",
       "       -2.62047549, -0.75713926, -0.58544993, -4.32390127, -0.3223662 ,\n",
       "       -2.25089346, -1.36882493,  0.50069982, -1.80293814, -1.90168326,\n",
       "       -3.47789661, -5.25091594, -0.87913669,  0.68180503, -5.99627234,\n",
       "       -1.2758846 , -1.60343426, -0.71592178, -0.29272235, -3.03646972,\n",
       "       -0.23713047,  0.48964141, -6.21896964, -0.44451801,  0.76726963,\n",
       "       -1.20587191, -9.11717648, -1.09821155,  1.10535667, -1.15442402,\n",
       "       -0.15083202, -1.96969021, -0.64622697,  0.35939641, -1.65101409,\n",
       "       -0.40227121, -1.74528789, -8.19548471,  0.30945415,  0.62576278])"
      ]
     },
     "execution_count": 4,
     "metadata": {},
     "output_type": "execute_result"
    }
   ],
   "source": [
    "y"
   ]
  },
  {
   "cell_type": "markdown",
   "metadata": {},
   "source": [
    "### (b) Create a scatterplot of X against Y"
   ]
  },
  {
   "cell_type": "code",
   "execution_count": 5,
   "metadata": {},
   "outputs": [
    {
     "data": {
      "text/plain": [
       "<matplotlib.collections.PathCollection at 0x7f65d0f51ba8>"
      ]
     },
     "execution_count": 5,
     "metadata": {},
     "output_type": "execute_result"
    },
    {
     "data": {
      "image/png": "[encoded data removed]",
      "text/plain": [
       "<Figure size 1080x720 with 1 Axes>"
      ]
     },
     "metadata": {
      "needs_background": "light"
     },
     "output_type": "display_data"
    }
   ],
   "source": [
    "fig, ax = plt.subplots(figsize=(15,10))\n",
    "plt.scatter(x,y)"
   ]
  },
  {
   "cell_type": "markdown",
   "metadata": {},
   "source": [
    "As you'd expect, most of the points occur around x=0 (as we are drawing from a normal distribution with mean 0 and standard deviation 1). The plot is indeed x(1-2x), a quadratic passing through 0 with negative curvature."
   ]
  },
  {
   "cell_type": "markdown",
   "metadata": {},
   "source": [
    "### (c) Set a seed, then compute the LOOCV errors that result from fitting the following four models:\n",
    "\n",
    "1) $ Y = \\beta_0 + \\beta_1X + \\epsilon$\n",
    "\n",
    "2) $ Y = \\beta_0 + \\beta_1X + \\beta_2X^2 +  \\epsilon$\n",
    "\n",
    "3) $ Y = \\beta_0 + \\beta_1X + \\beta_2X^2 + \\beta_3X^3 + \\epsilon$\n",
    "\n",
    "4) $ Y = \\beta_0 + \\beta_1X + \\beta_2X^2 +  \\beta_3X^3 + \\beta_4X^4 + \\epsilon$"
   ]
  },
  {
   "cell_type": "code",
   "execution_count": 6,
   "metadata": {},
   "outputs": [],
   "source": [
    "df = pd.DataFrame(data=[x, y]).T\n",
    "df.columns = [\"x\", \"y\"]\n"
   ]
  },
  {
   "cell_type": "code",
   "execution_count": 7,
   "metadata": {},
   "outputs": [],
   "source": [
    "def leaveOneOut(index, *arrays):\n",
    "    \"\"\"\n",
    "    Given array1, array2, etc, (which should be DataFrames)\n",
    "    return the row at specified index, and the remainder, for each array\n",
    "    \"\"\"\n",
    "    objects = []\n",
    "    for array in arrays:\n",
    "        row = array.iloc[index]\n",
    "        objects.append(row)\n",
    "        remainder = array.drop(index)\n",
    "        objects.append(remainder)\n",
    "    return objects\n"
   ]
  },
  {
   "cell_type": "code",
   "execution_count": 8,
   "metadata": {
    "scrolled": true
   },
   "outputs": [
    {
     "name": "stdout",
     "output_type": "stream",
     "text": [
      "Linear model error: 4.57\n"
     ]
    }
   ],
   "source": [
    "square_errors = []\n",
    "\n",
    "np.random.seed(10)\n",
    "for i in range(len(df)):\n",
    "    row, remainder = leaveOneOut(i, df)\n",
    "\n",
    "    x_test = row.x\n",
    "    x_train = remainder.x\n",
    "    y_test = row.y\n",
    "    y_train = remainder.y\n",
    "\n",
    "    model = smf.ols('y ~ x ', data=remainder)\n",
    "    results = model.fit()\n",
    "    y_pred =  results.predict(exog=dict(x=x_test))\n",
    "    square_error = np.square(y_pred - y_test)\n",
    "    square_error = square_error[0]  # Take the first element, as we're only predicting one point\n",
    "    square_errors.append(square_error)\n",
    "print(f\"Linear model error: {np.mean(square_errors):.2f}\")"
   ]
  },
  {
   "cell_type": "code",
   "execution_count": 9,
   "metadata": {},
   "outputs": [
    {
     "name": "stdout",
     "output_type": "stream",
     "text": [
      "Square model error: 1.13\n"
     ]
    }
   ],
   "source": [
    "square_errors = []\n",
    "\n",
    "np.random.seed(10)\n",
    "for i in range(len(df)):\n",
    "    row, remainder = leaveOneOut(i, df)\n",
    "\n",
    "    x_test = row.x\n",
    "    x_train = remainder.x\n",
    "    y_test = row.y\n",
    "    y_train = remainder.y\n",
    "\n",
    "    model = smf.ols('y ~ x + np.square(x)', data=remainder)\n",
    "    results = model.fit()\n",
    "    y_pred =  results.predict(exog=dict(x=x_test))\n",
    "    square_error = np.square(y_pred - y_test)\n",
    "    square_error = square_error[0]  # Take the first element, as we're only predicting one point\n",
    "    square_errors.append(square_error)\n",
    "print(f\"Square model error: {np.mean(square_errors):.2f}\")"
   ]
  },
  {
   "cell_type": "code",
   "execution_count": 10,
   "metadata": {},
   "outputs": [
    {
     "name": "stdout",
     "output_type": "stream",
     "text": [
      "Cubic model error: 1.14\n"
     ]
    }
   ],
   "source": [
    "square_errors = []\n",
    "\n",
    "np.random.seed(10)\n",
    "for i in range(len(df)):\n",
    "    row, remainder = leaveOneOut(i, df)\n",
    "\n",
    "    x_test = row.x\n",
    "    x_train = remainder.x\n",
    "    y_test = row.y\n",
    "    y_train = remainder.y\n",
    "\n",
    "    model = smf.ols('y ~ x + np.square(x) + np.power(x,3)', data=remainder)\n",
    "    results = model.fit()\n",
    "    y_pred =  results.predict(exog=dict(x=x_test))\n",
    "    square_error = np.square(y_pred - y_test)\n",
    "    square_error = square_error[0]  # Take the first element, as we're only predicting one point\n",
    "    square_errors.append(square_error)\n",
    "print(f\"Cubic model error: {np.mean(square_errors):.2f}\")"
   ]
  },
  {
   "cell_type": "code",
   "execution_count": 11,
   "metadata": {},
   "outputs": [
    {
     "name": "stdout",
     "output_type": "stream",
     "text": [
      "Quartic model error: 1.16\n"
     ]
    }
   ],
   "source": [
    "square_errors = []\n",
    "\n",
    "np.random.seed(10)\n",
    "for i in range(len(df)):\n",
    "    row, remainder = leaveOneOut(i, df)\n",
    "\n",
    "    x_test = row.x\n",
    "    x_train = remainder.x\n",
    "    y_test = row.y\n",
    "    y_train = remainder.y\n",
    "\n",
    "    model = smf.ols('y ~ x + np.square(x) + np.power(x,3) + np.power(x,4)',\n",
    "                    data=remainder)\n",
    "    results = model.fit()\n",
    "    y_pred =  results.predict(exog=dict(x=x_test))\n",
    "    square_error = np.square(y_pred - y_test)\n",
    "    square_error = square_error[0]  # Take the first element, as we're only predicting one point\n",
    "    square_errors.append(square_error)\n",
    "print(f\"Quartic model error: {np.mean(square_errors):.2f}\")"
   ]
  },
  {
   "cell_type": "markdown",
   "metadata": {},
   "source": [
    "We can check all the above using the formula:\n",
    "\n",
    "$$ CV = \\frac{1}{n} \\sum_{i=1}^{n}{\\left( \\frac{y_i-\\hat{y}_i}{1-h_i}  \\right)^2} $$\n",
    "\n",
    "Where $h_i$ is the leverage."
   ]
  },
  {
   "cell_type": "code",
   "execution_count": 12,
   "metadata": {},
   "outputs": [],
   "source": [
    "n = len(df)\n",
    "leverage = 1/n + np.square(df.x - np.mean(df.x))/np.sum(np.square(df.x - np.mean(df.x)))\n",
    "df['leverage'] = leverage\n"
   ]
  },
  {
   "cell_type": "code",
   "execution_count": 13,
   "metadata": {},
   "outputs": [
    {
     "name": "stdout",
     "output_type": "stream",
     "text": [
      "Linear model error (analytic): 4.57\n",
      "Quadratic model error (analytic): 1.13\n",
      "Cubic model error (analytic): 1.14\n",
      "Quartic model error (analytic): 1.16\n"
     ]
    }
   ],
   "source": [
    "summaries = []\n",
    "model = smf.ols('y ~ x ', data=df)\n",
    "results = model.fit()\n",
    "summaries.append(results.summary())\n",
    "y_pred =  results.predict(df.x)\n",
    "err = 1/n * np.sum( np.square( (df.y - y_pred)/(1-df.leverage) ) )\n",
    "print(f\"Linear model error (analytic): {err:.2f}\")\n",
    "\n",
    "\n",
    "\n",
    "model = smf.ols('y ~ x + np.square(x)', data=df)\n",
    "results = model.fit()\n",
    "y_pred =  results.predict(df.x)\n",
    "summaries.append(results.summary())\n",
    "\n",
    "infl = results.get_influence()\n",
    "leverage = infl.hat_matrix_diag\n",
    "err = 1/n * np.sum( np.square( (df.y - y_pred)/(1-leverage) ) )\n",
    "print(f\"Quadratic model error (analytic): {err:.2f}\")\n",
    "\n",
    "model = smf.ols('y ~ x + np.square(x) + np.power(x,3)', data=df)\n",
    "results = model.fit()\n",
    "y_pred =  results.predict(df.x)\n",
    "summaries.append(results.summary())\n",
    "\n",
    "infl = results.get_influence()\n",
    "leverage = infl.hat_matrix_diag\n",
    "err = 1/n * np.sum( np.square( (df.y - y_pred)/(1-leverage) ) )\n",
    "print(f\"Cubic model error (analytic): {err:.2f}\")\n",
    "\n",
    "model = smf.ols('y ~ x + np.square(x) + np.power(x,3) + np.power(x,4)', data=df)\n",
    "results = model.fit()\n",
    "y_pred =  results.predict(df.x)\n",
    "summaries.append(results.summary())\n",
    "\n",
    "infl = results.get_influence()\n",
    "leverage = infl.hat_matrix_diag\n",
    "err = 1/n * np.sum( np.square( (df.y - y_pred)/(1-leverage) ) )\n",
    "print(f\"Quartic model error (analytic): {err:.2f}\")"
   ]
  },
  {
   "cell_type": "markdown",
   "metadata": {},
   "source": [
    "Note I don't know how to compute the leverage for the polynomial cases, so I pulled these obscure methods from the statsmodels source code."
   ]
  },
  {
   "cell_type": "markdown",
   "metadata": {},
   "source": [
    "### (e) Which of the models has the smallest LOOCV error? \n",
    "\n",
    "The quadratic model has the smallest error, as expected since y is generated as a quadratic function of x"
   ]
  },
  {
   "cell_type": "markdown",
   "metadata": {},
   "source": [
    "### (f) Do the statistical significances of the coefficients in each model agree with the above conclusions?"
   ]
  },
  {
   "cell_type": "code",
   "execution_count": 14,
   "metadata": {
    "scrolled": false
   },
   "outputs": [
    {
     "name": "stdout",
     "output_type": "stream",
     "text": [
      "[<class 'statsmodels.iolib.summary.Summary'>\n",
      "\"\"\"\n",
      "                            OLS Regression Results                            \n",
      "==============================================================================\n",
      "Dep. Variable:                      y   R-squared:                       0.164\n",
      "Model:                            OLS   Adj. R-squared:                  0.156\n",
      "Method:                 Least Squares   F-statistic:                     19.28\n",
      "Date:                Sun, 26 May 2019   Prob (F-statistic):           2.85e-05\n",
      "Time:                        16:48:20   Log-Likelihood:                -214.23\n",
      "No. Observations:                 100   AIC:                             432.5\n",
      "Df Residuals:                      98   BIC:                             437.7\n",
      "Df Model:                           1                                         \n",
      "Covariance Type:            nonrobust                                         \n",
      "==============================================================================\n",
      "                 coef    std err          t      P>|t|      [0.025      0.975]\n",
      "------------------------------------------------------------------------------\n",
      "Intercept     -1.6901      0.209     -8.088      0.000      -2.105      -1.275\n",
      "x              1.0363      0.236      4.391      0.000       0.568       1.505\n",
      "==============================================================================\n",
      "Omnibus:                       19.671   Durbin-Watson:                   2.146\n",
      "Prob(Omnibus):                  0.000   Jarque-Bera (JB):               24.058\n",
      "Skew:                          -1.069   Prob(JB):                     5.97e-06\n",
      "Kurtosis:                       4.098   Cond. No.                         1.16\n",
      "==============================================================================\n",
      "\n",
      "Warnings:\n",
      "[1] Standard Errors assume that the covariance matrix of the errors is correctly specified.\n",
      "\"\"\", <class 'statsmodels.iolib.summary.Summary'>\n",
      "\"\"\"\n",
      "                            OLS Regression Results                            \n",
      "==============================================================================\n",
      "Dep. Variable:                      y   R-squared:                       0.791\n",
      "Model:                            OLS   Adj. R-squared:                  0.786\n",
      "Method:                 Least Squares   F-statistic:                     183.3\n",
      "Date:                Sun, 26 May 2019   Prob (F-statistic):           1.12e-33\n",
      "Time:                        16:48:20   Log-Likelihood:                -145.00\n",
      "No. Observations:                 100   AIC:                             296.0\n",
      "Df Residuals:                      97   BIC:                             303.8\n",
      "Df Model:                           2                                         \n",
      "Covariance Type:            nonrobust                                         \n",
      "================================================================================\n",
      "                   coef    std err          t      P>|t|      [0.025      0.975]\n",
      "--------------------------------------------------------------------------------\n",
      "Intercept       -0.2008      0.137     -1.469      0.145      -0.472       0.070\n",
      "x                0.9059      0.119      7.617      0.000       0.670       1.142\n",
      "np.square(x)    -1.8871      0.111    -17.041      0.000      -2.107      -1.667\n",
      "==============================================================================\n",
      "Omnibus:                        0.389   Durbin-Watson:                   1.933\n",
      "Prob(Omnibus):                  0.823   Jarque-Bera (JB):                0.546\n",
      "Skew:                           0.112   Prob(JB):                        0.761\n",
      "Kurtosis:                       2.716   Cond. No.                         2.22\n",
      "==============================================================================\n",
      "\n",
      "Warnings:\n",
      "[1] Standard Errors assume that the covariance matrix of the errors is correctly specified.\n",
      "\"\"\", <class 'statsmodels.iolib.summary.Summary'>\n",
      "\"\"\"\n",
      "                            OLS Regression Results                            \n",
      "==============================================================================\n",
      "Dep. Variable:                      y   R-squared:                       0.792\n",
      "Model:                            OLS   Adj. R-squared:                  0.785\n",
      "Method:                 Least Squares   F-statistic:                     121.5\n",
      "Date:                Sun, 26 May 2019   Prob (F-statistic):           1.45e-32\n",
      "Time:                        16:48:20   Log-Likelihood:                -144.82\n",
      "No. Observations:                 100   AIC:                             297.6\n",
      "Df Residuals:                      96   BIC:                             308.1\n",
      "Df Model:                           3                                         \n",
      "Covariance Type:            nonrobust                                         \n",
      "==================================================================================\n",
      "                     coef    std err          t      P>|t|      [0.025      0.975]\n",
      "----------------------------------------------------------------------------------\n",
      "Intercept         -0.2072      0.138     -1.506      0.135      -0.480       0.066\n",
      "x                  1.0214      0.229      4.452      0.000       0.566       1.477\n",
      "np.square(x)      -1.8895      0.111    -16.994      0.000      -2.110      -1.669\n",
      "np.power(x, 3)    -0.0595      0.101     -0.589      0.557      -0.260       0.141\n",
      "==============================================================================\n",
      "Omnibus:                        0.359   Durbin-Watson:                   1.931\n",
      "Prob(Omnibus):                  0.836   Jarque-Bera (JB):                0.514\n",
      "Skew:                           0.110   Prob(JB):                        0.773\n",
      "Kurtosis:                       2.727   Cond. No.                         5.05\n",
      "==============================================================================\n",
      "\n",
      "Warnings:\n",
      "[1] Standard Errors assume that the covariance matrix of the errors is correctly specified.\n",
      "\"\"\", <class 'statsmodels.iolib.summary.Summary'>\n",
      "\"\"\"\n",
      "                            OLS Regression Results                            \n",
      "==============================================================================\n",
      "Dep. Variable:                      y   R-squared:                       0.792\n",
      "Model:                            OLS   Adj. R-squared:                  0.783\n",
      "Method:                 Least Squares   F-statistic:                     90.30\n",
      "Date:                Sun, 26 May 2019   Prob (F-statistic):           1.66e-31\n",
      "Time:                        16:48:20   Log-Likelihood:                -144.76\n",
      "No. Observations:                 100   AIC:                             299.5\n",
      "Df Residuals:                      95   BIC:                             312.6\n",
      "Df Model:                           4                                         \n",
      "Covariance Type:            nonrobust                                         \n",
      "==================================================================================\n",
      "                     coef    std err          t      P>|t|      [0.025      0.975]\n",
      "----------------------------------------------------------------------------------\n",
      "Intercept         -0.2395      0.172     -1.391      0.168      -0.581       0.102\n",
      "x                  1.0195      0.231      4.421      0.000       0.562       1.477\n",
      "np.square(x)      -1.7828      0.357     -4.988      0.000      -2.492      -1.073\n",
      "np.power(x, 3)    -0.0603      0.102     -0.594      0.554      -0.262       0.141\n",
      "np.power(x, 4)    -0.0339      0.108     -0.314      0.754      -0.248       0.180\n",
      "==============================================================================\n",
      "Omnibus:                        0.393   Durbin-Watson:                   1.942\n",
      "Prob(Omnibus):                  0.822   Jarque-Bera (JB):                0.555\n",
      "Skew:                           0.101   Prob(JB):                        0.758\n",
      "Kurtosis:                       2.697   Cond. No.                         13.9\n",
      "==============================================================================\n",
      "\n",
      "Warnings:\n",
      "[1] Standard Errors assume that the covariance matrix of the errors is correctly specified.\n",
      "\"\"\"]\n"
     ]
    }
   ],
   "source": [
    "print(summaries)"
   ]
  },
  {
   "cell_type": "markdown",
   "metadata": {},
   "source": [
    "We see from the above that the cubic and above terms are not statistically significant, so there is agreement between the cross-validation results and the p-values."
   ]
  }
 ],
 "metadata": {
  "kernelspec": {
   "display_name": "Python 3",
   "language": "python",
   "name": "python3"
  },
  "language_info": {
   "codemirror_mode": {
    "name": "ipython",
    "version": 3
   },
   "file_extension": ".py",
   "mimetype": "text/x-python",
   "name": "python",
   "nbconvert_exporter": "python",
   "pygments_lexer": "ipython3",
   "version": "3.6.8"
  }
 },
 "nbformat": 4,
 "nbformat_minor": 2
}
