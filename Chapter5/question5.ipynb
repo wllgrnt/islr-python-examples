{
 "cells": [
  {
   "cell_type": "markdown",
   "metadata": {},
   "source": [
    "# Chapter 5\n",
    "\n",
    "## Question 5\n",
    "\n",
    "Using cross-validation to estimate test error for logistic regression"
   ]
  },
  {
   "cell_type": "code",
   "execution_count": 1,
   "metadata": {},
   "outputs": [],
   "source": [
    "import sklearn.linear_model\n",
    "import sklearn.model_selection\n",
    "import statsmodels.api as sm\n",
    "import seaborn as sns\n",
    "import matplotlib.pyplot as plt\n",
    "\n",
    "sns.set(style=\"whitegrid\")"
   ]
  },
  {
   "cell_type": "code",
   "execution_count": 2,
   "metadata": {},
   "outputs": [
    {
     "data": {
      "text/html": [
       "<div>\n",
       "<style scoped>\n",
       "    .dataframe tbody tr th:only-of-type {\n",
       "        vertical-align: middle;\n",
       "    }\n",
       "\n",
       "    .dataframe tbody tr th {\n",
       "        vertical-align: top;\n",
       "    }\n",
       "\n",
       "    .dataframe thead th {\n",
       "        text-align: right;\n",
       "    }\n",
       "</style>\n",
       "<table border=\"1\" class=\"dataframe\">\n",
       "  <thead>\n",
       "    <tr style=\"text-align: right;\">\n",
       "      <th></th>\n",
       "      <th>default</th>\n",
       "      <th>student</th>\n",
       "      <th>balance</th>\n",
       "      <th>income</th>\n",
       "    </tr>\n",
       "  </thead>\n",
       "  <tbody>\n",
       "    <tr>\n",
       "      <th>0</th>\n",
       "      <td>No</td>\n",
       "      <td>No</td>\n",
       "      <td>729.526495</td>\n",
       "      <td>44361.625074</td>\n",
       "    </tr>\n",
       "    <tr>\n",
       "      <th>1</th>\n",
       "      <td>No</td>\n",
       "      <td>Yes</td>\n",
       "      <td>817.180407</td>\n",
       "      <td>12106.134700</td>\n",
       "    </tr>\n",
       "    <tr>\n",
       "      <th>2</th>\n",
       "      <td>No</td>\n",
       "      <td>No</td>\n",
       "      <td>1073.549164</td>\n",
       "      <td>31767.138947</td>\n",
       "    </tr>\n",
       "    <tr>\n",
       "      <th>3</th>\n",
       "      <td>No</td>\n",
       "      <td>No</td>\n",
       "      <td>529.250605</td>\n",
       "      <td>35704.493935</td>\n",
       "    </tr>\n",
       "    <tr>\n",
       "      <th>4</th>\n",
       "      <td>No</td>\n",
       "      <td>No</td>\n",
       "      <td>785.655883</td>\n",
       "      <td>38463.495879</td>\n",
       "    </tr>\n",
       "  </tbody>\n",
       "</table>\n",
       "</div>"
      ],
      "text/plain": [
       "  default student      balance        income\n",
       "0      No      No   729.526495  44361.625074\n",
       "1      No     Yes   817.180407  12106.134700\n",
       "2      No      No  1073.549164  31767.138947\n",
       "3      No      No   529.250605  35704.493935\n",
       "4      No      No   785.655883  38463.495879"
      ]
     },
     "execution_count": 2,
     "metadata": {},
     "output_type": "execute_result"
    }
   ],
   "source": [
    "default = sm.datasets.get_rdataset(\"Default\", \"ISLR\").data\n",
    "default.head()"
   ]
  },
  {
   "cell_type": "markdown",
   "metadata": {},
   "source": [
    "### (a) Fit a logistic regression model using `income` and `balance` to predict `default`"
   ]
  },
  {
   "cell_type": "code",
   "execution_count": 3,
   "metadata": {},
   "outputs": [
    {
     "name": "stdout",
     "output_type": "stream",
     "text": [
      "[[9629   38]\n",
      " [ 225  108]]\n"
     ]
    }
   ],
   "source": [
    "X_train = default[[\"income\", \"balance\"]]\n",
    "y_train = default[\"default\"] == \"Yes\"  # Cast to boolean\n",
    "logistic_model = sklearn.linear_model.LogisticRegression(solver=\"lbfgs\",random_state=10)\n",
    "logistic_model.fit(X_train, y_train)\n",
    "y_pred = logistic_model.predict(X_train)\n",
    "\n",
    "confusion_matrix = sklearn.metrics.confusion_matrix(y_train, y_pred)\n",
    "print(confusion_matrix)\n"
   ]
  },
  {
   "cell_type": "markdown",
   "metadata": {},
   "source": [
    "### (b) Using the validation set approach, estimate the test error"
   ]
  },
  {
   "cell_type": "code",
   "execution_count": 4,
   "metadata": {},
   "outputs": [
    {
     "name": "stdout",
     "output_type": "stream",
     "text": [
      "0.0294\n"
     ]
    }
   ],
   "source": [
    "# Split the sample set into a training set and a validation set\n",
    "X = default[[\"income\", \"balance\"]]\n",
    "y = default[\"default\"] == \"Yes\"  # Cast to boolean\n",
    "\n",
    "X_train, X_test, y_train, y_test = sklearn.model_selection.train_test_split(X, y,\n",
    "                                                                            test_size=0.33,\n",
    "                                                                            random_state=10)\n",
    "\n",
    "# Fit a model using only the training data\n",
    "logistic_model = sklearn.linear_model.LogisticRegression(solver=\"lbfgs\", random_state=10)\n",
    "logistic_model.fit(X_train, y_train)\n",
    "\n",
    "# Predict using the test data\n",
    "y_pred = logistic_model.predict(X_test)\n",
    "\n",
    "# Get the fraction misclassified\n",
    "fraction_misclassified = sklearn.metrics.zero_one_loss(y_test, y_pred)\n",
    "print(f\"{fraction_misclassified:.4f}\")\n"
   ]
  },
  {
   "cell_type": "markdown",
   "metadata": {},
   "source": [
    "### (c) Repeat (b) thrice using three different test-train splits . Comment."
   ]
  },
  {
   "cell_type": "code",
   "execution_count": 5,
   "metadata": {},
   "outputs": [
    {
     "name": "stdout",
     "output_type": "stream",
     "text": [
      "0.0376\n",
      "0.0303\n",
      "0.0267\n"
     ]
    }
   ],
   "source": [
    "for i in range(3):\n",
    "    \n",
    "    X_train, X_test, y_train, y_test = sklearn.model_selection.train_test_split(X, y,\n",
    "                                                                                test_size=0.33,\n",
    "                                                                                random_state=i)\n",
    " \n",
    "    logistic_model = sklearn.linear_model.LogisticRegression(solver=\"lbfgs\", random_state=10)\n",
    "    logistic_model.fit(X_train, y_train)\n",
    "    \n",
    "    y_pred = logistic_model.predict(X_test)\n",
    "    \n",
    "    fraction_misclassified = sklearn.metrics.zero_one_loss(y_test, y_pred)\n",
    "    print(f\"{fraction_misclassified:.4f}\")\n"
   ]
  },
  {
   "cell_type": "markdown",
   "metadata": {},
   "source": [
    "As you'd expect, there is quite a lot of variability in the different test errors, depending on the exact test data used"
   ]
  },
  {
   "cell_type": "markdown",
   "metadata": {},
   "source": [
    "### (d) Now consider a logistic regression model which also includes `student`, as a dummy variable. Estimate the test error, and comment on whether or not this inclusion leads to a reduction in the error."
   ]
  },
  {
   "cell_type": "code",
   "execution_count": 6,
   "metadata": {},
   "outputs": [],
   "source": [
    "default[\"student_binary\"] = default.student ==  \"Yes\""
   ]
  },
  {
   "cell_type": "code",
   "execution_count": 7,
   "metadata": {},
   "outputs": [
    {
     "name": "stdout",
     "output_type": "stream",
     "text": [
      "0.0367\n",
      "0.0306\n",
      "0.0267\n"
     ]
    }
   ],
   "source": [
    "\n",
    "X = default[[\"income\", \"balance\", \"student_binary\"]]\n",
    "y = default[\"default\"] == \"Yes\"\n",
    "\n",
    "for i in range(3):\n",
    "\n",
    "    X_train, X_test, y_train, y_test = sklearn.model_selection.train_test_split(X, y,\n",
    "                                                                                test_size=0.33,\n",
    "                                                                                random_state=i)\n",
    "\n",
    "    logistic_model = sklearn.linear_model.LogisticRegression(solver=\"lbfgs\", random_state=10)\n",
    "    logistic_model.fit(X_train, y_train)\n",
    "    \n",
    "    y_pred = logistic_model.predict(X_test)\n",
    "    \n",
    "    fraction_misclassified = sklearn.metrics.zero_one_loss(y_test, y_pred)\n",
    "    print(f\"{fraction_misclassified:.4f}\")\n"
   ]
  },
  {
   "cell_type": "markdown",
   "metadata": {},
   "source": [
    "There isn't enough in this to decide - let's run it repeatedly and plot it."
   ]
  },
  {
   "cell_type": "code",
   "execution_count": 8,
   "metadata": {},
   "outputs": [],
   "source": [
    "\n",
    "X = default[[\"income\", \"balance\", \"student_binary\"]]\n",
    "y = default[\"default\"] == \"Yes\"\n",
    "\n",
    "student_error = []\n",
    "\n",
    "for i in range(1000):\n",
    "\n",
    "    X_train, X_test, y_train, y_test = sklearn.model_selection.train_test_split(X, y,\n",
    "                                                                                test_size=0.33,\n",
    "                                                                                random_state=i)\n",
    "\n",
    "    logistic_model = sklearn.linear_model.LogisticRegression(solver=\"lbfgs\", random_state=10)\n",
    "    logistic_model.fit(X_train, y_train)\n",
    "    \n",
    "    y_pred = logistic_model.predict(X_test)\n",
    "    \n",
    "    fraction_misclassified = sklearn.metrics.zero_one_loss(y_test, y_pred)\n",
    "    student_error.append(fraction_misclassified)\n",
    "    \n",
    "\n",
    "\n",
    "X = default[[\"income\", \"balance\"]]\n",
    "y = default[\"default\"] == \"Yes\"\n",
    "\n",
    "basic_error = []\n",
    "\n",
    "for i in range(1000):\n",
    "\n",
    "    X_train, X_test, y_train, y_test = sklearn.model_selection.train_test_split(X, y,\n",
    "                                                                                test_size=0.33,\n",
    "                                                                                random_state=i)\n",
    "\n",
    "    logistic_model = sklearn.linear_model.LogisticRegression(solver=\"lbfgs\", random_state=10)\n",
    "    logistic_model.fit(X_train, y_train)\n",
    "    \n",
    "    y_pred = logistic_model.predict(X_test)\n",
    "    \n",
    "    fraction_misclassified = sklearn.metrics.zero_one_loss(y_test, y_pred)\n",
    "    basic_error.append(fraction_misclassified)\n",
    "    \n",
    "    \n",
    "\n",
    "\n",
    "\n"
   ]
  },
  {
   "cell_type": "code",
   "execution_count": 9,
   "metadata": {},
   "outputs": [
    {
     "data": {
      "text/plain": [
       "<matplotlib.axes._subplots.AxesSubplot at 0x7f613c479550>"
      ]
     },
     "execution_count": 9,
     "metadata": {},
     "output_type": "execute_result"
    },
    {
     "data": {
      "image/png": "[encoded data removed]",
      "text/plain": [
       "<Figure size 1080x720 with 1 Axes>"
      ]
     },
     "metadata": {
      "needs_background": "light"
     },
     "output_type": "display_data"
    }
   ],
   "source": [
    "fig, ax = plt.subplots(figsize=(15,10))\n",
    "\n",
    "sns.kdeplot(student_error, ax=ax, shade=True, label=\"With student\")\n",
    "sns.kdeplot(basic_error, ax=ax, shade=True, label=\"Without student\")"
   ]
  },
  {
   "cell_type": "markdown",
   "metadata": {},
   "source": [
    "It's not cut-and-dried (and I'm sure we could use e.g. K-L divergence to put numbers on this) but it looks like adding the `student` feature improves the fit."
   ]
  },
  {
   "cell_type": "code",
   "execution_count": null,
   "metadata": {},
   "outputs": [],
   "source": []
  }
 ],
 "metadata": {
  "kernelspec": {
   "display_name": "Python 3",
   "language": "python",
   "name": "python3"
  },
  "language_info": {
   "codemirror_mode": {
    "name": "ipython",
    "version": 3
   },
   "file_extension": ".py",
   "mimetype": "text/x-python",
   "name": "python",
   "nbconvert_exporter": "python",
   "pygments_lexer": "ipython3",
   "version": "3.6.8"
  }
 },
 "nbformat": 4,
 "nbformat_minor": 2
}
