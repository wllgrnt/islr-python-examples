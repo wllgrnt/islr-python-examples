{
 "cells": [
  {
   "cell_type": "markdown",
   "metadata": {},
   "source": [
    "# Chapter 3 Applied Labs\n",
    "\n",
    "## Q11 (investigating the t-statistic)"
   ]
  },
  {
   "cell_type": "code",
   "execution_count": 1,
   "metadata": {},
   "outputs": [],
   "source": [
    "import statsmodels.api as sm\n",
    "import numpy as np\n"
   ]
  },
  {
   "cell_type": "code",
   "execution_count": 2,
   "metadata": {},
   "outputs": [],
   "source": [
    "x = np.random.normal(size=100)\n",
    "y= 2*x + np.random.normal(size=100)"
   ]
  },
  {
   "cell_type": "markdown",
   "metadata": {},
   "source": [
    "### (a) regress y onto x, without an intercept."
   ]
  },
  {
   "cell_type": "code",
   "execution_count": 3,
   "metadata": {
    "scrolled": false
   },
   "outputs": [
    {
     "name": "stdout",
     "output_type": "stream",
     "text": [
      "                            OLS Regression Results                            \n",
      "==============================================================================\n",
      "Dep. Variable:                      y   R-squared:                       0.810\n",
      "Model:                            OLS   Adj. R-squared:                  0.808\n",
      "Method:                 Least Squares   F-statistic:                     420.9\n",
      "Date:                Fri, 17 May 2019   Prob (F-statistic):           1.97e-37\n",
      "Time:                        11:48:59   Log-Likelihood:                -136.43\n",
      "No. Observations:                 100   AIC:                             274.9\n",
      "Df Residuals:                      99   BIC:                             277.5\n",
      "Df Model:                           1                                         \n",
      "Covariance Type:            nonrobust                                         \n",
      "==============================================================================\n",
      "                 coef    std err          t      P>|t|      [0.025      0.975]\n",
      "------------------------------------------------------------------------------\n",
      "x1             1.9839      0.097     20.515      0.000       1.792       2.176\n",
      "==============================================================================\n",
      "Omnibus:                        0.506   Durbin-Watson:                   2.004\n",
      "Prob(Omnibus):                  0.776   Jarque-Bera (JB):                0.632\n",
      "Skew:                           0.150   Prob(JB):                        0.729\n",
      "Kurtosis:                       2.753   Cond. No.                         1.00\n",
      "==============================================================================\n",
      "\n",
      "Warnings:\n",
      "[1] Standard Errors assume that the covariance matrix of the errors is correctly specified.\n"
     ]
    }
   ],
   "source": [
    "model = sm.OLS(y, x)\n",
    "results = model.fit()\n",
    "print(results.summary())\n"
   ]
  },
  {
   "cell_type": "markdown",
   "metadata": {},
   "source": [
    "Comment on the results:\n",
    "- Coefficient is 2.10+-0.09, when the true coefficient is 2\n",
    "- t-statistic is 24.1, and the p-value is roughly 0, meaning the null hypothesis that B = 0 can be rejected."
   ]
  },
  {
   "cell_type": "markdown",
   "metadata": {},
   "source": [
    "### (b) regress x onto y, without an intercept"
   ]
  },
  {
   "cell_type": "code",
   "execution_count": 4,
   "metadata": {
    "scrolled": false
   },
   "outputs": [
    {
     "name": "stdout",
     "output_type": "stream",
     "text": [
      "                            OLS Regression Results                            \n",
      "==============================================================================\n",
      "Dep. Variable:                      y   R-squared:                       0.810\n",
      "Model:                            OLS   Adj. R-squared:                  0.808\n",
      "Method:                 Least Squares   F-statistic:                     420.9\n",
      "Date:                Fri, 17 May 2019   Prob (F-statistic):           1.97e-37\n",
      "Time:                        11:48:59   Log-Likelihood:                -57.355\n",
      "No. Observations:                 100   AIC:                             116.7\n",
      "Df Residuals:                      99   BIC:                             119.3\n",
      "Df Model:                           1                                         \n",
      "Covariance Type:            nonrobust                                         \n",
      "==============================================================================\n",
      "                 coef    std err          t      P>|t|      [0.025      0.975]\n",
      "------------------------------------------------------------------------------\n",
      "x1             0.4081      0.020     20.515      0.000       0.369       0.448\n",
      "==============================================================================\n",
      "Omnibus:                        1.961   Durbin-Watson:                   2.129\n",
      "Prob(Omnibus):                  0.375   Jarque-Bera (JB):                1.416\n",
      "Skew:                           0.152   Prob(JB):                        0.493\n",
      "Kurtosis:                       3.497   Cond. No.                         1.00\n",
      "==============================================================================\n",
      "\n",
      "Warnings:\n",
      "[1] Standard Errors assume that the covariance matrix of the errors is correctly specified.\n"
     ]
    }
   ],
   "source": [
    "model = sm.OLS(x,y)\n",
    "results = model.fit()\n",
    "print(results.summary())\n"
   ]
  },
  {
   "cell_type": "markdown",
   "metadata": {},
   "source": [
    "Comment:\n",
    "- The t-statistic and p value are identical, but the coefficient is now 0.41 +- 0.02 (true value =0.5)"
   ]
  },
  {
   "cell_type": "markdown",
   "metadata": {
    "scrolled": true
   },
   "source": [
    "### (d) For the regression of Y onto X, the t-statistic for $H_0: \\beta = 0$ takes the form $\\beta/SE(\\beta)$, where:\n",
    "\n",
    "$$ SE(\\beta) = \\sqrt{ \\frac{ \\sum_i{(y_i - x_i \\beta)^2 }}{(n-1)\\sum_i {x_i^2}  }} $$\n",
    "\n",
    "and:\n",
    "\n",
    "$$ \\beta = \\left( \\sum_i{x_i y_i} \\right) / \\left( \\sum_i{x_i^2} \\right)$$\n",
    "\n",
    "Give the algebraic form of the t-statistic and confirm.\n"
   ]
  },
  {
   "cell_type": "markdown",
   "metadata": {},
   "source": [
    "$$ t = \\left( \\sqrt{n-1} \\sum_i{x_i y_i} \\right) / \\left( \\sqrt{ \\sum_i { x_i^2} \\sum_i {y_i^2 } - \\sum_i{x_i y_i}^2 }\\right) $$"
   ]
  },
  {
   "cell_type": "code",
   "execution_count": 5,
   "metadata": {},
   "outputs": [
    {
     "name": "stdout",
     "output_type": "stream",
     "text": [
      "20.515196451178866\n"
     ]
    }
   ],
   "source": [
    "#numerically\n",
    "\n",
    "t = np.sqrt(len(x) -1 ) * np.sum(x*y) / np.sqrt(np.sum(np.square(x))*np.sum(np.square(y)) - np.sum(x*y)**2 )\n",
    "\n",
    "print(t)"
   ]
  },
  {
   "cell_type": "markdown",
   "metadata": {},
   "source": [
    "This agrees with the values computed by statsmodels. We can see the expression for t doesn't change if x and y are swapped, meaning that the t-statistic for regression of y onto x and x onto y must be the same."
   ]
  },
  {
   "cell_type": "markdown",
   "metadata": {},
   "source": [
    "### (f) Show that when regression is performed *with* an intercept, the t-statistics for B1 for y onto x and x onto y are the same."
   ]
  },
  {
   "cell_type": "code",
   "execution_count": 6,
   "metadata": {},
   "outputs": [
    {
     "name": "stdout",
     "output_type": "stream",
     "text": [
      "True\n"
     ]
    }
   ],
   "source": [
    "model = sm.OLS(y, sm.add_constant(x))\n",
    "results = model.fit()\n",
    "t_B1_1 = results.tvalues[1]\n",
    "\n",
    "model = sm.OLS(x ,sm.add_constant(y))\n",
    "results = model.fit()\n",
    "t_B1_2 = results.tvalues[1]\n",
    "\n",
    "# equality test doesn't really work for floats, this tests to a relative tolerance of 1e-05\n",
    "print(np.isclose(t_B1_1,t_B1_2))"
   ]
  }
 ],
 "metadata": {
  "kernelspec": {
   "display_name": "Python 3",
   "language": "python",
   "name": "python3"
  },
  "language_info": {
   "codemirror_mode": {
    "name": "ipython",
    "version": 3
   },
   "file_extension": ".py",
   "mimetype": "text/x-python",
   "name": "python",
   "nbconvert_exporter": "python",
   "pygments_lexer": "ipython3",
   "version": "3.6.8"
  }
 },
 "nbformat": 4,
 "nbformat_minor": 2
}
