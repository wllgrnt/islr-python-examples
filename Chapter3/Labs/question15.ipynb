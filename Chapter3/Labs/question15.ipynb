{
 "cells": [
  {
   "cell_type": "markdown",
   "metadata": {},
   "source": [
    "# Chapter 3 Applied Labs\n",
    "\n",
    "\n",
    "## Q14 (dealing with collinearity)"
   ]
  },
  {
   "cell_type": "code",
   "execution_count": 1,
   "metadata": {},
   "outputs": [],
   "source": [
    "import statsmodels.api as sm\n",
    "import statsmodels.formula.api as smf\n",
    "import statsmodels.stats.anova\n",
    "import seaborn as sns\n",
    "import matplotlib.pyplot as plt\n",
    "import numpy as np\n",
    "\n",
    "sns.set(style=\"whitegrid\")\n"
   ]
  },
  {
   "cell_type": "code",
   "execution_count": 2,
   "metadata": {
    "scrolled": true
   },
   "outputs": [
    {
     "name": "stderr",
     "output_type": "stream",
     "text": [
      "/home/will/.local/anaconda3/lib/python3.6/site-packages/numpy/core/fromnumeric.py:2389: FutureWarning: Method .ptp is deprecated and will be removed in a future version. Use numpy.ptp instead.\n",
      "  return ptp(axis=axis, out=out, **kwargs)\n"
     ]
    }
   ],
   "source": [
    "boston = sm.datasets.get_rdataset(\"Boston\", \"MASS\").data\n",
    "boston = sm.add_constant(boston)"
   ]
  },
  {
   "cell_type": "code",
   "execution_count": 3,
   "metadata": {
    "scrolled": false
   },
   "outputs": [
    {
     "name": "stdout",
     "output_type": "stream",
     "text": [
      "zn\n",
      "                            OLS Regression Results                            \n",
      "==============================================================================\n",
      "Dep. Variable:                   crim   R-squared:                       0.040\n",
      "Model:                            OLS   Adj. R-squared:                  0.038\n",
      "Method:                 Least Squares   F-statistic:                     21.10\n",
      "Date:                Fri, 17 May 2019   Prob (F-statistic):           5.51e-06\n",
      "Time:                        17:29:44   Log-Likelihood:                -1796.0\n",
      "No. Observations:                 506   AIC:                             3596.\n",
      "Df Residuals:                     504   BIC:                             3604.\n",
      "Df Model:                           1                                         \n",
      "Covariance Type:            nonrobust                                         \n",
      "==============================================================================\n",
      "                 coef    std err          t      P>|t|      [0.025      0.975]\n",
      "------------------------------------------------------------------------------\n",
      "Intercept      4.4537      0.417     10.675      0.000       3.634       5.273\n",
      "zn            -0.0739      0.016     -4.594      0.000      -0.106      -0.042\n",
      "==============================================================================\n",
      "Omnibus:                      567.443   Durbin-Watson:                   0.857\n",
      "Prob(Omnibus):                  0.000   Jarque-Bera (JB):            32753.004\n",
      "Skew:                           5.257   Prob(JB):                         0.00\n",
      "Kurtosis:                      40.986   Cond. No.                         28.8\n",
      "==============================================================================\n",
      "\n",
      "Warnings:\n",
      "[1] Standard Errors assume that the covariance matrix of the errors is correctly specified.\n",
      "indus\n",
      "                            OLS Regression Results                            \n",
      "==============================================================================\n",
      "Dep. Variable:                   crim   R-squared:                       0.165\n",
      "Model:                            OLS   Adj. R-squared:                  0.164\n",
      "Method:                 Least Squares   F-statistic:                     99.82\n",
      "Date:                Fri, 17 May 2019   Prob (F-statistic):           1.45e-21\n",
      "Time:                        17:29:44   Log-Likelihood:                -1760.6\n",
      "No. Observations:                 506   AIC:                             3525.\n",
      "Df Residuals:                     504   BIC:                             3534.\n",
      "Df Model:                           1                                         \n",
      "Covariance Type:            nonrobust                                         \n",
      "==============================================================================\n",
      "                 coef    std err          t      P>|t|      [0.025      0.975]\n",
      "------------------------------------------------------------------------------\n",
      "Intercept     -2.0637      0.667     -3.093      0.002      -3.375      -0.753\n",
      "indus          0.5098      0.051      9.991      0.000       0.410       0.610\n",
      "==============================================================================\n",
      "Omnibus:                      585.118   Durbin-Watson:                   0.986\n",
      "Prob(Omnibus):                  0.000   Jarque-Bera (JB):            41418.938\n",
      "Skew:                           5.449   Prob(JB):                         0.00\n",
      "Kurtosis:                      45.962   Cond. No.                         25.1\n",
      "==============================================================================\n",
      "\n",
      "Warnings:\n",
      "[1] Standard Errors assume that the covariance matrix of the errors is correctly specified.\n",
      "chas\n",
      "                            OLS Regression Results                            \n",
      "==============================================================================\n",
      "Dep. Variable:                   crim   R-squared:                       0.003\n",
      "Model:                            OLS   Adj. R-squared:                  0.001\n",
      "Method:                 Least Squares   F-statistic:                     1.579\n",
      "Date:                Fri, 17 May 2019   Prob (F-statistic):              0.209\n",
      "Time:                        17:29:44   Log-Likelihood:                -1805.6\n",
      "No. Observations:                 506   AIC:                             3615.\n",
      "Df Residuals:                     504   BIC:                             3624.\n",
      "Df Model:                           1                                         \n",
      "Covariance Type:            nonrobust                                         \n",
      "==============================================================================\n",
      "                 coef    std err          t      P>|t|      [0.025      0.975]\n",
      "------------------------------------------------------------------------------\n",
      "Intercept      3.7444      0.396      9.453      0.000       2.966       4.523\n",
      "chas          -1.8928      1.506     -1.257      0.209      -4.852       1.066\n",
      "==============================================================================\n",
      "Omnibus:                      561.663   Durbin-Watson:                   0.817\n",
      "Prob(Omnibus):                  0.000   Jarque-Bera (JB):            30645.429\n",
      "Skew:                           5.191   Prob(JB):                         0.00\n",
      "Kurtosis:                      39.685   Cond. No.                         3.96\n",
      "==============================================================================\n",
      "\n",
      "Warnings:\n",
      "[1] Standard Errors assume that the covariance matrix of the errors is correctly specified.\n",
      "nox\n",
      "                            OLS Regression Results                            \n",
      "==============================================================================\n",
      "Dep. Variable:                   crim   R-squared:                       0.177\n",
      "Model:                            OLS   Adj. R-squared:                  0.176\n",
      "Method:                 Least Squares   F-statistic:                     108.6\n",
      "Date:                Fri, 17 May 2019   Prob (F-statistic):           3.75e-23\n",
      "Time:                        17:29:44   Log-Likelihood:                -1757.0\n",
      "No. Observations:                 506   AIC:                             3518.\n",
      "Df Residuals:                     504   BIC:                             3526.\n",
      "Df Model:                           1                                         \n",
      "Covariance Type:            nonrobust                                         \n",
      "==============================================================================\n",
      "                 coef    std err          t      P>|t|      [0.025      0.975]\n",
      "------------------------------------------------------------------------------\n",
      "Intercept    -13.7199      1.699     -8.073      0.000     -17.059     -10.381\n",
      "nox           31.2485      2.999     10.419      0.000      25.356      37.141\n",
      "==============================================================================\n",
      "Omnibus:                      591.712   Durbin-Watson:                   0.992\n",
      "Prob(Omnibus):                  0.000   Jarque-Bera (JB):            43138.106\n",
      "Skew:                           5.546   Prob(JB):                         0.00\n",
      "Kurtosis:                      46.852   Cond. No.                         11.3\n",
      "==============================================================================\n",
      "\n",
      "Warnings:\n",
      "[1] Standard Errors assume that the covariance matrix of the errors is correctly specified.\n",
      "rm\n",
      "                            OLS Regression Results                            \n",
      "==============================================================================\n",
      "Dep. Variable:                   crim   R-squared:                       0.048\n",
      "Model:                            OLS   Adj. R-squared:                  0.046\n",
      "Method:                 Least Squares   F-statistic:                     25.45\n",
      "Date:                Fri, 17 May 2019   Prob (F-statistic):           6.35e-07\n",
      "Time:                        17:29:44   Log-Likelihood:                -1793.9\n",
      "No. Observations:                 506   AIC:                             3592.\n",
      "Df Residuals:                     504   BIC:                             3600.\n",
      "Df Model:                           1                                         \n",
      "Covariance Type:            nonrobust                                         \n",
      "==============================================================================\n",
      "                 coef    std err          t      P>|t|      [0.025      0.975]\n",
      "------------------------------------------------------------------------------\n",
      "Intercept     20.4818      3.364      6.088      0.000      13.872      27.092\n",
      "rm            -2.6841      0.532     -5.045      0.000      -3.729      -1.639\n",
      "==============================================================================\n",
      "Omnibus:                      575.717   Durbin-Watson:                   0.879\n",
      "Prob(Omnibus):                  0.000   Jarque-Bera (JB):            36658.093\n",
      "Skew:                           5.345   Prob(JB):                         0.00\n",
      "Kurtosis:                      43.305   Cond. No.                         58.4\n",
      "==============================================================================\n",
      "\n",
      "Warnings:\n",
      "[1] Standard Errors assume that the covariance matrix of the errors is correctly specified.\n",
      "age\n",
      "                            OLS Regression Results                            \n",
      "==============================================================================\n",
      "Dep. Variable:                   crim   R-squared:                       0.124\n",
      "Model:                            OLS   Adj. R-squared:                  0.123\n",
      "Method:                 Least Squares   F-statistic:                     71.62\n",
      "Date:                Fri, 17 May 2019   Prob (F-statistic):           2.85e-16\n",
      "Time:                        17:29:44   Log-Likelihood:                -1772.7\n",
      "No. Observations:                 506   AIC:                             3549.\n",
      "Df Residuals:                     504   BIC:                             3558.\n",
      "Df Model:                           1                                         \n",
      "Covariance Type:            nonrobust                                         \n",
      "==============================================================================\n",
      "                 coef    std err          t      P>|t|      [0.025      0.975]\n",
      "------------------------------------------------------------------------------\n",
      "Intercept     -3.7779      0.944     -4.002      0.000      -5.633      -1.923\n",
      "age            0.1078      0.013      8.463      0.000       0.083       0.133\n",
      "==============================================================================\n",
      "Omnibus:                      574.509   Durbin-Watson:                   0.956\n",
      "Prob(Omnibus):                  0.000   Jarque-Bera (JB):            36741.903\n",
      "Skew:                           5.322   Prob(JB):                         0.00\n",
      "Kurtosis:                      43.366   Cond. No.                         195.\n",
      "==============================================================================\n",
      "\n",
      "Warnings:\n",
      "[1] Standard Errors assume that the covariance matrix of the errors is correctly specified.\n",
      "dis\n",
      "                            OLS Regression Results                            \n",
      "==============================================================================\n",
      "Dep. Variable:                   crim   R-squared:                       0.144\n",
      "Model:                            OLS   Adj. R-squared:                  0.142\n",
      "Method:                 Least Squares   F-statistic:                     84.89\n",
      "Date:                Fri, 17 May 2019   Prob (F-statistic):           8.52e-19\n",
      "Time:                        17:29:44   Log-Likelihood:                -1767.0\n",
      "No. Observations:                 506   AIC:                             3538.\n",
      "Df Residuals:                     504   BIC:                             3546.\n",
      "Df Model:                           1                                         \n",
      "Covariance Type:            nonrobust                                         \n",
      "==============================================================================\n",
      "                 coef    std err          t      P>|t|      [0.025      0.975]\n",
      "------------------------------------------------------------------------------\n",
      "Intercept      9.4993      0.730     13.006      0.000       8.064      10.934\n",
      "dis           -1.5509      0.168     -9.213      0.000      -1.882      -1.220\n",
      "==============================================================================\n",
      "Omnibus:                      576.519   Durbin-Watson:                   0.952\n",
      "Prob(Omnibus):                  0.000   Jarque-Bera (JB):            37426.729\n",
      "Skew:                           5.348   Prob(JB):                         0.00\n",
      "Kurtosis:                      43.753   Cond. No.                         9.32\n",
      "==============================================================================\n",
      "\n",
      "Warnings:\n",
      "[1] Standard Errors assume that the covariance matrix of the errors is correctly specified.\n",
      "rad\n",
      "                            OLS Regression Results                            \n",
      "==============================================================================\n",
      "Dep. Variable:                   crim   R-squared:                       0.391\n",
      "Model:                            OLS   Adj. R-squared:                  0.390\n",
      "Method:                 Least Squares   F-statistic:                     323.9\n",
      "Date:                Fri, 17 May 2019   Prob (F-statistic):           2.69e-56\n",
      "Time:                        17:29:44   Log-Likelihood:                -1680.8\n",
      "No. Observations:                 506   AIC:                             3366.\n",
      "Df Residuals:                     504   BIC:                             3374.\n",
      "Df Model:                           1                                         \n",
      "Covariance Type:            nonrobust                                         \n",
      "==============================================================================\n",
      "                 coef    std err          t      P>|t|      [0.025      0.975]\n",
      "------------------------------------------------------------------------------\n",
      "Intercept     -2.2872      0.443     -5.157      0.000      -3.158      -1.416\n",
      "rad            0.6179      0.034     17.998      0.000       0.550       0.685\n",
      "==============================================================================\n",
      "Omnibus:                      656.459   Durbin-Watson:                   1.337\n",
      "Prob(Omnibus):                  0.000   Jarque-Bera (JB):            75417.007\n",
      "Skew:                           6.478   Prob(JB):                         0.00\n",
      "Kurtosis:                      61.389   Cond. No.                         19.2\n",
      "==============================================================================\n",
      "\n",
      "Warnings:\n",
      "[1] Standard Errors assume that the covariance matrix of the errors is correctly specified.\n",
      "tax\n"
     ]
    },
    {
     "name": "stdout",
     "output_type": "stream",
     "text": [
      "                            OLS Regression Results                            \n",
      "==============================================================================\n",
      "Dep. Variable:                   crim   R-squared:                       0.340\n",
      "Model:                            OLS   Adj. R-squared:                  0.338\n",
      "Method:                 Least Squares   F-statistic:                     259.2\n",
      "Date:                Fri, 17 May 2019   Prob (F-statistic):           2.36e-47\n",
      "Time:                        17:29:44   Log-Likelihood:                -1701.4\n",
      "No. Observations:                 506   AIC:                             3407.\n",
      "Df Residuals:                     504   BIC:                             3415.\n",
      "Df Model:                           1                                         \n",
      "Covariance Type:            nonrobust                                         \n",
      "==============================================================================\n",
      "                 coef    std err          t      P>|t|      [0.025      0.975]\n",
      "------------------------------------------------------------------------------\n",
      "Intercept     -8.5284      0.816    -10.454      0.000     -10.131      -6.926\n",
      "tax            0.0297      0.002     16.099      0.000       0.026       0.033\n",
      "==============================================================================\n",
      "Omnibus:                      635.377   Durbin-Watson:                   1.252\n",
      "Prob(Omnibus):                  0.000   Jarque-Bera (JB):            63763.835\n",
      "Skew:                           6.156   Prob(JB):                         0.00\n",
      "Kurtosis:                      56.599   Cond. No.                     1.16e+03\n",
      "==============================================================================\n",
      "\n",
      "Warnings:\n",
      "[1] Standard Errors assume that the covariance matrix of the errors is correctly specified.\n",
      "[2] The condition number is large, 1.16e+03. This might indicate that there are\n",
      "strong multicollinearity or other numerical problems.\n",
      "ptratio\n",
      "                            OLS Regression Results                            \n",
      "==============================================================================\n",
      "Dep. Variable:                   crim   R-squared:                       0.084\n",
      "Model:                            OLS   Adj. R-squared:                  0.082\n",
      "Method:                 Least Squares   F-statistic:                     46.26\n",
      "Date:                Fri, 17 May 2019   Prob (F-statistic):           2.94e-11\n",
      "Time:                        17:29:44   Log-Likelihood:                -1784.1\n",
      "No. Observations:                 506   AIC:                             3572.\n",
      "Df Residuals:                     504   BIC:                             3581.\n",
      "Df Model:                           1                                         \n",
      "Covariance Type:            nonrobust                                         \n",
      "==============================================================================\n",
      "                 coef    std err          t      P>|t|      [0.025      0.975]\n",
      "------------------------------------------------------------------------------\n",
      "Intercept    -17.6469      3.147     -5.607      0.000     -23.830     -11.464\n",
      "ptratio        1.1520      0.169      6.801      0.000       0.819       1.485\n",
      "==============================================================================\n",
      "Omnibus:                      568.053   Durbin-Watson:                   0.905\n",
      "Prob(Omnibus):                  0.000   Jarque-Bera (JB):            34221.853\n",
      "Skew:                           5.245   Prob(JB):                         0.00\n",
      "Kurtosis:                      41.899   Cond. No.                         160.\n",
      "==============================================================================\n",
      "\n",
      "Warnings:\n",
      "[1] Standard Errors assume that the covariance matrix of the errors is correctly specified.\n",
      "black\n",
      "                            OLS Regression Results                            \n",
      "==============================================================================\n",
      "Dep. Variable:                   crim   R-squared:                       0.148\n",
      "Model:                            OLS   Adj. R-squared:                  0.147\n",
      "Method:                 Least Squares   F-statistic:                     87.74\n",
      "Date:                Fri, 17 May 2019   Prob (F-statistic):           2.49e-19\n",
      "Time:                        17:29:44   Log-Likelihood:                -1765.8\n",
      "No. Observations:                 506   AIC:                             3536.\n",
      "Df Residuals:                     504   BIC:                             3544.\n",
      "Df Model:                           1                                         \n",
      "Covariance Type:            nonrobust                                         \n",
      "==============================================================================\n",
      "                 coef    std err          t      P>|t|      [0.025      0.975]\n",
      "------------------------------------------------------------------------------\n",
      "Intercept     16.5535      1.426     11.609      0.000      13.752      19.355\n",
      "black         -0.0363      0.004     -9.367      0.000      -0.044      -0.029\n",
      "==============================================================================\n",
      "Omnibus:                      594.029   Durbin-Watson:                   0.994\n",
      "Prob(Omnibus):                  0.000   Jarque-Bera (JB):            44041.935\n",
      "Skew:                           5.578   Prob(JB):                         0.00\n",
      "Kurtosis:                      47.323   Cond. No.                     1.49e+03\n",
      "==============================================================================\n",
      "\n",
      "Warnings:\n",
      "[1] Standard Errors assume that the covariance matrix of the errors is correctly specified.\n",
      "[2] The condition number is large, 1.49e+03. This might indicate that there are\n",
      "strong multicollinearity or other numerical problems.\n",
      "lstat\n",
      "                            OLS Regression Results                            \n",
      "==============================================================================\n",
      "Dep. Variable:                   crim   R-squared:                       0.208\n",
      "Model:                            OLS   Adj. R-squared:                  0.206\n",
      "Method:                 Least Squares   F-statistic:                     132.0\n",
      "Date:                Fri, 17 May 2019   Prob (F-statistic):           2.65e-27\n",
      "Time:                        17:29:44   Log-Likelihood:                -1747.5\n",
      "No. Observations:                 506   AIC:                             3499.\n",
      "Df Residuals:                     504   BIC:                             3507.\n",
      "Df Model:                           1                                         \n",
      "Covariance Type:            nonrobust                                         \n",
      "==============================================================================\n",
      "                 coef    std err          t      P>|t|      [0.025      0.975]\n",
      "------------------------------------------------------------------------------\n",
      "Intercept     -3.3305      0.694     -4.801      0.000      -4.694      -1.968\n",
      "lstat          0.5488      0.048     11.491      0.000       0.455       0.643\n",
      "==============================================================================\n",
      "Omnibus:                      601.306   Durbin-Watson:                   1.182\n",
      "Prob(Omnibus):                  0.000   Jarque-Bera (JB):            49918.826\n",
      "Skew:                           5.645   Prob(JB):                         0.00\n",
      "Kurtosis:                      50.331   Cond. No.                         29.7\n",
      "==============================================================================\n",
      "\n",
      "Warnings:\n",
      "[1] Standard Errors assume that the covariance matrix of the errors is correctly specified.\n",
      "medv\n",
      "                            OLS Regression Results                            \n",
      "==============================================================================\n",
      "Dep. Variable:                   crim   R-squared:                       0.151\n",
      "Model:                            OLS   Adj. R-squared:                  0.149\n",
      "Method:                 Least Squares   F-statistic:                     89.49\n",
      "Date:                Fri, 17 May 2019   Prob (F-statistic):           1.17e-19\n",
      "Time:                        17:29:44   Log-Likelihood:                -1765.0\n",
      "No. Observations:                 506   AIC:                             3534.\n",
      "Df Residuals:                     504   BIC:                             3542.\n",
      "Df Model:                           1                                         \n",
      "Covariance Type:            nonrobust                                         \n",
      "==============================================================================\n",
      "                 coef    std err          t      P>|t|      [0.025      0.975]\n",
      "------------------------------------------------------------------------------\n",
      "Intercept     11.7965      0.934     12.628      0.000       9.961      13.632\n",
      "medv          -0.3632      0.038     -9.460      0.000      -0.439      -0.288\n",
      "==============================================================================\n",
      "Omnibus:                      558.880   Durbin-Watson:                   0.996\n",
      "Prob(Omnibus):                  0.000   Jarque-Bera (JB):            32740.044\n",
      "Skew:                           5.108   Prob(JB):                         0.00\n",
      "Kurtosis:                      41.059   Cond. No.                         64.5\n",
      "==============================================================================\n",
      "\n",
      "Warnings:\n",
      "[1] Standard Errors assume that the covariance matrix of the errors is correctly specified.\n"
     ]
    }
   ],
   "source": [
    "rs = []\n",
    "for predictor in boston.columns.drop([\"crim\", \"const\"]):\n",
    "    print(predictor)\n",
    "    model = smf.ols(f\"crim ~ {predictor}\", data=boston)\n",
    "    results = model.fit()\n",
    "    rs.append([predictor, results.rsquared])\n",
    "    print(results.summary())\n",
    "    "
   ]
  },
  {
   "cell_type": "code",
   "execution_count": 4,
   "metadata": {},
   "outputs": [
    {
     "name": "stdout",
     "output_type": "stream",
     "text": [
      "[['zn', 0.04018790803211081], ['indus', 0.16531007043075163], ['chas', 0.0031238689633055206], ['nox', 0.17721718179269363], ['rm', 0.048069116716083604], ['age', 0.12442145175894637], ['dis', 0.14414937492539848], ['rad', 0.39125668674998926], ['tax', 0.3396142433788121], ['ptratio', 0.08406843894373672], ['black', 0.1482742394241312], ['lstat', 0.20759093253433558], ['medv', 0.15078046904975717]]\n"
     ]
    }
   ],
   "source": [
    "print(rs)"
   ]
  },
  {
   "cell_type": "markdown",
   "metadata": {},
   "source": [
    "All bar `chas` seem to be significant. The highest R-values come from `rad`, `tax`, and `lstat`"
   ]
  },
  {
   "cell_type": "code",
   "execution_count": 5,
   "metadata": {},
   "outputs": [
    {
     "data": {
      "text/plain": [
       "<matplotlib.axes._subplots.AxesSubplot at 0x7f1031296978>"
      ]
     },
     "execution_count": 5,
     "metadata": {},
     "output_type": "execute_result"
    },
    {
     "data": {
      "image/png": "[encoded data removed]",
      "text/plain": [
       "<Figure size 432x288 with 1 Axes>"
      ]
     },
     "metadata": {
      "needs_background": "light"
     },
     "output_type": "display_data"
    }
   ],
   "source": [
    " sns.scatterplot(\"rad\", \"crim\", data=boston) "
   ]
  },
  {
   "cell_type": "code",
   "execution_count": 6,
   "metadata": {},
   "outputs": [
    {
     "data": {
      "text/plain": [
       "<matplotlib.axes._subplots.AxesSubplot at 0x7f1031296390>"
      ]
     },
     "execution_count": 6,
     "metadata": {},
     "output_type": "execute_result"
    },
    {
     "data": {
      "image/png": "[encoded data removed]",
      "text/plain": [
       "<Figure size 432x288 with 1 Axes>"
      ]
     },
     "metadata": {
      "needs_background": "light"
     },
     "output_type": "display_data"
    }
   ],
   "source": [
    " sns.scatterplot(\"tax\", \"crim\", data=boston) "
   ]
  },
  {
   "cell_type": "code",
   "execution_count": 7,
   "metadata": {},
   "outputs": [
    {
     "data": {
      "text/plain": [
       "<matplotlib.axes._subplots.AxesSubplot at 0x7f102b28e4e0>"
      ]
     },
     "execution_count": 7,
     "metadata": {},
     "output_type": "execute_result"
    },
    {
     "data": {
      "image/png": "[encoded data removed]",
      "text/plain": [
       "<Figure size 432x288 with 1 Axes>"
      ]
     },
     "metadata": {
      "needs_background": "light"
     },
     "output_type": "display_data"
    }
   ],
   "source": [
    " sns.scatterplot(\"lstat\", \"crim\", data=boston) "
   ]
  },
  {
   "cell_type": "markdown",
   "metadata": {},
   "source": [
    "### (b) Fit a multiple regression model using all the predictors. For which predictors can you reject the hypothesis $\\beta_j=0$ ?"
   ]
  },
  {
   "cell_type": "code",
   "execution_count": 8,
   "metadata": {},
   "outputs": [
    {
     "name": "stdout",
     "output_type": "stream",
     "text": [
      "                            OLS Regression Results                            \n",
      "==============================================================================\n",
      "Dep. Variable:                   crim   R-squared:                       0.454\n",
      "Model:                            OLS   Adj. R-squared:                  0.440\n",
      "Method:                 Least Squares   F-statistic:                     31.47\n",
      "Date:                Fri, 17 May 2019   Prob (F-statistic):           1.57e-56\n",
      "Time:                        17:29:45   Log-Likelihood:                -1653.3\n",
      "No. Observations:                 506   AIC:                             3335.\n",
      "Df Residuals:                     492   BIC:                             3394.\n",
      "Df Model:                          13                                         \n",
      "Covariance Type:            nonrobust                                         \n",
      "==============================================================================\n",
      "                 coef    std err          t      P>|t|      [0.025      0.975]\n",
      "------------------------------------------------------------------------------\n",
      "Intercept     17.0332      7.235      2.354      0.019       2.818      31.248\n",
      "zn             0.0449      0.019      2.394      0.017       0.008       0.082\n",
      "indus         -0.0639      0.083     -0.766      0.444      -0.228       0.100\n",
      "chas          -0.7491      1.180     -0.635      0.526      -3.068       1.570\n",
      "nox          -10.3135      5.276     -1.955      0.051     -20.679       0.052\n",
      "rm             0.4301      0.613      0.702      0.483      -0.774       1.634\n",
      "age            0.0015      0.018      0.081      0.935      -0.034       0.037\n",
      "dis           -0.9872      0.282     -3.503      0.001      -1.541      -0.433\n",
      "rad            0.5882      0.088      6.680      0.000       0.415       0.761\n",
      "tax           -0.0038      0.005     -0.733      0.464      -0.014       0.006\n",
      "ptratio       -0.2711      0.186     -1.454      0.147      -0.637       0.095\n",
      "black         -0.0075      0.004     -2.052      0.041      -0.015      -0.000\n",
      "lstat          0.1262      0.076      1.667      0.096      -0.023       0.275\n",
      "medv          -0.1989      0.061     -3.287      0.001      -0.318      -0.080\n",
      "==============================================================================\n",
      "Omnibus:                      666.613   Durbin-Watson:                   1.519\n",
      "Prob(Omnibus):                  0.000   Jarque-Bera (JB):            84887.625\n",
      "Skew:                           6.617   Prob(JB):                         0.00\n",
      "Kurtosis:                      65.058   Cond. No.                     1.58e+04\n",
      "==============================================================================\n",
      "\n",
      "Warnings:\n",
      "[1] Standard Errors assume that the covariance matrix of the errors is correctly specified.\n",
      "[2] The condition number is large, 1.58e+04. This might indicate that there are\n",
      "strong multicollinearity or other numerical problems.\n"
     ]
    }
   ],
   "source": [
    "predictors = boston.columns.drop([\"crim\", \"const\"])\n",
    "model = smf.ols(f\"crim ~ {'+'.join(predictors)}\" , data=boston)\n",
    "results = model.fit()\n",
    "print(results.summary())    "
   ]
  },
  {
   "cell_type": "markdown",
   "metadata": {},
   "source": [
    "Only for `dis`, `rad`, and `medv` can we reject the null hypothesis at a p=0.01 level"
   ]
  },
  {
   "cell_type": "markdown",
   "metadata": {},
   "source": [
    "### (c) plot the multi-regression coefficients against the single-regression coefficients to show how they compare."
   ]
  },
  {
   "cell_type": "code",
   "execution_count": 9,
   "metadata": {
    "scrolled": true
   },
   "outputs": [],
   "source": [
    "single_betas = [] \n",
    "for predictor in boston.columns.drop([\"crim\", \"const\"]):\n",
    "    model = smf.ols(f\"crim ~ {predictor}\", data=boston)\n",
    "    results = model.fit()\n",
    "    single_betas.append(results.params[1])\n",
    "    "
   ]
  },
  {
   "cell_type": "code",
   "execution_count": 10,
   "metadata": {},
   "outputs": [],
   "source": [
    "predictors = boston.columns.drop([\"crim\", \"const\"])\n",
    "model = smf.ols(f\"crim ~ {'+'.join(predictors)}\" , data=boston)\n",
    "results = model.fit()\n",
    "multi_betas = results.params[1:]"
   ]
  },
  {
   "cell_type": "code",
   "execution_count": 11,
   "metadata": {},
   "outputs": [
    {
     "data": {
      "image/png": "[encoded data removed]",
      "text/plain": [
       "<Figure size 1080x720 with 1 Axes>"
      ]
     },
     "metadata": {
      "needs_background": "light"
     },
     "output_type": "display_data"
    }
   ],
   "source": [
    "fig, ax = plt.subplots(figsize=(15,10))\n",
    "plt.plot(single_betas, multi_betas, 'o')\n",
    "plt.xlabel(\"beta for single-factor regression\")\n",
    "plt.ylabel(\"beta for multi-factor regression\")\n",
    "plt.show()"
   ]
  },
  {
   "cell_type": "markdown",
   "metadata": {},
   "source": [
    "### (d) Is there evidence of non-linear association between any of the predictors and the response? To answer this question, for each predictor X, fit a model of the form $Y = \\beta_0 + \\beta_1x + \\beta_2 x^2 + \\beta_3 x^3 + \\epsilon $ for each predictor"
   ]
  },
  {
   "cell_type": "code",
   "execution_count": 12,
   "metadata": {},
   "outputs": [
    {
     "name": "stdout",
     "output_type": "stream",
     "text": [
      "zn\n",
      "   df_resid           ssr  df_diff     ss_diff         F    Pr(>F)\n",
      "0     504.0  35861.672261      0.0         NaN       NaN       NaN\n",
      "1     502.0  35187.114178      2.0  674.558083  4.811821  0.008512\n",
      "--------------------------------------------------------------------------------\n",
      "indus\n",
      "   df_resid           ssr  df_diff      ss_diff         F        Pr(>F)\n",
      "0     504.0  31186.705132      0.0          NaN       NaN           NaN\n",
      "1     502.0  27661.567803      2.0  3525.137328  31.98696  8.408754e-14\n",
      "--------------------------------------------------------------------------------\n",
      "chas\n",
      "   df_resid           ssr  df_diff  ss_diff   F  Pr(>F)\n",
      "0     504.0  37246.504181      0.0      NaN NaN     NaN\n",
      "1     504.0  37246.504181     -0.0     -0.0 NaN     NaN\n",
      "--------------------------------------------------------------------------------\n",
      "nox\n",
      "   df_resid           ssr  df_diff      ss_diff          F        Pr(>F)\n",
      "0     504.0  30741.817087      0.0          NaN        NaN           NaN\n",
      "1     502.0  26267.170950      2.0  4474.646137  42.758171  7.122383e-18\n",
      "--------------------------------------------------------------------------------\n",
      "rm\n",
      "   df_resid           ssr  df_diff     ss_diff         F    Pr(>F)\n",
      "0     504.0  35567.204912      0.0         NaN       NaN       NaN\n",
      "1     502.0  34830.516339      2.0  736.688573  5.308817  0.005229\n",
      "--------------------------------------------------------------------------------\n",
      "age\n",
      "   df_resid           ssr  df_diff      ss_diff          F        Pr(>F)\n",
      "0     504.0  32714.435668      0.0          NaN        NaN           NaN\n",
      "1     502.0  30853.390700      2.0  1861.044969  15.140063  4.125056e-07\n",
      "--------------------------------------------------------------------------------\n",
      "dis\n"
     ]
    },
    {
     "name": "stderr",
     "output_type": "stream",
     "text": [
      "/home/will/.local/anaconda3/lib/python3.6/site-packages/scipy/stats/_distn_infrastructure.py:877: RuntimeWarning: invalid value encountered in greater\n",
      "  return (self.a < x) & (x < self.b)\n",
      "/home/will/.local/anaconda3/lib/python3.6/site-packages/scipy/stats/_distn_infrastructure.py:877: RuntimeWarning: invalid value encountered in less\n",
      "  return (self.a < x) & (x < self.b)\n",
      "/home/will/.local/anaconda3/lib/python3.6/site-packages/scipy/stats/_distn_infrastructure.py:1831: RuntimeWarning: invalid value encountered in less_equal\n",
      "  cond2 = cond0 & (x <= self.a)\n"
     ]
    },
    {
     "name": "stdout",
     "output_type": "stream",
     "text": [
      "   df_resid           ssr  df_diff      ss_diff          F        Pr(>F)\n",
      "0     504.0  31977.336895      0.0          NaN        NaN           NaN\n",
      "1     502.0  26982.793319      2.0  4994.543576  46.460365  3.071837e-19\n",
      "--------------------------------------------------------------------------------\n",
      "rad\n",
      "   df_resid           ssr  df_diff     ss_diff        F    Pr(>F)\n",
      "0     504.0  22744.611548      0.0         NaN      NaN       NaN\n",
      "1     502.0  22416.555537      2.0  328.056012  3.67327  0.026078\n",
      "--------------------------------------------------------------------------------\n",
      "tax\n",
      "   df_resid           ssr  df_diff      ss_diff          F    Pr(>F)\n",
      "0     504.0  24674.139624      0.0          NaN        NaN       NaN\n",
      "1     502.0  23580.598960      2.0  1093.540664  11.640023  0.000011\n",
      "--------------------------------------------------------------------------------\n",
      "ptratio\n",
      "   df_resid           ssr  df_diff     ss_diff        F    Pr(>F)\n",
      "0     504.0  34222.154244      0.0         NaN      NaN       NaN\n",
      "1     502.0  33111.975654      2.0  1110.17859  8.41553  0.000254\n",
      "--------------------------------------------------------------------------------\n",
      "black\n",
      "   df_resid           ssr  df_diff    ss_diff         F   Pr(>F)\n",
      "0     504.0  31823.218667      0.0        NaN       NaN      NaN\n",
      "1     502.0  31764.723204      2.0  58.495463  0.462222  0.63015\n",
      "--------------------------------------------------------------------------------\n",
      "lstat\n",
      "   df_resid           ssr  df_diff     ss_diff         F    Pr(>F)\n",
      "0     504.0  29606.955895      0.0         NaN       NaN       NaN\n",
      "1     502.0  29220.564139      2.0  386.391756  3.319044  0.036983\n",
      "--------------------------------------------------------------------------------\n",
      "medv\n",
      "   df_resid           ssr  df_diff      ss_diff           F        Pr(>F)\n",
      "0     504.0  31729.577854      0.0          NaN         NaN           NaN\n",
      "1     502.0  21663.186524      2.0  10066.39133  116.634006  2.504778e-42\n",
      "--------------------------------------------------------------------------------\n"
     ]
    }
   ],
   "source": [
    "single_betas = [] \n",
    "for predictor in boston.columns.drop([\"crim\", \"const\"]):\n",
    "    print(predictor)\n",
    "    simple_model = smf.ols(f\"crim ~ {predictor}\", data=boston)\n",
    "    simple_results = simple_model.fit()\n",
    "    poly_model = smf.ols(f\"crim ~ {predictor} + np.square({predictor}) + np.power({predictor}, 3)\", data=boston)\n",
    "    poly_results = poly_model.fit()\n",
    "    # Get the ANOVA\n",
    "    print(statsmodels.stats.anova.anova_lm(simple_results, poly_results))\n",
    "    print(\"-\"*80)"
   ]
  },
  {
   "cell_type": "markdown",
   "metadata": {},
   "source": [
    "For `chas`, `rad`, `black`,  and `lstat` there is insufficient evidence of non-linear association. For all other predictors, including terms up to X^3 improves the fit."
   ]
  },
  {
   "cell_type": "code",
   "execution_count": null,
   "metadata": {},
   "outputs": [],
   "source": []
  }
 ],
 "metadata": {
  "kernelspec": {
   "display_name": "Python 3",
   "language": "python",
   "name": "python3"
  },
  "language_info": {
   "codemirror_mode": {
    "name": "ipython",
    "version": 3
   },
   "file_extension": ".py",
   "mimetype": "text/x-python",
   "name": "python",
   "nbconvert_exporter": "python",
   "pygments_lexer": "ipython3",
   "version": "3.6.8"
  }
 },
 "nbformat": 4,
 "nbformat_minor": 2
}
