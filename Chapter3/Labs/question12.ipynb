{
 "cells": [
  {
   "cell_type": "markdown",
   "metadata": {},
   "source": [
    "# Chapter 3 Applied Labs\n",
    "\n",
    "\n",
    "## Q12 (investigating linear regression without an intercept)\n",
    "\n"
   ]
  },
  {
   "cell_type": "code",
   "execution_count": 1,
   "metadata": {},
   "outputs": [],
   "source": [
    "import numpy as np\n",
    "import statsmodels.api as sm\n"
   ]
  },
  {
   "cell_type": "markdown",
   "metadata": {},
   "source": [
    "### (a) the coefficient estimate $\\beta$ for linear regression of y onto x without an intercept is:\n",
    "\n",
    "$$ \\beta = \\left( \\sum_i{ x_i y_i} \\right) / \\left( \\sum_i{ x_i^2 } \\right) $$\n",
    "\n",
    "\n",
    "Under what conditions is  $\\beta$ for the regression of y onto x equal to that of x onto y?\n",
    "\n",
    "(Answer: when $\\sum_i{ x_i^2 }$ is equal to $\\sum_i{ y_i^2 }$ )."
   ]
  },
  {
   "cell_type": "markdown",
   "metadata": {},
   "source": [
    "### (b) generate an example with n=100 observations in which the coefficient estimate for the x~y and y~x regressions are different"
   ]
  },
  {
   "cell_type": "code",
   "execution_count": 2,
   "metadata": {},
   "outputs": [],
   "source": [
    "def getBetaNoIntercept(x, y):\n",
    "    \"\"\"\n",
    "    given two numpy arrays with predictor x and response y, calculate the coefficient estimate for a linear fit.\n",
    "    \"\"\"\n",
    "    return np.sum(x*y)/np.sum(np.square(x))\n",
    "    "
   ]
  },
  {
   "cell_type": "code",
   "execution_count": 3,
   "metadata": {},
   "outputs": [
    {
     "name": "stdout",
     "output_type": "stream",
     "text": [
      "2.108488988790759 2.10848898879076\n"
     ]
    }
   ],
   "source": [
    "# Test our function\n",
    "x = np.random.normal(size=100)\n",
    "y= 2*x + np.random.normal(size=100)\n",
    "model = sm.OLS(y, x)\n",
    "results = model.fit()\n",
    "beta_expected = results.params[0]\n",
    "beta_generated = getBetaNoIntercept(x,y)\n",
    "print(beta_expected, beta_generated)"
   ]
  },
  {
   "cell_type": "code",
   "execution_count": 4,
   "metadata": {},
   "outputs": [
    {
     "name": "stdout",
     "output_type": "stream",
     "text": [
      "111.83523247323001\n",
      "600.5505627187837\n",
      "2.10848898879076\n",
      "0.3926453006074004\n"
     ]
    }
   ],
   "source": [
    "print(np.sum(np.square(x)))\n",
    "print(np.sum(np.square(y)))\n",
    "# the sum of squares is different, so the coefficients should be different\n",
    "print(getBetaNoIntercept(x,y))\n",
    "print(getBetaNoIntercept(y,x))"
   ]
  },
  {
   "cell_type": "markdown",
   "metadata": {},
   "source": [
    "### (c) generate an example with n=100 observations in which the coefficient estimate for the x~y and y~x regressions are the same"
   ]
  },
  {
   "cell_type": "code",
   "execution_count": 5,
   "metadata": {},
   "outputs": [
    {
     "name": "stdout",
     "output_type": "stream",
     "text": [
      "0.15133382028748227\n",
      "0.15133382028748224\n"
     ]
    }
   ],
   "source": [
    "x = 10*np.random.normal(size=100)\n",
    "\n",
    "sumOfSquare = np.sum(np.square(x))\n",
    "\n",
    "y = [np.sqrt(sumOfSquare/100)]*100\n",
    "\n",
    "print(getBetaNoIntercept(x,y))\n",
    "print(getBetaNoIntercept(y,x))"
   ]
  }
 ],
 "metadata": {
  "kernelspec": {
   "display_name": "Python 3",
   "language": "python",
   "name": "python3"
  },
  "language_info": {
   "codemirror_mode": {
    "name": "ipython",
    "version": 3
   },
   "file_extension": ".py",
   "mimetype": "text/x-python",
   "name": "python",
   "nbconvert_exporter": "python",
   "pygments_lexer": "ipython3",
   "version": "3.6.8"
  }
 },
 "nbformat": 4,
 "nbformat_minor": 2
}
