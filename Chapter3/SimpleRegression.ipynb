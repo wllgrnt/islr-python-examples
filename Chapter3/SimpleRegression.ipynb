{
 "cells": [
  {
   "cell_type": "markdown",
   "metadata": {},
   "source": [
    "# Chapter 3\n",
    "## Lab: Linear Regression\n",
    "\n",
    "\n",
    "We need the Boston data set as before\n",
    "\n"
   ]
  },
  {
   "cell_type": "code",
   "execution_count": 111,
   "metadata": {},
   "outputs": [],
   "source": [
    "import pandas as pd\n",
    "import numpy as np\n",
    "import matplotlib.pyplot as plt\n",
    "import seaborn as sns\n",
    "import math\n",
    "from sklearn.datasets import load_boston\n",
    "from sklearn import linear_model, metrics\n",
    "import scipy.stats\n",
    "# NB could also use scipy.linalg.lstsq, \n",
    "# which sklearn's LinearRegression is a wrapper for\n",
    "sns.set(style=\"whitegrid\")"
   ]
  },
  {
   "cell_type": "code",
   "execution_count": 5,
   "metadata": {},
   "outputs": [
    {
     "data": {
      "text/html": [
       "<div>\n",
       "<style scoped>\n",
       "    .dataframe tbody tr th:only-of-type {\n",
       "        vertical-align: middle;\n",
       "    }\n",
       "\n",
       "    .dataframe tbody tr th {\n",
       "        vertical-align: top;\n",
       "    }\n",
       "\n",
       "    .dataframe thead th {\n",
       "        text-align: right;\n",
       "    }\n",
       "</style>\n",
       "<table border=\"1\" class=\"dataframe\">\n",
       "  <thead>\n",
       "    <tr style=\"text-align: right;\">\n",
       "      <th></th>\n",
       "      <th>CRIM</th>\n",
       "      <th>ZN</th>\n",
       "      <th>INDUS</th>\n",
       "      <th>CHAS</th>\n",
       "      <th>NOX</th>\n",
       "      <th>RM</th>\n",
       "      <th>AGE</th>\n",
       "      <th>DIS</th>\n",
       "      <th>RAD</th>\n",
       "      <th>TAX</th>\n",
       "      <th>PTRATIO</th>\n",
       "      <th>B</th>\n",
       "      <th>LSTAT</th>\n",
       "      <th>MEDV</th>\n",
       "    </tr>\n",
       "  </thead>\n",
       "  <tbody>\n",
       "    <tr>\n",
       "      <th>0</th>\n",
       "      <td>0.00632</td>\n",
       "      <td>18.0</td>\n",
       "      <td>2.31</td>\n",
       "      <td>0.0</td>\n",
       "      <td>0.538</td>\n",
       "      <td>6.575</td>\n",
       "      <td>65.2</td>\n",
       "      <td>4.0900</td>\n",
       "      <td>1.0</td>\n",
       "      <td>296.0</td>\n",
       "      <td>15.3</td>\n",
       "      <td>396.90</td>\n",
       "      <td>4.98</td>\n",
       "      <td>24.0</td>\n",
       "    </tr>\n",
       "    <tr>\n",
       "      <th>1</th>\n",
       "      <td>0.02731</td>\n",
       "      <td>0.0</td>\n",
       "      <td>7.07</td>\n",
       "      <td>0.0</td>\n",
       "      <td>0.469</td>\n",
       "      <td>6.421</td>\n",
       "      <td>78.9</td>\n",
       "      <td>4.9671</td>\n",
       "      <td>2.0</td>\n",
       "      <td>242.0</td>\n",
       "      <td>17.8</td>\n",
       "      <td>396.90</td>\n",
       "      <td>9.14</td>\n",
       "      <td>21.6</td>\n",
       "    </tr>\n",
       "    <tr>\n",
       "      <th>2</th>\n",
       "      <td>0.02729</td>\n",
       "      <td>0.0</td>\n",
       "      <td>7.07</td>\n",
       "      <td>0.0</td>\n",
       "      <td>0.469</td>\n",
       "      <td>7.185</td>\n",
       "      <td>61.1</td>\n",
       "      <td>4.9671</td>\n",
       "      <td>2.0</td>\n",
       "      <td>242.0</td>\n",
       "      <td>17.8</td>\n",
       "      <td>392.83</td>\n",
       "      <td>4.03</td>\n",
       "      <td>34.7</td>\n",
       "    </tr>\n",
       "    <tr>\n",
       "      <th>3</th>\n",
       "      <td>0.03237</td>\n",
       "      <td>0.0</td>\n",
       "      <td>2.18</td>\n",
       "      <td>0.0</td>\n",
       "      <td>0.458</td>\n",
       "      <td>6.998</td>\n",
       "      <td>45.8</td>\n",
       "      <td>6.0622</td>\n",
       "      <td>3.0</td>\n",
       "      <td>222.0</td>\n",
       "      <td>18.7</td>\n",
       "      <td>394.63</td>\n",
       "      <td>2.94</td>\n",
       "      <td>33.4</td>\n",
       "    </tr>\n",
       "    <tr>\n",
       "      <th>4</th>\n",
       "      <td>0.06905</td>\n",
       "      <td>0.0</td>\n",
       "      <td>2.18</td>\n",
       "      <td>0.0</td>\n",
       "      <td>0.458</td>\n",
       "      <td>7.147</td>\n",
       "      <td>54.2</td>\n",
       "      <td>6.0622</td>\n",
       "      <td>3.0</td>\n",
       "      <td>222.0</td>\n",
       "      <td>18.7</td>\n",
       "      <td>396.90</td>\n",
       "      <td>5.33</td>\n",
       "      <td>36.2</td>\n",
       "    </tr>\n",
       "  </tbody>\n",
       "</table>\n",
       "</div>"
      ],
      "text/plain": [
       "      CRIM    ZN  INDUS  CHAS    NOX     RM   AGE     DIS  RAD    TAX  \\\n",
       "0  0.00632  18.0   2.31   0.0  0.538  6.575  65.2  4.0900  1.0  296.0   \n",
       "1  0.02731   0.0   7.07   0.0  0.469  6.421  78.9  4.9671  2.0  242.0   \n",
       "2  0.02729   0.0   7.07   0.0  0.469  7.185  61.1  4.9671  2.0  242.0   \n",
       "3  0.03237   0.0   2.18   0.0  0.458  6.998  45.8  6.0622  3.0  222.0   \n",
       "4  0.06905   0.0   2.18   0.0  0.458  7.147  54.2  6.0622  3.0  222.0   \n",
       "\n",
       "   PTRATIO       B  LSTAT  MEDV  \n",
       "0     15.3  396.90   4.98  24.0  \n",
       "1     17.8  396.90   9.14  21.6  \n",
       "2     17.8  392.83   4.03  34.7  \n",
       "3     18.7  394.63   2.94  33.4  \n",
       "4     18.7  396.90   5.33  36.2  "
      ]
     },
     "execution_count": 5,
     "metadata": {},
     "output_type": "execute_result"
    }
   ],
   "source": [
    "boston = load_boston()\n",
    "headers = [\"CRIM\", \"ZN\", \"INDUS\", \"CHAS\", \"NOX\",\n",
    "           \"RM\", \"AGE\", \"DIS\", \"RAD\", \"TAX\",\n",
    "           \"PTRATIO\", \"B\", \"LSTAT\", \"MEDV\"]\n",
    "boston_array = np.concatenate((boston.data, boston.target[:, np.newaxis]), axis=1)\n",
    "\n",
    "boston_dataframe = pd.DataFrame(data=boston_array, columns=headers)\n",
    "boston_dataframe.head()"
   ]
  },
  {
   "cell_type": "code",
   "execution_count": 3,
   "metadata": {},
   "outputs": [],
   "source": [
    "# Maybe I should show the Python-data-science version, and also implement my own version?"
   ]
  },
  {
   "cell_type": "markdown",
   "metadata": {},
   "source": [
    "**Fit a simple linear regression model, with MEDV as the response and LSTAT as the predictor**"
   ]
  },
  {
   "cell_type": "code",
   "execution_count": 71,
   "metadata": {},
   "outputs": [
    {
     "data": {
      "image/png": "[encoded data removed]",
      "text/plain": [
       "<Figure size 1080x720 with 1 Axes>"
      ]
     },
     "metadata": {},
     "output_type": "display_data"
    }
   ],
   "source": [
    "\n",
    "regr = sklearn.linear_model.LinearRegression()\n",
    "\n",
    "# The X_train needs to be 2D to work with sklearn \n",
    "x_train = boston_dataframe.LSTAT.to_numpy().reshape(-1, 1)\n",
    "y_train = boston_dataframe.MEDV\n",
    "regr.fit(x_train, y_train)\n",
    "\n",
    "# Make predictions using the testing set\n",
    "y_pred = regr.predict(x_train)\n",
    "\n",
    "# Plot the fit\n",
    "fig, ax = plt.subplots(figsize=(15,10))\n",
    "plt.scatter(x_train, y_train,  color='black')\n",
    "plt.plot(x_train, y_pred, color='blue', linewidth=3)\n",
    "plt.show()"
   ]
  },
  {
   "cell_type": "code",
   "execution_count": 72,
   "metadata": {},
   "outputs": [
    {
     "name": "stdout",
     "output_type": "stream",
     "text": [
      "Coefficient: -0.95\n",
      "Intercept: 34.55\n"
     ]
    }
   ],
   "source": []
  },
  {
   "cell_type": "code",
   "execution_count": 120,
   "metadata": {},
   "outputs": [],
   "source": [
    "def getRSS(y_train, y_pred):\n",
    "    \"\"\"\n",
    "    Given a 1D array of observed and predicted y values,\n",
    "    calculate the sum of the square distances between the elements.\n",
    "    \"\"\"\n",
    "    assert len(y_train) == len(y_pred)\n",
    "    return np.sum(np.square(y_train - y_pred))\n",
    "    \n",
    "def getRSE(y_train, y_pred):\n",
    "    \"\"\"\n",
    "    RSE (Residual Standard Error) roughly gives the average \n",
    "    amount that the response will deviate from the true regression\n",
    "    line, due to the error terms \\epsilon (irreducible error),\n",
    "    i.e. RSE ~ \\sigma, where sigma^2 = Var(\\epsilon)\n",
    "    RSE ~ sqrt(RSS/n-2), where RSS is the residual sum of squares.\n",
    "    \"\"\"\n",
    "    assert len(y_train) == len(y_pred)  \n",
    "    RSS = getRSS(y_train, y_pred)\n",
    "    n = len(y_train)\n",
    "    return math.sqrt(RSS/(n-2))\n",
    "    \n",
    "    \n",
    "\n",
    "def getStdErrorsFromLinearRegression(x_train, y_train, y_pred):\n",
    "    \"\"\"\n",
    "    The std error in the intercept is\n",
    "    \n",
    "    SE(B_0)^2 = sigma^2 * (1/n + x_mean^2/sum((x_i - x_mean)^2)\n",
    "    \n",
    "    The std error in the first coefficient is\n",
    "    \n",
    "    SE(B_1)^2 = sigma^2/sum((x_i - x_mean)^2)\n",
    "    \n",
    "    where sigma is roughly the RSE\n",
    "    \"\"\"\n",
    "    x_mean = np.mean(x_train)\n",
    "    sigma  = getRSE(y_train, y_pred)\n",
    "    n = len(x_train)\n",
    "    SE_B0 = math.sqrt(sigma**2 * (1/n + x_mean**2/np.sum(np.square(x_train-x_mean))))\n",
    "    SE_B1 = math.sqrt(sigma**2 / np.sum(np.square(x_train-x_mean)))\n",
    "    \n",
    "    return SE_B0, SE_B1\n",
    "\n",
    "def getTStatisticForCoefficient(coefficient, std_error):\n",
    "    \"\"\"\n",
    "    This is the number of standard deviations that the coefficient is away from 0.\n",
    "    \"\"\"\n",
    "    return coefficient/std_error\n",
    "\n",
    "def getPValueForCoefficient(t, n):\n",
    "    \"\"\"\n",
    "    If there's no relationship between X and Y, we expect the t-statistic given above to \n",
    "    have a t-distribution with n-2 degrees of freedom (roughly a normal dist.)\n",
    "    \"\"\"\n",
    "    p = 1 - scipy.stats.t.cdf(t,df=n-2)\n",
    "    if t > 0:\n",
    "        return p\n",
    "    else:\n",
    "        return 1-p"
   ]
  },
  {
   "cell_type": "code",
   "execution_count": 123,
   "metadata": {
    "scrolled": true
   },
   "outputs": [
    {
     "name": "stdout",
     "output_type": "stream",
     "text": [
      "B_0 (intercept): 34.55  B_1 (gradient): -0.95\n",
      "Standard errors in the coefficients: 0.56, 0.04\n",
      "t-statistic for these errors: 61.42, -24.53\n",
      "Associated p-values: 0.00000, 0.00000\n"
     ]
    }
   ],
   "source": [
    "# The coefficients of the fit\n",
    "B1 = regr.coef_[0]\n",
    "B0 = regr.intercept_\n",
    "print(f'B_0 (intercept): {B0:.2f}  B_1 (gradient): {B1:.2f}')\n",
    "\n",
    "# p-values and standard errors for the coefficients\n",
    "SE_B0, SE_B1 = getStdErrorsFromLinearRegression(x_train, y_train, y_pred)\n",
    "print(f\"Standard errors in the coefficients: {SE_B0:.2f}, {SE_B1:.2f}\")\n",
    "\n",
    "t_B0 = getTStatisticForCoefficient(B0, SE_B0)\n",
    "t_B1 = getTStatisticForCoefficient(B1, SE_B1)\n",
    "print(f\"t-statistic for these errors: {t_B0:.2f}, {t_B1:.2f}\")\n",
    "\n",
    "\n",
    "p_B0 = getPValueForCoefficient(t_B0, len(x_train))\n",
    "p_B1 = getPValueForCoefficient(t_B1, len(x_train))\n",
    "print(f\"Associated p-values: {p_B0:.5f}, {p_B1:.5f}\")"
   ]
  },
  {
   "cell_type": "code",
   "execution_count": 135,
   "metadata": {},
   "outputs": [],
   "source": [
    "def getTSS(y_train, y_pred):\n",
    "    \"\"\"\n",
    "    TSS is the total sum of squares sum(y_i - y_mean)^2 \n",
    "    \"\"\"\n",
    "    y_mean = np.mean(y_train)\n",
    "    TSS = np.sum(np.square(y_train - y_mean))\n",
    "    return TSS\n",
    "    \n",
    "def getR2(y_train, y_pred):\n",
    "    \"\"\"\n",
    "    The fraction of the variance explained by the data.\n",
    "    R2 = (TSS-RSS)/TSS\n",
    "    \"\"\"\n",
    "    RSS =getRSS(y_train, y_pred)\n",
    "    TSS = getTSS(y_train, y_pred)\n",
    "    return 1 - RSS/TSS\n",
    "\n",
    "def getFStatistic(y_train, y_pred, p):\n",
    "    \"\"\"\n",
    "    The f-statistic is used to test the null hypothesis that all coefficients in the\n",
    "    model are zero.\n",
    "    \n",
    "    F = ( (TSS-RSS)/p ) / ( RSS/(n-p-1) ) where p is the number of features/predictors\n",
    "    \"\"\"\n",
    "    TSS = getTSS(y_train, y_pred)\n",
    "    RSS = getRSS(y_train, y_pred)\n",
    "    n = len(y_train)\n",
    "    F = ( (TSS-RSS)/p ) / ( RSS/(n-p-1) )\n",
    "    return F\n",
    "\n",
    "def getPValueGivenFStatistic(F, n, p):\n",
    "    \"\"\"\n",
    "    Given that the null hypothesis is true that all coefficients are zero,\n",
    "    and the errors are normally distributed, we expect F to follow an F-distribution.\n",
    "    \"\"\"\n",
    "    \n",
    "    p = 1 - scipy.stats.f.cdf(F, p, n)\n",
    "    return p\n",
    "    "
   ]
  },
  {
   "cell_type": "code",
   "execution_count": 136,
   "metadata": {},
   "outputs": [
    {
     "name": "stdout",
     "output_type": "stream",
     "text": [
      "Residual standard error: 6.22\n",
      "R2 score (i.e fraction of variance explained): 0.54\n",
      "F-statistic for the model: 601.62\n",
      "Associated p-value: 0.00\n"
     ]
    }
   ],
   "source": [
    "# Properties of the model itself: \n",
    "# RSE\n",
    "print(f\"Residual standard error: {getRSE(y_train, y_pred):.2f}\")\n",
    "\n",
    "#The R^2 statistic\n",
    "R2 =  getR2(y_train, y_pred)\n",
    "print(f'R2 score (i.e fraction of variance explained): {R2:.2f}')\n",
    "\n",
    "# The F-statistic for the model\n",
    "p=1\n",
    "F = getFStatistic(y_train, y_pred, p)\n",
    "print(f\"F-statistic for the model: {F:.2f}\")\n",
    "\n",
    "p_F = getPValueGivenFStatistic(F, len(x_train), p)\n",
    "print(f\"Associated p-value: {p_F:.2f}\")\n"
   ]
  },
  {
   "cell_type": "code",
   "execution_count": 140,
   "metadata": {},
   "outputs": [
    {
     "name": "stdout",
     "output_type": "stream",
     "text": [
      "confidence interval for B0: (33.428586169406245, 35.679095589359974)\n",
      "confidence interval for B1: (-1.0275161861832698, -0.8725825213327121)\n"
     ]
    }
   ],
   "source": [
    "\"\"\"\n",
    "Confidence intervals for the coefficients: \n",
    "\n",
    "Roughly coeff +- 2* standard_error \n",
    "(it's not quite 2, isn't the 97.5th quantile of a t-distribution with n-2 DoF)\n",
    "\"\"\"\n",
    "confidence_b0 = (B0 - 2*SE_B0, B0 + 2*SE_B0)\n",
    "confidence_b1 = (B1 - 2*SE_B1, B1 + 2*SE_B1)\n",
    "print(f\"confidence interval for B0: {confidence_b0}\")\n",
    "print(f\"confidence interval for B1: {confidence_b1}\")\n",
    "\n"
   ]
  },
  {
   "cell_type": "code",
   "execution_count": 148,
   "metadata": {},
   "outputs": [
    {
     "name": "stdout",
     "output_type": "stream",
     "text": [
      "[29.80359411 25.05334734 20.30310057]\n",
      "[30.541514658443624, 25.403933727527274, 20.266352796610928]\n",
      "[29.065673562742685, 24.702760956079125, 20.33984834941556]\n"
     ]
    }
   ],
   "source": [
    "# Using these, we can get confidence intervals for our values\n",
    "# Whats the difference between confidence and prediction intervals?\n",
    "\n",
    "def getUpperLimit(confidence_b0, confidence_b1, x_value):\n",
    "    return \n",
    "\n",
    "print(regr.predict([[5],[10],[15]]))\n",
    "print([confidence_b0[1] + confidence_b1[0]*x_value for x_value in [5,10,15]])\n",
    "print([confidence_b0[0] + confidence_b1[1]*x_value for x_value in [5,10,15]])\n"
   ]
  },
  {
   "cell_type": "code",
   "execution_count": null,
   "metadata": {},
   "outputs": [],
   "source": []
  }
 ],
 "metadata": {
  "kernelspec": {
   "display_name": "Python 3",
   "language": "python",
   "name": "python3"
  },
  "language_info": {
   "codemirror_mode": {
    "name": "ipython",
    "version": 3
   },
   "file_extension": ".py",
   "mimetype": "text/x-python",
   "name": "python",
   "nbconvert_exporter": "python",
   "pygments_lexer": "ipython3",
   "version": "3.6.8"
  }
 },
 "nbformat": 4,
 "nbformat_minor": 2
}
